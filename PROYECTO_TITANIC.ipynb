{
 "cells": [
  {
   "cell_type": "markdown",
   "metadata": {},
   "source": [
    "# DATOS RELEVANTES "
   ]
  },
  {
   "cell_type": "code",
   "execution_count": 2,
   "metadata": {},
   "outputs": [],
   "source": [
    "import pandas as pd\n",
    "import numpy as np \n",
    "import seaborn as sns\n",
    "import matplotlib.pyplot as plt"
   ]
  },
  {
   "cell_type": "code",
   "execution_count": 3,
   "metadata": {},
   "outputs": [],
   "source": [
    "titanic = pd.read_csv(r'C:\\Users\\Jesús\\Desktop\\BOOTCAMP\\RETOS\\EjTecnicos\\titanic.csv')"
   ]
  },
  {
   "cell_type": "code",
   "execution_count": 4,
   "metadata": {},
   "outputs": [],
   "source": [
    "titanic = titanic.rename(columns=str.lower)"
   ]
  },
  {
   "cell_type": "code",
   "execution_count": 5,
   "metadata": {},
   "outputs": [],
   "source": [
    "valores_nulos = titanic.isnull().sum()\n",
    "## 177 "
   ]
  },
  {
   "cell_type": "code",
   "execution_count": 6,
   "metadata": {},
   "outputs": [],
   "source": [
    "##### COMPLETAMOS EDAD NULA CON MEDIA\n",
    "media_titanic = titanic['age'].mean()\n",
    "titanic['age'].fillna(media_titanic, inplace=True)"
   ]
  },
  {
   "cell_type": "markdown",
   "metadata": {},
   "source": [
    "****"
   ]
  },
  {
   "cell_type": "code",
   "execution_count": 7,
   "metadata": {},
   "outputs": [
    {
     "name": "stdout",
     "output_type": "stream",
     "text": [
      "Clase de los pasajeros embarcados en el puerto S:\n",
      "3    353\n",
      "2    164\n",
      "1    127\n",
      "Name: pclass, dtype: int64\n",
      "\n",
      "Clase de los pasajeros embarcados en el puerto C:\n",
      "1    85\n",
      "3    66\n",
      "2    17\n",
      "Name: pclass, dtype: int64\n",
      "\n",
      "Clase de los pasajeros embarcados en el puerto Q:\n",
      "3    72\n",
      "2     3\n",
      "1     2\n",
      "Name: pclass, dtype: int64\n"
     ]
    }
   ],
   "source": [
    "clase_puerto_S = titanic[titanic['embarked'] == 'S']['pclass'].value_counts()\n",
    "clase_puerto_C = titanic[titanic['embarked'] == 'C']['pclass'].value_counts()\n",
    "clase_puerto_Q = titanic[titanic['embarked'] == 'Q']['pclass'].value_counts()\n",
    "\n",
    "print(\"Clase de los pasajeros embarcados en el puerto S:\")\n",
    "print(clase_puerto_S)\n",
    "print(\"\\nClase de los pasajeros embarcados en el puerto C:\")\n",
    "print(clase_puerto_C)\n",
    "print(\"\\nClase de los pasajeros embarcados en el puerto Q:\")\n",
    "print(clase_puerto_Q)"
   ]
  },
  {
   "cell_type": "code",
   "execution_count": 8,
   "metadata": {},
   "outputs": [
    {
     "data": {
      "text/plain": [
       "644"
      ]
     },
     "execution_count": 8,
     "metadata": {},
     "output_type": "execute_result"
    }
   ],
   "source": [
    "total_S = clase_puerto_S.sum()\n",
    "total_S"
   ]
  },
  {
   "cell_type": "code",
   "execution_count": 9,
   "metadata": {},
   "outputs": [
    {
     "data": {
      "text/plain": [
       "168"
      ]
     },
     "execution_count": 9,
     "metadata": {},
     "output_type": "execute_result"
    }
   ],
   "source": [
    "total_C = clase_puerto_C.sum()\n",
    "total_C"
   ]
  },
  {
   "cell_type": "code",
   "execution_count": 10,
   "metadata": {},
   "outputs": [
    {
     "data": {
      "text/plain": [
       "77"
      ]
     },
     "execution_count": 10,
     "metadata": {},
     "output_type": "execute_result"
    }
   ],
   "source": [
    "total_Q = clase_puerto_Q.sum()\n",
    "total_Q"
   ]
  },
  {
   "cell_type": "code",
   "execution_count": 1,
   "metadata": {},
   "outputs": [
    {
     "data": {
      "text/plain": [
       "427"
      ]
     },
     "execution_count": 1,
     "metadata": {},
     "output_type": "execute_result"
    }
   ],
   "source": [
    "53+88+286"
   ]
  },
  {
   "cell_type": "code",
   "execution_count": 2,
   "metadata": {},
   "outputs": [
    {
     "data": {
      "text/plain": [
       "75"
      ]
     },
     "execution_count": 2,
     "metadata": {},
     "output_type": "execute_result"
    }
   ],
   "source": [
    "26 + 8 + 41"
   ]
  },
  {
   "cell_type": "code",
   "execution_count": 3,
   "metadata": {},
   "outputs": [
    {
     "data": {
      "text/plain": [
       "47"
      ]
     },
     "execution_count": 3,
     "metadata": {},
     "output_type": "execute_result"
    }
   ],
   "source": [
    "1 + 1 + 45"
   ]
  },
  {
   "cell_type": "markdown",
   "metadata": {},
   "source": [
    "# OJO GRAFICAR\n",
    "Un total de 286 personas de 353 fallecieron de 3aclase"
   ]
  },
  {
   "cell_type": "code",
   "execution_count": 11,
   "metadata": {},
   "outputs": [
    {
     "data": {
      "text/plain": [
       "286"
      ]
     },
     "execution_count": 11,
     "metadata": {},
     "output_type": "execute_result"
    }
   ],
   "source": [
    "tercera_clase_fallecidos_S = titanic[(titanic['embarked'] == 'S') & (titanic['pclass'] == 3) & (titanic['survived'] == 0)]\n",
    "cantidad_tercera_clase_fallecidos_S = len(tercera_clase_fallecidos_S)\n",
    "cantidad_tercera_clase_fallecidos_S"
   ]
  },
  {
   "cell_type": "code",
   "execution_count": 12,
   "metadata": {},
   "outputs": [
    {
     "data": {
      "text/plain": [
       "168"
      ]
     },
     "execution_count": 12,
     "metadata": {},
     "output_type": "execute_result"
    }
   ],
   "source": [
    "total_C = clase_puerto_C.sum()\n",
    "total_C "
   ]
  },
  {
   "cell_type": "code",
   "execution_count": 13,
   "metadata": {},
   "outputs": [
    {
     "data": {
      "text/plain": [
       "77"
      ]
     },
     "execution_count": 13,
     "metadata": {},
     "output_type": "execute_result"
    }
   ],
   "source": [
    "total_Q = clase_puerto_Q.sum()\n",
    "total_Q"
   ]
  },
  {
   "cell_type": "code",
   "execution_count": 14,
   "metadata": {},
   "outputs": [
    {
     "data": {
      "text/plain": [
       "3    491\n",
       "1    216\n",
       "2    184\n",
       "Name: pclass, dtype: int64"
      ]
     },
     "execution_count": 14,
     "metadata": {},
     "output_type": "execute_result"
    }
   ],
   "source": [
    "titanic['pclass'].value_counts() "
   ]
  },
  {
   "cell_type": "code",
   "execution_count": 15,
   "metadata": {},
   "outputs": [
    {
     "data": {
      "text/plain": [
       "81.01983002832861"
      ]
     },
     "execution_count": 15,
     "metadata": {},
     "output_type": "execute_result"
    }
   ],
   "source": [
    "muetos3 = (286/353)*100\n",
    "muetos3"
   ]
  },
  {
   "cell_type": "code",
   "execution_count": 16,
   "metadata": {},
   "outputs": [
    {
     "data": {
      "text/plain": [
       "41"
      ]
     },
     "execution_count": 16,
     "metadata": {},
     "output_type": "execute_result"
    }
   ],
   "source": [
    "tercera_clase_fallecidos_C = titanic[(titanic['embarked'] == 'C') & (titanic['pclass'] == 3) & (titanic['survived'] == 0)]\n",
    "cantidad_tercera_clase_fallecidos_C = len(tercera_clase_fallecidos_C)\n",
    "cantidad_tercera_clase_fallecidos_C"
   ]
  },
  {
   "cell_type": "code",
   "execution_count": 17,
   "metadata": {},
   "outputs": [
    {
     "data": {
      "text/plain": [
       "62.121212121212125"
      ]
     },
     "execution_count": 17,
     "metadata": {},
     "output_type": "execute_result"
    }
   ],
   "source": [
    "muetosC3 = (41/66)*100\n",
    "muetosC3"
   ]
  },
  {
   "cell_type": "code",
   "execution_count": 18,
   "metadata": {},
   "outputs": [
    {
     "data": {
      "text/plain": [
       "45"
      ]
     },
     "execution_count": 18,
     "metadata": {},
     "output_type": "execute_result"
    }
   ],
   "source": [
    "tercera_clase_fallecidos_Q = titanic[(titanic['embarked'] == 'Q') & (titanic['pclass'] == 3) & (titanic['survived'] == 0)]\n",
    "cantidad_tercera_clase_fallecidos_Q = len(tercera_clase_fallecidos_Q)\n",
    "cantidad_tercera_clase_fallecidos_Q"
   ]
  },
  {
   "cell_type": "code",
   "execution_count": 19,
   "metadata": {},
   "outputs": [
    {
     "data": {
      "text/plain": [
       "62.5"
      ]
     },
     "execution_count": 19,
     "metadata": {},
     "output_type": "execute_result"
    }
   ],
   "source": [
    "muetosq3= (45/72)*100\n",
    "muetosq3"
   ]
  },
  {
   "cell_type": "markdown",
   "metadata": {},
   "source": [
    "# 2a clase"
   ]
  },
  {
   "cell_type": "code",
   "execution_count": 20,
   "metadata": {},
   "outputs": [
    {
     "data": {
      "text/plain": [
       "88"
      ]
     },
     "execution_count": 20,
     "metadata": {},
     "output_type": "execute_result"
    }
   ],
   "source": [
    "segunda_clase_fallecidos_S = titanic[(titanic['embarked'] == 'S') & (titanic['pclass'] == 2) & (titanic['survived'] == 0)]\n",
    "cantidad_segunda_clase_fallecidos_S = len(segunda_clase_fallecidos_S)\n",
    "cantidad_segunda_clase_fallecidos_S"
   ]
  },
  {
   "cell_type": "code",
   "execution_count": 21,
   "metadata": {},
   "outputs": [
    {
     "data": {
      "text/plain": [
       "53.65853658536586"
      ]
     },
     "execution_count": 21,
     "metadata": {},
     "output_type": "execute_result"
    }
   ],
   "source": [
    "muetos2s = (88/164)*100\n",
    "muetos2s"
   ]
  },
  {
   "cell_type": "code",
   "execution_count": 22,
   "metadata": {},
   "outputs": [
    {
     "data": {
      "text/plain": [
       "8"
      ]
     },
     "execution_count": 22,
     "metadata": {},
     "output_type": "execute_result"
    }
   ],
   "source": [
    "segunda_clase_fallecidos_C = titanic[(titanic['embarked'] == 'C') & (titanic['pclass'] == 2) & (titanic['survived'] == 0)]\n",
    "cantidad_segunda_clase_fallecidos_C = len(segunda_clase_fallecidos_C)\n",
    "cantidad_segunda_clase_fallecidos_C "
   ]
  },
  {
   "cell_type": "code",
   "execution_count": 23,
   "metadata": {},
   "outputs": [
    {
     "data": {
      "text/plain": [
       "47.05882352941176"
      ]
     },
     "execution_count": 23,
     "metadata": {},
     "output_type": "execute_result"
    }
   ],
   "source": [
    "muetos2c2 = (8/17)*100\n",
    "muetos2c2"
   ]
  },
  {
   "cell_type": "code",
   "execution_count": 24,
   "metadata": {},
   "outputs": [
    {
     "data": {
      "text/plain": [
       "1"
      ]
     },
     "execution_count": 24,
     "metadata": {},
     "output_type": "execute_result"
    }
   ],
   "source": [
    "segunda_clase_fallecidos_Q = titanic[(titanic['embarked'] == 'Q') & (titanic['pclass'] == 2) & (titanic['survived'] == 0)]\n",
    "cantidad_segunda_clase_fallecidos_Q = len(segunda_clase_fallecidos_Q)\n",
    "cantidad_segunda_clase_fallecidos_Q"
   ]
  },
  {
   "cell_type": "code",
   "execution_count": 25,
   "metadata": {},
   "outputs": [
    {
     "data": {
      "text/plain": [
       "33.33333333333333"
      ]
     },
     "execution_count": 25,
     "metadata": {},
     "output_type": "execute_result"
    }
   ],
   "source": [
    "muetos3q3 = (1/3)*100\n",
    "muetos3q3"
   ]
  },
  {
   "cell_type": "markdown",
   "metadata": {},
   "source": [
    "# 1 CLASE"
   ]
  },
  {
   "cell_type": "code",
   "execution_count": 26,
   "metadata": {},
   "outputs": [
    {
     "data": {
      "text/plain": [
       "53"
      ]
     },
     "execution_count": 26,
     "metadata": {},
     "output_type": "execute_result"
    }
   ],
   "source": [
    "primera_clase_fallecidos_S = titanic[(titanic['embarked'] == 'S') & (titanic['pclass'] == 1) & (titanic['survived'] == 0)]\n",
    "cantidad_primera_clase_fallecidos_S = len(primera_clase_fallecidos_S)\n",
    "cantidad_primera_clase_fallecidos_S"
   ]
  },
  {
   "cell_type": "code",
   "execution_count": 27,
   "metadata": {},
   "outputs": [
    {
     "data": {
      "text/plain": [
       "41.732283464566926"
      ]
     },
     "execution_count": 27,
     "metadata": {},
     "output_type": "execute_result"
    }
   ],
   "source": [
    "muetos1s1 = (53/127)*100\n",
    "muetos1s1"
   ]
  },
  {
   "cell_type": "code",
   "execution_count": 28,
   "metadata": {},
   "outputs": [
    {
     "data": {
      "text/plain": [
       "26"
      ]
     },
     "execution_count": 28,
     "metadata": {},
     "output_type": "execute_result"
    }
   ],
   "source": [
    "primera_clase_fallecidos_C = titanic[(titanic['embarked'] == 'C') & (titanic['pclass'] == 1) & (titanic['survived'] == 0)]\n",
    "cantidad_primera_clase_fallecidos_C = len(primera_clase_fallecidos_C)\n",
    "cantidad_primera_clase_fallecidos_C"
   ]
  },
  {
   "cell_type": "code",
   "execution_count": 29,
   "metadata": {},
   "outputs": [
    {
     "data": {
      "text/plain": [
       "30.58823529411765"
      ]
     },
     "execution_count": 29,
     "metadata": {},
     "output_type": "execute_result"
    }
   ],
   "source": [
    "muetos1c1 = (26/85)*100\n",
    "muetos1c1"
   ]
  },
  {
   "cell_type": "code",
   "execution_count": 30,
   "metadata": {},
   "outputs": [
    {
     "data": {
      "text/plain": [
       "1"
      ]
     },
     "execution_count": 30,
     "metadata": {},
     "output_type": "execute_result"
    }
   ],
   "source": [
    "primera_clase_fallecidos_Q = titanic[(titanic['embarked'] == 'Q') & (titanic['pclass'] == 1) & (titanic['survived'] == 0)]\n",
    "cantidad_primera_clase_fallecidos_Q = len(primera_clase_fallecidos_Q)\n",
    "cantidad_primera_clase_fallecidos_Q"
   ]
  },
  {
   "cell_type": "code",
   "execution_count": 31,
   "metadata": {},
   "outputs": [
    {
     "data": {
      "text/plain": [
       "50.0"
      ]
     },
     "execution_count": 31,
     "metadata": {},
     "output_type": "execute_result"
    }
   ],
   "source": [
    "muetos1q1 = (1/2)*100\n",
    "muetos1q1"
   ]
  },
  {
   "cell_type": "markdown",
   "metadata": {},
   "source": [
    "*****"
   ]
  },
  {
   "cell_type": "code",
   "execution_count": 32,
   "metadata": {},
   "outputs": [
    {
     "data": {
      "application/vnd.plotly.v1+json": {
       "config": {
        "plotlyServerURL": "https://plot.ly"
       },
       "data": [
        {
         "labels": [
          "Pasajeros Totales",
          "Pasajeros Primera",
          "Muertos"
         ],
         "marker": {
          "colors": [
           "deepskyblue",
           "tan",
           "silver"
          ]
         },
         "textinfo": "value+percent",
         "type": "funnelarea",
         "values": [
          891,
          216,
          80
         ]
        }
       ],
       "layout": {
        "template": {
         "data": {
          "bar": [
           {
            "error_x": {
             "color": "#f2f5fa"
            },
            "error_y": {
             "color": "#f2f5fa"
            },
            "marker": {
             "line": {
              "color": "rgb(17,17,17)",
              "width": 0.5
             },
             "pattern": {
              "fillmode": "overlay",
              "size": 10,
              "solidity": 0.2
             }
            },
            "type": "bar"
           }
          ],
          "barpolar": [
           {
            "marker": {
             "line": {
              "color": "rgb(17,17,17)",
              "width": 0.5
             },
             "pattern": {
              "fillmode": "overlay",
              "size": 10,
              "solidity": 0.2
             }
            },
            "type": "barpolar"
           }
          ],
          "carpet": [
           {
            "aaxis": {
             "endlinecolor": "#A2B1C6",
             "gridcolor": "#506784",
             "linecolor": "#506784",
             "minorgridcolor": "#506784",
             "startlinecolor": "#A2B1C6"
            },
            "baxis": {
             "endlinecolor": "#A2B1C6",
             "gridcolor": "#506784",
             "linecolor": "#506784",
             "minorgridcolor": "#506784",
             "startlinecolor": "#A2B1C6"
            },
            "type": "carpet"
           }
          ],
          "choropleth": [
           {
            "colorbar": {
             "outlinewidth": 0,
             "ticks": ""
            },
            "type": "choropleth"
           }
          ],
          "contour": [
           {
            "colorbar": {
             "outlinewidth": 0,
             "ticks": ""
            },
            "colorscale": [
             [
              0,
              "#0d0887"
             ],
             [
              0.1111111111111111,
              "#46039f"
             ],
             [
              0.2222222222222222,
              "#7201a8"
             ],
             [
              0.3333333333333333,
              "#9c179e"
             ],
             [
              0.4444444444444444,
              "#bd3786"
             ],
             [
              0.5555555555555556,
              "#d8576b"
             ],
             [
              0.6666666666666666,
              "#ed7953"
             ],
             [
              0.7777777777777778,
              "#fb9f3a"
             ],
             [
              0.8888888888888888,
              "#fdca26"
             ],
             [
              1,
              "#f0f921"
             ]
            ],
            "type": "contour"
           }
          ],
          "contourcarpet": [
           {
            "colorbar": {
             "outlinewidth": 0,
             "ticks": ""
            },
            "type": "contourcarpet"
           }
          ],
          "heatmap": [
           {
            "colorbar": {
             "outlinewidth": 0,
             "ticks": ""
            },
            "colorscale": [
             [
              0,
              "#0d0887"
             ],
             [
              0.1111111111111111,
              "#46039f"
             ],
             [
              0.2222222222222222,
              "#7201a8"
             ],
             [
              0.3333333333333333,
              "#9c179e"
             ],
             [
              0.4444444444444444,
              "#bd3786"
             ],
             [
              0.5555555555555556,
              "#d8576b"
             ],
             [
              0.6666666666666666,
              "#ed7953"
             ],
             [
              0.7777777777777778,
              "#fb9f3a"
             ],
             [
              0.8888888888888888,
              "#fdca26"
             ],
             [
              1,
              "#f0f921"
             ]
            ],
            "type": "heatmap"
           }
          ],
          "heatmapgl": [
           {
            "colorbar": {
             "outlinewidth": 0,
             "ticks": ""
            },
            "colorscale": [
             [
              0,
              "#0d0887"
             ],
             [
              0.1111111111111111,
              "#46039f"
             ],
             [
              0.2222222222222222,
              "#7201a8"
             ],
             [
              0.3333333333333333,
              "#9c179e"
             ],
             [
              0.4444444444444444,
              "#bd3786"
             ],
             [
              0.5555555555555556,
              "#d8576b"
             ],
             [
              0.6666666666666666,
              "#ed7953"
             ],
             [
              0.7777777777777778,
              "#fb9f3a"
             ],
             [
              0.8888888888888888,
              "#fdca26"
             ],
             [
              1,
              "#f0f921"
             ]
            ],
            "type": "heatmapgl"
           }
          ],
          "histogram": [
           {
            "marker": {
             "pattern": {
              "fillmode": "overlay",
              "size": 10,
              "solidity": 0.2
             }
            },
            "type": "histogram"
           }
          ],
          "histogram2d": [
           {
            "colorbar": {
             "outlinewidth": 0,
             "ticks": ""
            },
            "colorscale": [
             [
              0,
              "#0d0887"
             ],
             [
              0.1111111111111111,
              "#46039f"
             ],
             [
              0.2222222222222222,
              "#7201a8"
             ],
             [
              0.3333333333333333,
              "#9c179e"
             ],
             [
              0.4444444444444444,
              "#bd3786"
             ],
             [
              0.5555555555555556,
              "#d8576b"
             ],
             [
              0.6666666666666666,
              "#ed7953"
             ],
             [
              0.7777777777777778,
              "#fb9f3a"
             ],
             [
              0.8888888888888888,
              "#fdca26"
             ],
             [
              1,
              "#f0f921"
             ]
            ],
            "type": "histogram2d"
           }
          ],
          "histogram2dcontour": [
           {
            "colorbar": {
             "outlinewidth": 0,
             "ticks": ""
            },
            "colorscale": [
             [
              0,
              "#0d0887"
             ],
             [
              0.1111111111111111,
              "#46039f"
             ],
             [
              0.2222222222222222,
              "#7201a8"
             ],
             [
              0.3333333333333333,
              "#9c179e"
             ],
             [
              0.4444444444444444,
              "#bd3786"
             ],
             [
              0.5555555555555556,
              "#d8576b"
             ],
             [
              0.6666666666666666,
              "#ed7953"
             ],
             [
              0.7777777777777778,
              "#fb9f3a"
             ],
             [
              0.8888888888888888,
              "#fdca26"
             ],
             [
              1,
              "#f0f921"
             ]
            ],
            "type": "histogram2dcontour"
           }
          ],
          "mesh3d": [
           {
            "colorbar": {
             "outlinewidth": 0,
             "ticks": ""
            },
            "type": "mesh3d"
           }
          ],
          "parcoords": [
           {
            "line": {
             "colorbar": {
              "outlinewidth": 0,
              "ticks": ""
             }
            },
            "type": "parcoords"
           }
          ],
          "pie": [
           {
            "automargin": true,
            "type": "pie"
           }
          ],
          "scatter": [
           {
            "marker": {
             "line": {
              "color": "#283442"
             }
            },
            "type": "scatter"
           }
          ],
          "scatter3d": [
           {
            "line": {
             "colorbar": {
              "outlinewidth": 0,
              "ticks": ""
             }
            },
            "marker": {
             "colorbar": {
              "outlinewidth": 0,
              "ticks": ""
             }
            },
            "type": "scatter3d"
           }
          ],
          "scattercarpet": [
           {
            "marker": {
             "colorbar": {
              "outlinewidth": 0,
              "ticks": ""
             }
            },
            "type": "scattercarpet"
           }
          ],
          "scattergeo": [
           {
            "marker": {
             "colorbar": {
              "outlinewidth": 0,
              "ticks": ""
             }
            },
            "type": "scattergeo"
           }
          ],
          "scattergl": [
           {
            "marker": {
             "line": {
              "color": "#283442"
             }
            },
            "type": "scattergl"
           }
          ],
          "scattermapbox": [
           {
            "marker": {
             "colorbar": {
              "outlinewidth": 0,
              "ticks": ""
             }
            },
            "type": "scattermapbox"
           }
          ],
          "scatterpolar": [
           {
            "marker": {
             "colorbar": {
              "outlinewidth": 0,
              "ticks": ""
             }
            },
            "type": "scatterpolar"
           }
          ],
          "scatterpolargl": [
           {
            "marker": {
             "colorbar": {
              "outlinewidth": 0,
              "ticks": ""
             }
            },
            "type": "scatterpolargl"
           }
          ],
          "scatterternary": [
           {
            "marker": {
             "colorbar": {
              "outlinewidth": 0,
              "ticks": ""
             }
            },
            "type": "scatterternary"
           }
          ],
          "surface": [
           {
            "colorbar": {
             "outlinewidth": 0,
             "ticks": ""
            },
            "colorscale": [
             [
              0,
              "#0d0887"
             ],
             [
              0.1111111111111111,
              "#46039f"
             ],
             [
              0.2222222222222222,
              "#7201a8"
             ],
             [
              0.3333333333333333,
              "#9c179e"
             ],
             [
              0.4444444444444444,
              "#bd3786"
             ],
             [
              0.5555555555555556,
              "#d8576b"
             ],
             [
              0.6666666666666666,
              "#ed7953"
             ],
             [
              0.7777777777777778,
              "#fb9f3a"
             ],
             [
              0.8888888888888888,
              "#fdca26"
             ],
             [
              1,
              "#f0f921"
             ]
            ],
            "type": "surface"
           }
          ],
          "table": [
           {
            "cells": {
             "fill": {
              "color": "#506784"
             },
             "line": {
              "color": "rgb(17,17,17)"
             }
            },
            "header": {
             "fill": {
              "color": "#2a3f5f"
             },
             "line": {
              "color": "rgb(17,17,17)"
             }
            },
            "type": "table"
           }
          ]
         },
         "layout": {
          "annotationdefaults": {
           "arrowcolor": "#f2f5fa",
           "arrowhead": 0,
           "arrowwidth": 1
          },
          "autotypenumbers": "strict",
          "coloraxis": {
           "colorbar": {
            "outlinewidth": 0,
            "ticks": ""
           }
          },
          "colorscale": {
           "diverging": [
            [
             0,
             "#8e0152"
            ],
            [
             0.1,
             "#c51b7d"
            ],
            [
             0.2,
             "#de77ae"
            ],
            [
             0.3,
             "#f1b6da"
            ],
            [
             0.4,
             "#fde0ef"
            ],
            [
             0.5,
             "#f7f7f7"
            ],
            [
             0.6,
             "#e6f5d0"
            ],
            [
             0.7,
             "#b8e186"
            ],
            [
             0.8,
             "#7fbc41"
            ],
            [
             0.9,
             "#4d9221"
            ],
            [
             1,
             "#276419"
            ]
           ],
           "sequential": [
            [
             0,
             "#0d0887"
            ],
            [
             0.1111111111111111,
             "#46039f"
            ],
            [
             0.2222222222222222,
             "#7201a8"
            ],
            [
             0.3333333333333333,
             "#9c179e"
            ],
            [
             0.4444444444444444,
             "#bd3786"
            ],
            [
             0.5555555555555556,
             "#d8576b"
            ],
            [
             0.6666666666666666,
             "#ed7953"
            ],
            [
             0.7777777777777778,
             "#fb9f3a"
            ],
            [
             0.8888888888888888,
             "#fdca26"
            ],
            [
             1,
             "#f0f921"
            ]
           ],
           "sequentialminus": [
            [
             0,
             "#0d0887"
            ],
            [
             0.1111111111111111,
             "#46039f"
            ],
            [
             0.2222222222222222,
             "#7201a8"
            ],
            [
             0.3333333333333333,
             "#9c179e"
            ],
            [
             0.4444444444444444,
             "#bd3786"
            ],
            [
             0.5555555555555556,
             "#d8576b"
            ],
            [
             0.6666666666666666,
             "#ed7953"
            ],
            [
             0.7777777777777778,
             "#fb9f3a"
            ],
            [
             0.8888888888888888,
             "#fdca26"
            ],
            [
             1,
             "#f0f921"
            ]
           ]
          },
          "colorway": [
           "#636efa",
           "#EF553B",
           "#00cc96",
           "#ab63fa",
           "#FFA15A",
           "#19d3f3",
           "#FF6692",
           "#B6E880",
           "#FF97FF",
           "#FECB52"
          ],
          "font": {
           "color": "#f2f5fa"
          },
          "geo": {
           "bgcolor": "rgb(17,17,17)",
           "lakecolor": "rgb(17,17,17)",
           "landcolor": "rgb(17,17,17)",
           "showlakes": true,
           "showland": true,
           "subunitcolor": "#506784"
          },
          "hoverlabel": {
           "align": "left"
          },
          "hovermode": "closest",
          "mapbox": {
           "style": "dark"
          },
          "paper_bgcolor": "rgb(17,17,17)",
          "plot_bgcolor": "rgb(17,17,17)",
          "polar": {
           "angularaxis": {
            "gridcolor": "#506784",
            "linecolor": "#506784",
            "ticks": ""
           },
           "bgcolor": "rgb(17,17,17)",
           "radialaxis": {
            "gridcolor": "#506784",
            "linecolor": "#506784",
            "ticks": ""
           }
          },
          "scene": {
           "xaxis": {
            "backgroundcolor": "rgb(17,17,17)",
            "gridcolor": "#506784",
            "gridwidth": 2,
            "linecolor": "#506784",
            "showbackground": true,
            "ticks": "",
            "zerolinecolor": "#C8D4E3"
           },
           "yaxis": {
            "backgroundcolor": "rgb(17,17,17)",
            "gridcolor": "#506784",
            "gridwidth": 2,
            "linecolor": "#506784",
            "showbackground": true,
            "ticks": "",
            "zerolinecolor": "#C8D4E3"
           },
           "zaxis": {
            "backgroundcolor": "rgb(17,17,17)",
            "gridcolor": "#506784",
            "gridwidth": 2,
            "linecolor": "#506784",
            "showbackground": true,
            "ticks": "",
            "zerolinecolor": "#C8D4E3"
           }
          },
          "shapedefaults": {
           "line": {
            "color": "#f2f5fa"
           }
          },
          "sliderdefaults": {
           "bgcolor": "#C8D4E3",
           "bordercolor": "rgb(17,17,17)",
           "borderwidth": 1,
           "tickwidth": 0
          },
          "ternary": {
           "aaxis": {
            "gridcolor": "#506784",
            "linecolor": "#506784",
            "ticks": ""
           },
           "baxis": {
            "gridcolor": "#506784",
            "linecolor": "#506784",
            "ticks": ""
           },
           "bgcolor": "rgb(17,17,17)",
           "caxis": {
            "gridcolor": "#506784",
            "linecolor": "#506784",
            "ticks": ""
           }
          },
          "title": {
           "x": 0.05
          },
          "updatemenudefaults": {
           "bgcolor": "#506784",
           "borderwidth": 0
          },
          "xaxis": {
           "automargin": true,
           "gridcolor": "#283442",
           "linecolor": "#506784",
           "ticks": "",
           "title": {
            "standoff": 15
           },
           "zerolinecolor": "#283442",
           "zerolinewidth": 2
          },
          "yaxis": {
           "automargin": true,
           "gridcolor": "#283442",
           "linecolor": "#506784",
           "ticks": "",
           "title": {
            "standoff": 15
           },
           "zerolinecolor": "#283442",
           "zerolinewidth": 2
          }
         }
        },
        "title": {
         "text": "Análisis del Funnel de Ventas"
        }
       }
      }
     },
     "metadata": {},
     "output_type": "display_data"
    }
   ],
   "source": [
    "import plotly.graph_objects as go \n",
    "fig = go.Figure()\n",
    "\n",
    "fig.add_trace(go.Funnelarea(\n",
    "    labels = ['Pasajeros Totales', \"Pasajeros Primera\", \"Muertos\"],\n",
    "    values = [891, 216, 80],\n",
    "    textinfo = \"value+percent\",  # Mostrar valor y porcentaje del total\n",
    "    marker = dict(colors=['deepskyblue','tan', 'silver']),  # Colores para cada etapa\n",
    "))\n",
    "\n",
    "# Actualizamos el diseño\n",
    "fig.update_layout(\n",
    "    title=\"Análisis del Funnel de Ventas\",\n",
    "    template=\"plotly_dark\",\n",
    ")\n",
    "\n",
    "# Mostramos la figura\n",
    "fig.show()\n"
   ]
  },
  {
   "cell_type": "markdown",
   "metadata": {},
   "source": [
    "# supervivientes por clase"
   ]
  },
  {
   "cell_type": "code",
   "execution_count": 33,
   "metadata": {},
   "outputs": [
    {
     "data": {
      "text/plain": [
       "3    491\n",
       "Name: pclass, dtype: int64"
      ]
     },
     "execution_count": 33,
     "metadata": {},
     "output_type": "execute_result"
    }
   ],
   "source": [
    "tercera_clase = titanic[titanic['pclass'] == 3]['pclass'].value_counts()\n",
    "tercera_clase"
   ]
  },
  {
   "cell_type": "code",
   "execution_count": 34,
   "metadata": {},
   "outputs": [
    {
     "data": {
      "text/plain": [
       "2    184\n",
       "Name: pclass, dtype: int64"
      ]
     },
     "execution_count": 34,
     "metadata": {},
     "output_type": "execute_result"
    }
   ],
   "source": [
    "segunda_clase = titanic[titanic['pclass'] == 2]['pclass'].value_counts()\n",
    "segunda_clase"
   ]
  },
  {
   "cell_type": "code",
   "execution_count": 35,
   "metadata": {},
   "outputs": [
    {
     "data": {
      "text/plain": [
       "1    216\n",
       "Name: pclass, dtype: int64"
      ]
     },
     "execution_count": 35,
     "metadata": {},
     "output_type": "execute_result"
    }
   ],
   "source": [
    "primera_clase = titanic[titanic['pclass'] == 1]['pclass'].value_counts()\n",
    "primera_clase"
   ]
  },
  {
   "cell_type": "code",
   "execution_count": 36,
   "metadata": {},
   "outputs": [
    {
     "data": {
      "text/plain": [
       "891"
      ]
     },
     "execution_count": 36,
     "metadata": {},
     "output_type": "execute_result"
    }
   ],
   "source": [
    "pasajeros_totales= len(titanic)\n",
    "pasajeros_totales"
   ]
  },
  {
   "cell_type": "markdown",
   "metadata": {},
   "source": [
    "****"
   ]
  },
  {
   "cell_type": "code",
   "execution_count": 37,
   "metadata": {},
   "outputs": [
    {
     "data": {
      "text/plain": [
       "372"
      ]
     },
     "execution_count": 37,
     "metadata": {},
     "output_type": "execute_result"
    }
   ],
   "source": [
    "### Muertos de la 3 clase\n",
    "\n",
    "muertos_tercera = titanic[(titanic['pclass'] == 3)&(titanic['survived'] == 0)]\n",
    "nmuertos_tercera = len(muertos_tercera)\n",
    "nmuertos_tercera"
   ]
  },
  {
   "cell_type": "code",
   "execution_count": 127,
   "metadata": {},
   "outputs": [
    {
     "data": {
      "text/html": [
       "<div>\n",
       "<style scoped>\n",
       "    .dataframe tbody tr th:only-of-type {\n",
       "        vertical-align: middle;\n",
       "    }\n",
       "\n",
       "    .dataframe tbody tr th {\n",
       "        vertical-align: top;\n",
       "    }\n",
       "\n",
       "    .dataframe thead th {\n",
       "        text-align: right;\n",
       "    }\n",
       "</style>\n",
       "<table border=\"1\" class=\"dataframe\">\n",
       "  <thead>\n",
       "    <tr style=\"text-align: right;\">\n",
       "      <th></th>\n",
       "      <th>Clase</th>\n",
       "      <th>Pasajeros</th>\n",
       "      <th>Muertos</th>\n",
       "      <th>Porcentaje muertos por clase</th>\n",
       "    </tr>\n",
       "  </thead>\n",
       "  <tbody>\n",
       "    <tr>\n",
       "      <th>0</th>\n",
       "      <td>Primera</td>\n",
       "      <td>216</td>\n",
       "      <td>80</td>\n",
       "      <td>37%</td>\n",
       "    </tr>\n",
       "    <tr>\n",
       "      <th>1</th>\n",
       "      <td>Segunda</td>\n",
       "      <td>184</td>\n",
       "      <td>97</td>\n",
       "      <td>52.72%</td>\n",
       "    </tr>\n",
       "    <tr>\n",
       "      <th>2</th>\n",
       "      <td>Tercera</td>\n",
       "      <td>491</td>\n",
       "      <td>372</td>\n",
       "      <td>75.76%</td>\n",
       "    </tr>\n",
       "  </tbody>\n",
       "</table>\n",
       "</div>"
      ],
      "text/plain": [
       "     Clase Pasajeros Muertos Porcentaje muertos por clase\n",
       "0  Primera       216      80                          37%\n",
       "1  Segunda       184      97                       52.72%\n",
       "2  Tercera       491     372                       75.76%"
      ]
     },
     "execution_count": 127,
     "metadata": {},
     "output_type": "execute_result"
    }
   ],
   "source": [
    "dfmuertos = {\n",
    "    'Clase': ['Primera', 'Segunda', 'Tercera'],\n",
    "    'Pasajeros': ['216','184','491'],\n",
    "    'Muertos':['80', '97', '372'],\n",
    "    'Porcentaje muertos por clase': ['37%', '52.72%', '75.76%']\n",
    "    }\n",
    "dfmuertost = pd.DataFrame(dfmuertos)\n",
    "dfmuertost"
   ]
  },
  {
   "cell_type": "code",
   "execution_count": 38,
   "metadata": {},
   "outputs": [
    {
     "data": {
      "text/plain": [
       "75.76374745417516"
      ]
     },
     "execution_count": 38,
     "metadata": {},
     "output_type": "execute_result"
    }
   ],
   "source": [
    "### porcentaje de 3a\n",
    "muertos3 = (372/491)*100\n",
    "muertos3"
   ]
  },
  {
   "cell_type": "code",
   "execution_count": 120,
   "metadata": {},
   "outputs": [
    {
     "data": {
      "text/plain": [
       "67.75956284153006"
      ]
     },
     "execution_count": 120,
     "metadata": {},
     "output_type": "execute_result"
    }
   ],
   "source": [
    "muertost3 = (372/549)*100\n",
    "muertost3"
   ]
  },
  {
   "cell_type": "code",
   "execution_count": 40,
   "metadata": {},
   "outputs": [
    {
     "data": {
      "text/plain": [
       "97"
      ]
     },
     "execution_count": 40,
     "metadata": {},
     "output_type": "execute_result"
    }
   ],
   "source": [
    "### muertos 2\n",
    "muertos_segunda = titanic[(titanic['pclass'] == 2)&(titanic['survived'] == 0)]\n",
    "nmuertos_segunda = len(muertos_segunda)\n",
    "nmuertos_segunda"
   ]
  },
  {
   "cell_type": "code",
   "execution_count": 41,
   "metadata": {},
   "outputs": [
    {
     "data": {
      "text/plain": [
       "52.71739130434783"
      ]
     },
     "execution_count": 41,
     "metadata": {},
     "output_type": "execute_result"
    }
   ],
   "source": [
    "###porc 2\n",
    "muertos2 = (97/184)*100\n",
    "muertos2"
   ]
  },
  {
   "cell_type": "code",
   "execution_count": 118,
   "metadata": {},
   "outputs": [
    {
     "data": {
      "text/plain": [
       "17.66848816029144"
      ]
     },
     "execution_count": 118,
     "metadata": {},
     "output_type": "execute_result"
    }
   ],
   "source": [
    "muertost2=(97/549)*100\n",
    "muertost2"
   ]
  },
  {
   "cell_type": "code",
   "execution_count": 43,
   "metadata": {},
   "outputs": [
    {
     "data": {
      "text/plain": [
       "80"
      ]
     },
     "execution_count": 43,
     "metadata": {},
     "output_type": "execute_result"
    }
   ],
   "source": [
    "### muertos 1\n",
    "muertos_primera = titanic[(titanic['pclass'] == 1)&(titanic['survived'] == 0)]\n",
    "nmuertos_primera = len(muertos_primera)\n",
    "nmuertos_primera"
   ]
  },
  {
   "cell_type": "code",
   "execution_count": 117,
   "metadata": {},
   "outputs": [
    {
     "data": {
      "text/plain": [
       "549"
      ]
     },
     "execution_count": 117,
     "metadata": {},
     "output_type": "execute_result"
    }
   ],
   "source": [
    "372+97+80"
   ]
  },
  {
   "cell_type": "code",
   "execution_count": 44,
   "metadata": {},
   "outputs": [
    {
     "data": {
      "text/plain": [
       "37.03703703703704"
      ]
     },
     "execution_count": 44,
     "metadata": {},
     "output_type": "execute_result"
    }
   ],
   "source": [
    "###porc1\n",
    "muertos1 = (80/216)*100\n",
    "muertos1"
   ]
  },
  {
   "cell_type": "code",
   "execution_count": 121,
   "metadata": {},
   "outputs": [
    {
     "data": {
      "text/plain": [
       "14.571948998178508"
      ]
     },
     "execution_count": 121,
     "metadata": {},
     "output_type": "execute_result"
    }
   ],
   "source": [
    "muertost1=(80/549)*100\n",
    "muertost1"
   ]
  },
  {
   "cell_type": "markdown",
   "metadata": {},
   "source": [
    "******"
   ]
  },
  {
   "cell_type": "markdown",
   "metadata": {},
   "source": [
    "* SUPERVIVIENTES"
   ]
  },
  {
   "cell_type": "code",
   "execution_count": 45,
   "metadata": {},
   "outputs": [],
   "source": [
    "total = titanic[['survived', 'age']]\n",
    "total = total.dropna()"
   ]
  },
  {
   "cell_type": "code",
   "execution_count": 46,
   "metadata": {},
   "outputs": [],
   "source": [
    "supervivientes = titanic.loc[titanic['survived'] == 1, 'age']\n",
    "supervivientes = supervivientes.dropna()"
   ]
  },
  {
   "cell_type": "code",
   "execution_count": 47,
   "metadata": {},
   "outputs": [
    {
     "data": {
      "text/plain": [
       "<matplotlib.legend.Legend at 0x23123645ff0>"
      ]
     },
     "execution_count": 47,
     "metadata": {},
     "output_type": "execute_result"
    },
    {
     "data": {
      "image/png": "[encoded data removed]",
      "text/plain": [
       "<Figure size 640x480 with 1 Axes>"
      ]
     },
     "metadata": {},
     "output_type": "display_data"
    }
   ],
   "source": [
    "sns.kdeplot(titanic[titanic['survived'] == 0], x ='age', color=\"red\", fill=True)\n",
    "sns.kdeplot(titanic[titanic['survived'] == 1], x ='age', color=\"green\", fill=True)\n",
    "plt.legend([\"Not Survived\", \"Survived\"])"
   ]
  },
  {
   "cell_type": "code",
   "execution_count": 48,
   "metadata": {},
   "outputs": [
    {
     "data": {
      "image/png": "[encoded data removed]",
      "text/plain": [
       "<Figure size 1000x600 with 1 Axes>"
      ]
     },
     "metadata": {},
     "output_type": "display_data"
    }
   ],
   "source": [
    "total = titanic[['survived', 'age']]\n",
    "\n",
    "# Crear el gráfico de frecuencias (histograma)\n",
    "plt.figure(figsize=(10, 6))\n",
    "plt.hist(total[total['survived'] == 0]['age'], bins=20, color='red', alpha=0.5, label='Not Survived', edgecolor='black')\n",
    "plt.hist(total[total['survived'] == 1]['age'], bins=20, color='green', alpha=0.5, label='Survived', edgecolor='black')\n",
    "plt.xlabel('Edad')\n",
    "plt.ylabel('Frecuencia')\n",
    "plt.title('Histograma de las edades de los sobrevivientes y no sobrevivientes')\n",
    "plt.legend()\n",
    "\n",
    "# Agregar gráfico de densidad de Kernel (KDE)\n",
    "sns.kdeplot(data=total[total['survived'] == 0], x='age', color=\"red\", fill=True)\n",
    "sns.kdeplot(data=total[total['survived'] == 1], x='age', color=\"green\", fill=True)\n",
    "\n",
    "plt.show()"
   ]
  },
  {
   "cell_type": "code",
   "execution_count": 49,
   "metadata": {},
   "outputs": [
    {
     "data": {
      "image/png": "[encoded data removed]",
      "text/plain": [
       "<Figure size 1000x600 with 1 Axes>"
      ]
     },
     "metadata": {
      "needs_background": "light"
     },
     "output_type": "display_data"
    }
   ],
   "source": [
    "total = titanic[['survived', 'age']]\n",
    "plt.figure(figsize=(10, 6), facecolor='none')\n",
    "sns.histplot(total[total['survived'] == 0]['age'], bins=20, color='black', alpha=0.5, label='Not Survived', kde=True, fill=True, linewidth=0)\n",
    "sns.histplot(total[total['survived'] == 1]['age'], bins=20, color='yellow', alpha=0.5, label='Survived', kde=True, fill=True, linewidth=0)\n",
    "plt.xlabel('Edad')\n",
    "plt.ylabel('Frecuencia')\n",
    "plt.title('EDADES SUPERVIVIENTES Y NO SUPERVIVIENTES')\n",
    "plt.legend()\n",
    "\n",
    "\n",
    "plt.show()"
   ]
  },
  {
   "cell_type": "code",
   "execution_count": 50,
   "metadata": {},
   "outputs": [
    {
     "data": {
      "image/png": "[encoded data removed]",
      "text/plain": [
       "<Figure size 1000x600 with 1 Axes>"
      ]
     },
     "metadata": {},
     "output_type": "display_data"
    }
   ],
   "source": [
    "import matplotlib.pyplot as plt\n",
    "\n",
    "# Obtener datos\n",
    "x = titanic['age']  # Valores de la variable independiente (edades)\n",
    "y = titanic['survived']  # Valores de la variable dependiente (frecuencia de sobrevivientes)\n",
    "\n",
    "# Crear el gráfico de dispersión\n",
    "plt.figure(figsize=(10, 6))\n",
    "plt.scatter(x, y, color='blue', alpha=0.5)  # 'alpha' ajusta la transparencia de los puntos\n",
    "plt.xlabel('Edad')\n",
    "plt.ylabel('Frecuencia de Sobrevivientes')\n",
    "plt.title('Gráfico de Dispersión de las Edades de los Sobrevivientes')\n",
    "plt.grid(True)\n",
    "plt.show()\n"
   ]
  },
  {
   "cell_type": "markdown",
   "metadata": {},
   "source": [
    "* JOVEN Y ANCIANO"
   ]
  },
  {
   "cell_type": "code",
   "execution_count": 51,
   "metadata": {},
   "outputs": [
    {
     "data": {
      "text/html": [
       "<div>\n",
       "<style scoped>\n",
       "    .dataframe tbody tr th:only-of-type {\n",
       "        vertical-align: middle;\n",
       "    }\n",
       "\n",
       "    .dataframe tbody tr th {\n",
       "        vertical-align: top;\n",
       "    }\n",
       "\n",
       "    .dataframe thead th {\n",
       "        text-align: right;\n",
       "    }\n",
       "</style>\n",
       "<table border=\"1\" class=\"dataframe\">\n",
       "  <thead>\n",
       "    <tr style=\"text-align: right;\">\n",
       "      <th></th>\n",
       "      <th>passengerid</th>\n",
       "      <th>survived</th>\n",
       "      <th>pclass</th>\n",
       "      <th>name</th>\n",
       "      <th>sex</th>\n",
       "      <th>age</th>\n",
       "      <th>sibsp</th>\n",
       "      <th>parch</th>\n",
       "      <th>ticket</th>\n",
       "      <th>fare</th>\n",
       "      <th>cabin</th>\n",
       "      <th>embarked</th>\n",
       "    </tr>\n",
       "  </thead>\n",
       "  <tbody>\n",
       "    <tr>\n",
       "      <th>630</th>\n",
       "      <td>631</td>\n",
       "      <td>1</td>\n",
       "      <td>1</td>\n",
       "      <td>Barkworth, Mr. Algernon Henry Wilson</td>\n",
       "      <td>male</td>\n",
       "      <td>80.0</td>\n",
       "      <td>0</td>\n",
       "      <td>0</td>\n",
       "      <td>27042</td>\n",
       "      <td>30.0</td>\n",
       "      <td>A23</td>\n",
       "      <td>S</td>\n",
       "    </tr>\n",
       "  </tbody>\n",
       "</table>\n",
       "</div>"
      ],
      "text/plain": [
       "     passengerid  survived  pclass                                  name  \\\n",
       "630          631         1       1  Barkworth, Mr. Algernon Henry Wilson   \n",
       "\n",
       "      sex   age  sibsp  parch ticket  fare cabin embarked  \n",
       "630  male  80.0      0      0  27042  30.0   A23        S  "
      ]
     },
     "execution_count": 51,
     "metadata": {},
     "output_type": "execute_result"
    }
   ],
   "source": [
    "older = titanic['age'].max()\n",
    "anciano = titanic[titanic['age'] == older]\n",
    "anciano"
   ]
  },
  {
   "cell_type": "code",
   "execution_count": 52,
   "metadata": {},
   "outputs": [
    {
     "data": {
      "text/html": [
       "<div>\n",
       "<style scoped>\n",
       "    .dataframe tbody tr th:only-of-type {\n",
       "        vertical-align: middle;\n",
       "    }\n",
       "\n",
       "    .dataframe tbody tr th {\n",
       "        vertical-align: top;\n",
       "    }\n",
       "\n",
       "    .dataframe thead th {\n",
       "        text-align: right;\n",
       "    }\n",
       "</style>\n",
       "<table border=\"1\" class=\"dataframe\">\n",
       "  <thead>\n",
       "    <tr style=\"text-align: right;\">\n",
       "      <th></th>\n",
       "      <th>passengerid</th>\n",
       "      <th>survived</th>\n",
       "      <th>pclass</th>\n",
       "      <th>name</th>\n",
       "      <th>sex</th>\n",
       "      <th>age</th>\n",
       "      <th>sibsp</th>\n",
       "      <th>parch</th>\n",
       "      <th>ticket</th>\n",
       "      <th>fare</th>\n",
       "      <th>cabin</th>\n",
       "      <th>embarked</th>\n",
       "    </tr>\n",
       "  </thead>\n",
       "  <tbody>\n",
       "    <tr>\n",
       "      <th>803</th>\n",
       "      <td>804</td>\n",
       "      <td>1</td>\n",
       "      <td>3</td>\n",
       "      <td>Thomas, Master. Assad Alexander</td>\n",
       "      <td>male</td>\n",
       "      <td>0.42</td>\n",
       "      <td>0</td>\n",
       "      <td>1</td>\n",
       "      <td>2625</td>\n",
       "      <td>8.5167</td>\n",
       "      <td>NaN</td>\n",
       "      <td>C</td>\n",
       "    </tr>\n",
       "  </tbody>\n",
       "</table>\n",
       "</div>"
      ],
      "text/plain": [
       "     passengerid  survived  pclass                             name   sex  \\\n",
       "803          804         1       3  Thomas, Master. Assad Alexander  male   \n",
       "\n",
       "      age  sibsp  parch ticket    fare cabin embarked  \n",
       "803  0.42      0      1   2625  8.5167   NaN        C  "
      ]
     },
     "execution_count": 52,
     "metadata": {},
     "output_type": "execute_result"
    }
   ],
   "source": [
    "younger = titanic['age'].min()\n",
    "joven = titanic[titanic['age'] == younger]\n",
    "joven"
   ]
  },
  {
   "cell_type": "markdown",
   "metadata": {},
   "source": [
    "***********"
   ]
  },
  {
   "cell_type": "markdown",
   "metadata": {},
   "source": [
    "* DISTRIBUCIÓN POR SEXOS"
   ]
  },
  {
   "cell_type": "code",
   "execution_count": 53,
   "metadata": {},
   "outputs": [],
   "source": [
    "distribucion_sexos = titanic['sex'].value_counts()\n",
    "mujeres = titanic[titanic['sex'] == 'female']\n",
    "jovenes_mujeres = mujeres[mujeres['age'] < 18]"
   ]
  },
  {
   "cell_type": "code",
   "execution_count": 54,
   "metadata": {},
   "outputs": [],
   "source": [
    "survived_pasajeros = titanic[titanic['survived'] == 1]\n",
    "female_survived = survived_pasajeros[survived_pasajeros['sex'] == 'female']\n",
    "total_female = len(titanic[titanic['sex'] == 'female'])\n",
    "numero_female_survived = len(female_survived)"
   ]
  },
  {
   "cell_type": "code",
   "execution_count": 55,
   "metadata": {},
   "outputs": [],
   "source": [
    "male_survived = survived_pasajeros[survived_pasajeros['sex'] == 'male']\n",
    "total_male = len(titanic[titanic['sex'] == 'male'])\n",
    "numero_male_survived = len(male_survived)"
   ]
  },
  {
   "cell_type": "code",
   "execution_count": 56,
   "metadata": {},
   "outputs": [],
   "source": [
    "numero_male_died = total_male - numero_male_survived\n",
    "numero_female_died = total_female - numero_female_survived"
   ]
  },
  {
   "cell_type": "code",
   "execution_count": 57,
   "metadata": {},
   "outputs": [
    {
     "data": {
      "application/vnd.plotly.v1+json": {
       "config": {
        "plotlyServerURL": "https://plot.ly"
       },
       "data": [
        {
         "branchvalues": "total",
         "domain": {
          "x": [
           0,
           1
          ],
          "y": [
           0,
           1
          ]
         },
         "hovertemplate": "labels=%{label}<br>Cantidad=%{value}<br>parent=%{parent}<br>id=%{id}<extra></extra>",
         "ids": [
          "Hombre/Muerto",
          "Mujer/Muerto",
          "Hombre/Vivo",
          "Mujer/Vivo",
          "Hombre",
          "Mujer"
         ],
         "labels": [
          "Muerto",
          "Muerto",
          "Vivo",
          "Vivo",
          "Hombre",
          "Mujer"
         ],
         "name": "",
         "parents": [
          "Hombre",
          "Mujer",
          "Hombre",
          "Mujer",
          "",
          ""
         ],
         "type": "treemap",
         "values": [
          577,
          314,
          468,
          81,
          1045,
          395
         ]
        }
       ],
       "layout": {
        "legend": {
         "tracegroupgap": 0
        },
        "margin": {
         "t": 60
        },
        "template": {
         "data": {
          "bar": [
           {
            "error_x": {
             "color": "#2a3f5f"
            },
            "error_y": {
             "color": "#2a3f5f"
            },
            "marker": {
             "line": {
              "color": "#E5ECF6",
              "width": 0.5
             },
             "pattern": {
              "fillmode": "overlay",
              "size": 10,
              "solidity": 0.2
             }
            },
            "type": "bar"
           }
          ],
          "barpolar": [
           {
            "marker": {
             "line": {
              "color": "#E5ECF6",
              "width": 0.5
             },
             "pattern": {
              "fillmode": "overlay",
              "size": 10,
              "solidity": 0.2
             }
            },
            "type": "barpolar"
           }
          ],
          "carpet": [
           {
            "aaxis": {
             "endlinecolor": "#2a3f5f",
             "gridcolor": "white",
             "linecolor": "white",
             "minorgridcolor": "white",
             "startlinecolor": "#2a3f5f"
            },
            "baxis": {
             "endlinecolor": "#2a3f5f",
             "gridcolor": "white",
             "linecolor": "white",
             "minorgridcolor": "white",
             "startlinecolor": "#2a3f5f"
            },
            "type": "carpet"
           }
          ],
          "choropleth": [
           {
            "colorbar": {
             "outlinewidth": 0,
             "ticks": ""
            },
            "type": "choropleth"
           }
          ],
          "contour": [
           {
            "colorbar": {
             "outlinewidth": 0,
             "ticks": ""
            },
            "colorscale": [
             [
              0,
              "#0d0887"
             ],
             [
              0.1111111111111111,
              "#46039f"
             ],
             [
              0.2222222222222222,
              "#7201a8"
             ],
             [
              0.3333333333333333,
              "#9c179e"
             ],
             [
              0.4444444444444444,
              "#bd3786"
             ],
             [
              0.5555555555555556,
              "#d8576b"
             ],
             [
              0.6666666666666666,
              "#ed7953"
             ],
             [
              0.7777777777777778,
              "#fb9f3a"
             ],
             [
              0.8888888888888888,
              "#fdca26"
             ],
             [
              1,
              "#f0f921"
             ]
            ],
            "type": "contour"
           }
          ],
          "contourcarpet": [
           {
            "colorbar": {
             "outlinewidth": 0,
             "ticks": ""
            },
            "type": "contourcarpet"
           }
          ],
          "heatmap": [
           {
            "colorbar": {
             "outlinewidth": 0,
             "ticks": ""
            },
            "colorscale": [
             [
              0,
              "#0d0887"
             ],
             [
              0.1111111111111111,
              "#46039f"
             ],
             [
              0.2222222222222222,
              "#7201a8"
             ],
             [
              0.3333333333333333,
              "#9c179e"
             ],
             [
              0.4444444444444444,
              "#bd3786"
             ],
             [
              0.5555555555555556,
              "#d8576b"
             ],
             [
              0.6666666666666666,
              "#ed7953"
             ],
             [
              0.7777777777777778,
              "#fb9f3a"
             ],
             [
              0.8888888888888888,
              "#fdca26"
             ],
             [
              1,
              "#f0f921"
             ]
            ],
            "type": "heatmap"
           }
          ],
          "heatmapgl": [
           {
            "colorbar": {
             "outlinewidth": 0,
             "ticks": ""
            },
            "colorscale": [
             [
              0,
              "#0d0887"
             ],
             [
              0.1111111111111111,
              "#46039f"
             ],
             [
              0.2222222222222222,
              "#7201a8"
             ],
             [
              0.3333333333333333,
              "#9c179e"
             ],
             [
              0.4444444444444444,
              "#bd3786"
             ],
             [
              0.5555555555555556,
              "#d8576b"
             ],
             [
              0.6666666666666666,
              "#ed7953"
             ],
             [
              0.7777777777777778,
              "#fb9f3a"
             ],
             [
              0.8888888888888888,
              "#fdca26"
             ],
             [
              1,
              "#f0f921"
             ]
            ],
            "type": "heatmapgl"
           }
          ],
          "histogram": [
           {
            "marker": {
             "pattern": {
              "fillmode": "overlay",
              "size": 10,
              "solidity": 0.2
             }
            },
            "type": "histogram"
           }
          ],
          "histogram2d": [
           {
            "colorbar": {
             "outlinewidth": 0,
             "ticks": ""
            },
            "colorscale": [
             [
              0,
              "#0d0887"
             ],
             [
              0.1111111111111111,
              "#46039f"
             ],
             [
              0.2222222222222222,
              "#7201a8"
             ],
             [
              0.3333333333333333,
              "#9c179e"
             ],
             [
              0.4444444444444444,
              "#bd3786"
             ],
             [
              0.5555555555555556,
              "#d8576b"
             ],
             [
              0.6666666666666666,
              "#ed7953"
             ],
             [
              0.7777777777777778,
              "#fb9f3a"
             ],
             [
              0.8888888888888888,
              "#fdca26"
             ],
             [
              1,
              "#f0f921"
             ]
            ],
            "type": "histogram2d"
           }
          ],
          "histogram2dcontour": [
           {
            "colorbar": {
             "outlinewidth": 0,
             "ticks": ""
            },
            "colorscale": [
             [
              0,
              "#0d0887"
             ],
             [
              0.1111111111111111,
              "#46039f"
             ],
             [
              0.2222222222222222,
              "#7201a8"
             ],
             [
              0.3333333333333333,
              "#9c179e"
             ],
             [
              0.4444444444444444,
              "#bd3786"
             ],
             [
              0.5555555555555556,
              "#d8576b"
             ],
             [
              0.6666666666666666,
              "#ed7953"
             ],
             [
              0.7777777777777778,
              "#fb9f3a"
             ],
             [
              0.8888888888888888,
              "#fdca26"
             ],
             [
              1,
              "#f0f921"
             ]
            ],
            "type": "histogram2dcontour"
           }
          ],
          "mesh3d": [
           {
            "colorbar": {
             "outlinewidth": 0,
             "ticks": ""
            },
            "type": "mesh3d"
           }
          ],
          "parcoords": [
           {
            "line": {
             "colorbar": {
              "outlinewidth": 0,
              "ticks": ""
             }
            },
            "type": "parcoords"
           }
          ],
          "pie": [
           {
            "automargin": true,
            "type": "pie"
           }
          ],
          "scatter": [
           {
            "fillpattern": {
             "fillmode": "overlay",
             "size": 10,
             "solidity": 0.2
            },
            "type": "scatter"
           }
          ],
          "scatter3d": [
           {
            "line": {
             "colorbar": {
              "outlinewidth": 0,
              "ticks": ""
             }
            },
            "marker": {
             "colorbar": {
              "outlinewidth": 0,
              "ticks": ""
             }
            },
            "type": "scatter3d"
           }
          ],
          "scattercarpet": [
           {
            "marker": {
             "colorbar": {
              "outlinewidth": 0,
              "ticks": ""
             }
            },
            "type": "scattercarpet"
           }
          ],
          "scattergeo": [
           {
            "marker": {
             "colorbar": {
              "outlinewidth": 0,
              "ticks": ""
             }
            },
            "type": "scattergeo"
           }
          ],
          "scattergl": [
           {
            "marker": {
             "colorbar": {
              "outlinewidth": 0,
              "ticks": ""
             }
            },
            "type": "scattergl"
           }
          ],
          "scattermapbox": [
           {
            "marker": {
             "colorbar": {
              "outlinewidth": 0,
              "ticks": ""
             }
            },
            "type": "scattermapbox"
           }
          ],
          "scatterpolar": [
           {
            "marker": {
             "colorbar": {
              "outlinewidth": 0,
              "ticks": ""
             }
            },
            "type": "scatterpolar"
           }
          ],
          "scatterpolargl": [
           {
            "marker": {
             "colorbar": {
              "outlinewidth": 0,
              "ticks": ""
             }
            },
            "type": "scatterpolargl"
           }
          ],
          "scatterternary": [
           {
            "marker": {
             "colorbar": {
              "outlinewidth": 0,
              "ticks": ""
             }
            },
            "type": "scatterternary"
           }
          ],
          "surface": [
           {
            "colorbar": {
             "outlinewidth": 0,
             "ticks": ""
            },
            "colorscale": [
             [
              0,
              "#0d0887"
             ],
             [
              0.1111111111111111,
              "#46039f"
             ],
             [
              0.2222222222222222,
              "#7201a8"
             ],
             [
              0.3333333333333333,
              "#9c179e"
             ],
             [
              0.4444444444444444,
              "#bd3786"
             ],
             [
              0.5555555555555556,
              "#d8576b"
             ],
             [
              0.6666666666666666,
              "#ed7953"
             ],
             [
              0.7777777777777778,
              "#fb9f3a"
             ],
             [
              0.8888888888888888,
              "#fdca26"
             ],
             [
              1,
              "#f0f921"
             ]
            ],
            "type": "surface"
           }
          ],
          "table": [
           {
            "cells": {
             "fill": {
              "color": "#EBF0F8"
             },
             "line": {
              "color": "white"
             }
            },
            "header": {
             "fill": {
              "color": "#C8D4E3"
             },
             "line": {
              "color": "white"
             }
            },
            "type": "table"
           }
          ]
         },
         "layout": {
          "annotationdefaults": {
           "arrowcolor": "#2a3f5f",
           "arrowhead": 0,
           "arrowwidth": 1
          },
          "autotypenumbers": "strict",
          "coloraxis": {
           "colorbar": {
            "outlinewidth": 0,
            "ticks": ""
           }
          },
          "colorscale": {
           "diverging": [
            [
             0,
             "#8e0152"
            ],
            [
             0.1,
             "#c51b7d"
            ],
            [
             0.2,
             "#de77ae"
            ],
            [
             0.3,
             "#f1b6da"
            ],
            [
             0.4,
             "#fde0ef"
            ],
            [
             0.5,
             "#f7f7f7"
            ],
            [
             0.6,
             "#e6f5d0"
            ],
            [
             0.7,
             "#b8e186"
            ],
            [
             0.8,
             "#7fbc41"
            ],
            [
             0.9,
             "#4d9221"
            ],
            [
             1,
             "#276419"
            ]
           ],
           "sequential": [
            [
             0,
             "#0d0887"
            ],
            [
             0.1111111111111111,
             "#46039f"
            ],
            [
             0.2222222222222222,
             "#7201a8"
            ],
            [
             0.3333333333333333,
             "#9c179e"
            ],
            [
             0.4444444444444444,
             "#bd3786"
            ],
            [
             0.5555555555555556,
             "#d8576b"
            ],
            [
             0.6666666666666666,
             "#ed7953"
            ],
            [
             0.7777777777777778,
             "#fb9f3a"
            ],
            [
             0.8888888888888888,
             "#fdca26"
            ],
            [
             1,
             "#f0f921"
            ]
           ],
           "sequentialminus": [
            [
             0,
             "#0d0887"
            ],
            [
             0.1111111111111111,
             "#46039f"
            ],
            [
             0.2222222222222222,
             "#7201a8"
            ],
            [
             0.3333333333333333,
             "#9c179e"
            ],
            [
             0.4444444444444444,
             "#bd3786"
            ],
            [
             0.5555555555555556,
             "#d8576b"
            ],
            [
             0.6666666666666666,
             "#ed7953"
            ],
            [
             0.7777777777777778,
             "#fb9f3a"
            ],
            [
             0.8888888888888888,
             "#fdca26"
            ],
            [
             1,
             "#f0f921"
            ]
           ]
          },
          "colorway": [
           "#636efa",
           "#EF553B",
           "#00cc96",
           "#ab63fa",
           "#FFA15A",
           "#19d3f3",
           "#FF6692",
           "#B6E880",
           "#FF97FF",
           "#FECB52"
          ],
          "font": {
           "color": "#2a3f5f"
          },
          "geo": {
           "bgcolor": "white",
           "lakecolor": "white",
           "landcolor": "#E5ECF6",
           "showlakes": true,
           "showland": true,
           "subunitcolor": "white"
          },
          "hoverlabel": {
           "align": "left"
          },
          "hovermode": "closest",
          "mapbox": {
           "style": "light"
          },
          "paper_bgcolor": "white",
          "plot_bgcolor": "#E5ECF6",
          "polar": {
           "angularaxis": {
            "gridcolor": "white",
            "linecolor": "white",
            "ticks": ""
           },
           "bgcolor": "#E5ECF6",
           "radialaxis": {
            "gridcolor": "white",
            "linecolor": "white",
            "ticks": ""
           }
          },
          "scene": {
           "xaxis": {
            "backgroundcolor": "#E5ECF6",
            "gridcolor": "white",
            "gridwidth": 2,
            "linecolor": "white",
            "showbackground": true,
            "ticks": "",
            "zerolinecolor": "white"
           },
           "yaxis": {
            "backgroundcolor": "#E5ECF6",
            "gridcolor": "white",
            "gridwidth": 2,
            "linecolor": "white",
            "showbackground": true,
            "ticks": "",
            "zerolinecolor": "white"
           },
           "zaxis": {
            "backgroundcolor": "#E5ECF6",
            "gridcolor": "white",
            "gridwidth": 2,
            "linecolor": "white",
            "showbackground": true,
            "ticks": "",
            "zerolinecolor": "white"
           }
          },
          "shapedefaults": {
           "line": {
            "color": "#2a3f5f"
           }
          },
          "ternary": {
           "aaxis": {
            "gridcolor": "white",
            "linecolor": "white",
            "ticks": ""
           },
           "baxis": {
            "gridcolor": "white",
            "linecolor": "white",
            "ticks": ""
           },
           "bgcolor": "#E5ECF6",
           "caxis": {
            "gridcolor": "white",
            "linecolor": "white",
            "ticks": ""
           }
          },
          "title": {
           "x": 0.05
          },
          "xaxis": {
           "automargin": true,
           "gridcolor": "white",
           "linecolor": "white",
           "ticks": "",
           "title": {
            "standoff": 15
           },
           "zerolinecolor": "white",
           "zerolinewidth": 2
          },
          "yaxis": {
           "automargin": true,
           "gridcolor": "white",
           "linecolor": "white",
           "ticks": "",
           "title": {
            "standoff": 15
           },
           "zerolinecolor": "white",
           "zerolinewidth": 2
          }
         }
        },
        "title": {
         "text": "Distribución por sexos, muertos y vivos"
        }
       }
      }
     },
     "metadata": {},
     "output_type": "display_data"
    }
   ],
   "source": [
    "import plotly.express as px\n",
    "import pandas as pd\n",
    "data = {\n",
    "    'Sexo': ['Hombre', 'Mujer', 'Hombre', 'Mujer'],\n",
    "    'Estado': ['Muerto', 'Muerto', 'Vivo', 'Vivo'],\n",
    "    'Cantidad': [total_male, total_female, numero_male_died, numero_female_died, ]\n",
    "}\n",
    "\n",
    "df = pd.DataFrame(data)\n",
    "\n",
    "# Crear el treemap\n",
    "fig = px.treemap(df, path=['Sexo', 'Estado'], values='Cantidad')\n",
    "\n",
    "# Configurar el título del gráfico\n",
    "fig.update_layout(title='Distribución por sexos, muertos y vivos')\n",
    "\n",
    "# Mostrar el treemap\n",
    "fig.show()"
   ]
  },
  {
   "cell_type": "code",
   "execution_count": 58,
   "metadata": {},
   "outputs": [
    {
     "data": {
      "application/vnd.plotly.v1+json": {
       "config": {
        "plotlyServerURL": "https://plot.ly"
       },
       "data": [
        {
         "labels": [
          "distribucion_sexos",
          "",
          "C",
          "D",
          "E",
          "F"
         ],
         "parents": [
          "",
          "Hombre",
          "Mujer",
          "Muerto",
          "Vivo",
          "Muerto",
          "Vivo"
         ],
         "type": "treemap",
         "values": [
          10,
          20,
          30,
          40,
          50,
          60
         ]
        }
       ],
       "layout": {
        "template": {
         "data": {
          "bar": [
           {
            "error_x": {
             "color": "#2a3f5f"
            },
            "error_y": {
             "color": "#2a3f5f"
            },
            "marker": {
             "line": {
              "color": "#E5ECF6",
              "width": 0.5
             },
             "pattern": {
              "fillmode": "overlay",
              "size": 10,
              "solidity": 0.2
             }
            },
            "type": "bar"
           }
          ],
          "barpolar": [
           {
            "marker": {
             "line": {
              "color": "#E5ECF6",
              "width": 0.5
             },
             "pattern": {
              "fillmode": "overlay",
              "size": 10,
              "solidity": 0.2
             }
            },
            "type": "barpolar"
           }
          ],
          "carpet": [
           {
            "aaxis": {
             "endlinecolor": "#2a3f5f",
             "gridcolor": "white",
             "linecolor": "white",
             "minorgridcolor": "white",
             "startlinecolor": "#2a3f5f"
            },
            "baxis": {
             "endlinecolor": "#2a3f5f",
             "gridcolor": "white",
             "linecolor": "white",
             "minorgridcolor": "white",
             "startlinecolor": "#2a3f5f"
            },
            "type": "carpet"
           }
          ],
          "choropleth": [
           {
            "colorbar": {
             "outlinewidth": 0,
             "ticks": ""
            },
            "type": "choropleth"
           }
          ],
          "contour": [
           {
            "colorbar": {
             "outlinewidth": 0,
             "ticks": ""
            },
            "colorscale": [
             [
              0,
              "#0d0887"
             ],
             [
              0.1111111111111111,
              "#46039f"
             ],
             [
              0.2222222222222222,
              "#7201a8"
             ],
             [
              0.3333333333333333,
              "#9c179e"
             ],
             [
              0.4444444444444444,
              "#bd3786"
             ],
             [
              0.5555555555555556,
              "#d8576b"
             ],
             [
              0.6666666666666666,
              "#ed7953"
             ],
             [
              0.7777777777777778,
              "#fb9f3a"
             ],
             [
              0.8888888888888888,
              "#fdca26"
             ],
             [
              1,
              "#f0f921"
             ]
            ],
            "type": "contour"
           }
          ],
          "contourcarpet": [
           {
            "colorbar": {
             "outlinewidth": 0,
             "ticks": ""
            },
            "type": "contourcarpet"
           }
          ],
          "heatmap": [
           {
            "colorbar": {
             "outlinewidth": 0,
             "ticks": ""
            },
            "colorscale": [
             [
              0,
              "#0d0887"
             ],
             [
              0.1111111111111111,
              "#46039f"
             ],
             [
              0.2222222222222222,
              "#7201a8"
             ],
             [
              0.3333333333333333,
              "#9c179e"
             ],
             [
              0.4444444444444444,
              "#bd3786"
             ],
             [
              0.5555555555555556,
              "#d8576b"
             ],
             [
              0.6666666666666666,
              "#ed7953"
             ],
             [
              0.7777777777777778,
              "#fb9f3a"
             ],
             [
              0.8888888888888888,
              "#fdca26"
             ],
             [
              1,
              "#f0f921"
             ]
            ],
            "type": "heatmap"
           }
          ],
          "heatmapgl": [
           {
            "colorbar": {
             "outlinewidth": 0,
             "ticks": ""
            },
            "colorscale": [
             [
              0,
              "#0d0887"
             ],
             [
              0.1111111111111111,
              "#46039f"
             ],
             [
              0.2222222222222222,
              "#7201a8"
             ],
             [
              0.3333333333333333,
              "#9c179e"
             ],
             [
              0.4444444444444444,
              "#bd3786"
             ],
             [
              0.5555555555555556,
              "#d8576b"
             ],
             [
              0.6666666666666666,
              "#ed7953"
             ],
             [
              0.7777777777777778,
              "#fb9f3a"
             ],
             [
              0.8888888888888888,
              "#fdca26"
             ],
             [
              1,
              "#f0f921"
             ]
            ],
            "type": "heatmapgl"
           }
          ],
          "histogram": [
           {
            "marker": {
             "pattern": {
              "fillmode": "overlay",
              "size": 10,
              "solidity": 0.2
             }
            },
            "type": "histogram"
           }
          ],
          "histogram2d": [
           {
            "colorbar": {
             "outlinewidth": 0,
             "ticks": ""
            },
            "colorscale": [
             [
              0,
              "#0d0887"
             ],
             [
              0.1111111111111111,
              "#46039f"
             ],
             [
              0.2222222222222222,
              "#7201a8"
             ],
             [
              0.3333333333333333,
              "#9c179e"
             ],
             [
              0.4444444444444444,
              "#bd3786"
             ],
             [
              0.5555555555555556,
              "#d8576b"
             ],
             [
              0.6666666666666666,
              "#ed7953"
             ],
             [
              0.7777777777777778,
              "#fb9f3a"
             ],
             [
              0.8888888888888888,
              "#fdca26"
             ],
             [
              1,
              "#f0f921"
             ]
            ],
            "type": "histogram2d"
           }
          ],
          "histogram2dcontour": [
           {
            "colorbar": {
             "outlinewidth": 0,
             "ticks": ""
            },
            "colorscale": [
             [
              0,
              "#0d0887"
             ],
             [
              0.1111111111111111,
              "#46039f"
             ],
             [
              0.2222222222222222,
              "#7201a8"
             ],
             [
              0.3333333333333333,
              "#9c179e"
             ],
             [
              0.4444444444444444,
              "#bd3786"
             ],
             [
              0.5555555555555556,
              "#d8576b"
             ],
             [
              0.6666666666666666,
              "#ed7953"
             ],
             [
              0.7777777777777778,
              "#fb9f3a"
             ],
             [
              0.8888888888888888,
              "#fdca26"
             ],
             [
              1,
              "#f0f921"
             ]
            ],
            "type": "histogram2dcontour"
           }
          ],
          "mesh3d": [
           {
            "colorbar": {
             "outlinewidth": 0,
             "ticks": ""
            },
            "type": "mesh3d"
           }
          ],
          "parcoords": [
           {
            "line": {
             "colorbar": {
              "outlinewidth": 0,
              "ticks": ""
             }
            },
            "type": "parcoords"
           }
          ],
          "pie": [
           {
            "automargin": true,
            "type": "pie"
           }
          ],
          "scatter": [
           {
            "fillpattern": {
             "fillmode": "overlay",
             "size": 10,
             "solidity": 0.2
            },
            "type": "scatter"
           }
          ],
          "scatter3d": [
           {
            "line": {
             "colorbar": {
              "outlinewidth": 0,
              "ticks": ""
             }
            },
            "marker": {
             "colorbar": {
              "outlinewidth": 0,
              "ticks": ""
             }
            },
            "type": "scatter3d"
           }
          ],
          "scattercarpet": [
           {
            "marker": {
             "colorbar": {
              "outlinewidth": 0,
              "ticks": ""
             }
            },
            "type": "scattercarpet"
           }
          ],
          "scattergeo": [
           {
            "marker": {
             "colorbar": {
              "outlinewidth": 0,
              "ticks": ""
             }
            },
            "type": "scattergeo"
           }
          ],
          "scattergl": [
           {
            "marker": {
             "colorbar": {
              "outlinewidth": 0,
              "ticks": ""
             }
            },
            "type": "scattergl"
           }
          ],
          "scattermapbox": [
           {
            "marker": {
             "colorbar": {
              "outlinewidth": 0,
              "ticks": ""
             }
            },
            "type": "scattermapbox"
           }
          ],
          "scatterpolar": [
           {
            "marker": {
             "colorbar": {
              "outlinewidth": 0,
              "ticks": ""
             }
            },
            "type": "scatterpolar"
           }
          ],
          "scatterpolargl": [
           {
            "marker": {
             "colorbar": {
              "outlinewidth": 0,
              "ticks": ""
             }
            },
            "type": "scatterpolargl"
           }
          ],
          "scatterternary": [
           {
            "marker": {
             "colorbar": {
              "outlinewidth": 0,
              "ticks": ""
             }
            },
            "type": "scatterternary"
           }
          ],
          "surface": [
           {
            "colorbar": {
             "outlinewidth": 0,
             "ticks": ""
            },
            "colorscale": [
             [
              0,
              "#0d0887"
             ],
             [
              0.1111111111111111,
              "#46039f"
             ],
             [
              0.2222222222222222,
              "#7201a8"
             ],
             [
              0.3333333333333333,
              "#9c179e"
             ],
             [
              0.4444444444444444,
              "#bd3786"
             ],
             [
              0.5555555555555556,
              "#d8576b"
             ],
             [
              0.6666666666666666,
              "#ed7953"
             ],
             [
              0.7777777777777778,
              "#fb9f3a"
             ],
             [
              0.8888888888888888,
              "#fdca26"
             ],
             [
              1,
              "#f0f921"
             ]
            ],
            "type": "surface"
           }
          ],
          "table": [
           {
            "cells": {
             "fill": {
              "color": "#EBF0F8"
             },
             "line": {
              "color": "white"
             }
            },
            "header": {
             "fill": {
              "color": "#C8D4E3"
             },
             "line": {
              "color": "white"
             }
            },
            "type": "table"
           }
          ]
         },
         "layout": {
          "annotationdefaults": {
           "arrowcolor": "#2a3f5f",
           "arrowhead": 0,
           "arrowwidth": 1
          },
          "autotypenumbers": "strict",
          "coloraxis": {
           "colorbar": {
            "outlinewidth": 0,
            "ticks": ""
           }
          },
          "colorscale": {
           "diverging": [
            [
             0,
             "#8e0152"
            ],
            [
             0.1,
             "#c51b7d"
            ],
            [
             0.2,
             "#de77ae"
            ],
            [
             0.3,
             "#f1b6da"
            ],
            [
             0.4,
             "#fde0ef"
            ],
            [
             0.5,
             "#f7f7f7"
            ],
            [
             0.6,
             "#e6f5d0"
            ],
            [
             0.7,
             "#b8e186"
            ],
            [
             0.8,
             "#7fbc41"
            ],
            [
             0.9,
             "#4d9221"
            ],
            [
             1,
             "#276419"
            ]
           ],
           "sequential": [
            [
             0,
             "#0d0887"
            ],
            [
             0.1111111111111111,
             "#46039f"
            ],
            [
             0.2222222222222222,
             "#7201a8"
            ],
            [
             0.3333333333333333,
             "#9c179e"
            ],
            [
             0.4444444444444444,
             "#bd3786"
            ],
            [
             0.5555555555555556,
             "#d8576b"
            ],
            [
             0.6666666666666666,
             "#ed7953"
            ],
            [
             0.7777777777777778,
             "#fb9f3a"
            ],
            [
             0.8888888888888888,
             "#fdca26"
            ],
            [
             1,
             "#f0f921"
            ]
           ],
           "sequentialminus": [
            [
             0,
             "#0d0887"
            ],
            [
             0.1111111111111111,
             "#46039f"
            ],
            [
             0.2222222222222222,
             "#7201a8"
            ],
            [
             0.3333333333333333,
             "#9c179e"
            ],
            [
             0.4444444444444444,
             "#bd3786"
            ],
            [
             0.5555555555555556,
             "#d8576b"
            ],
            [
             0.6666666666666666,
             "#ed7953"
            ],
            [
             0.7777777777777778,
             "#fb9f3a"
            ],
            [
             0.8888888888888888,
             "#fdca26"
            ],
            [
             1,
             "#f0f921"
            ]
           ]
          },
          "colorway": [
           "#636efa",
           "#EF553B",
           "#00cc96",
           "#ab63fa",
           "#FFA15A",
           "#19d3f3",
           "#FF6692",
           "#B6E880",
           "#FF97FF",
           "#FECB52"
          ],
          "font": {
           "color": "#2a3f5f"
          },
          "geo": {
           "bgcolor": "white",
           "lakecolor": "white",
           "landcolor": "#E5ECF6",
           "showlakes": true,
           "showland": true,
           "subunitcolor": "white"
          },
          "hoverlabel": {
           "align": "left"
          },
          "hovermode": "closest",
          "mapbox": {
           "style": "light"
          },
          "paper_bgcolor": "white",
          "plot_bgcolor": "#E5ECF6",
          "polar": {
           "angularaxis": {
            "gridcolor": "white",
            "linecolor": "white",
            "ticks": ""
           },
           "bgcolor": "#E5ECF6",
           "radialaxis": {
            "gridcolor": "white",
            "linecolor": "white",
            "ticks": ""
           }
          },
          "scene": {
           "xaxis": {
            "backgroundcolor": "#E5ECF6",
            "gridcolor": "white",
            "gridwidth": 2,
            "linecolor": "white",
            "showbackground": true,
            "ticks": "",
            "zerolinecolor": "white"
           },
           "yaxis": {
            "backgroundcolor": "#E5ECF6",
            "gridcolor": "white",
            "gridwidth": 2,
            "linecolor": "white",
            "showbackground": true,
            "ticks": "",
            "zerolinecolor": "white"
           },
           "zaxis": {
            "backgroundcolor": "#E5ECF6",
            "gridcolor": "white",
            "gridwidth": 2,
            "linecolor": "white",
            "showbackground": true,
            "ticks": "",
            "zerolinecolor": "white"
           }
          },
          "shapedefaults": {
           "line": {
            "color": "#2a3f5f"
           }
          },
          "ternary": {
           "aaxis": {
            "gridcolor": "white",
            "linecolor": "white",
            "ticks": ""
           },
           "baxis": {
            "gridcolor": "white",
            "linecolor": "white",
            "ticks": ""
           },
           "bgcolor": "#E5ECF6",
           "caxis": {
            "gridcolor": "white",
            "linecolor": "white",
            "ticks": ""
           }
          },
          "title": {
           "x": 0.05
          },
          "xaxis": {
           "automargin": true,
           "gridcolor": "white",
           "linecolor": "white",
           "ticks": "",
           "title": {
            "standoff": 15
           },
           "zerolinecolor": "white",
           "zerolinewidth": 2
          },
          "yaxis": {
           "automargin": true,
           "gridcolor": "white",
           "linecolor": "white",
           "ticks": "",
           "title": {
            "standoff": 15
           },
           "zerolinecolor": "white",
           "zerolinewidth": 2
          }
         }
        }
       }
      }
     },
     "metadata": {},
     "output_type": "display_data"
    }
   ],
   "source": [
    "fig = go.Figure(go.Treemap(\n",
    "    labels=[\"distribucion_sexos\", \"\", \"C\", \"D\", \"E\", \"F\"],\n",
    "    parents=[\"\", \"Hombre\", \"Mujer\", \"Muerto\", \"Vivo\", \"Muerto\", 'Vivo'],\n",
    "    values=[10, 20, 30, 40, 50, 60],\n",
    "))\n",
    "\n",
    "fig.show()"
   ]
  },
  {
   "cell_type": "code",
   "execution_count": 59,
   "metadata": {},
   "outputs": [
    {
     "data": {
      "image/png": "[encoded data removed]",
      "text/plain": [
       "<Figure size 1000x600 with 1 Axes>"
      ]
     },
     "metadata": {},
     "output_type": "display_data"
    }
   ],
   "source": [
    "\n",
    "plt.figure(figsize=(10, 6), facecolor='none')\n",
    "distribucion_sexos = titanic['sex'].value_counts()\n",
    "plt.pie(distribucion_sexos, labels=['Male', 'Female'], startangle=90, autopct='%.1f%%', explode=[0.1, 0], colors=['skyblue', 'pink'])\n",
    "plt.legend(title=\"SEX\", labels=['Male', 'Female'])\n",
    "plt.title('DISTRIBUCIÓN POR SEXO')\n",
    "plt.show()"
   ]
  },
  {
   "cell_type": "markdown",
   "metadata": {},
   "source": [
    "* SUPERVIVIENTES POR SEXO"
   ]
  },
  {
   "cell_type": "code",
   "execution_count": 60,
   "metadata": {},
   "outputs": [
    {
     "name": "stdout",
     "output_type": "stream",
     "text": [
      "El numero de mujeres que sobreviven es: 233\n",
      "El numero de hombres que sobreviven es: 109\n"
     ]
    }
   ],
   "source": [
    "survived_pasajeros = titanic[titanic['survived'] == 1]\n",
    "female_survived = survived_pasajeros[survived_pasajeros['sex'] == 'female']\n",
    "total_female = len(titanic[titanic['sex'] == 'female'])\n",
    "numero_female_survived = len(female_survived)\n",
    "print(f'El numero de mujeres que sobreviven es: {numero_female_survived}')\n",
    "\n",
    "male_survived = survived_pasajeros[survived_pasajeros['sex'] == 'male']\n",
    "total_male = len(titanic[titanic['sex'] == 'male'])\n",
    "numero_male_survived = len(male_survived)\n",
    "print(f'El numero de hombres que sobreviven es: {numero_male_survived}')"
   ]
  },
  {
   "cell_type": "code",
   "execution_count": 61,
   "metadata": {},
   "outputs": [
    {
     "name": "stdout",
     "output_type": "stream",
     "text": [
      "El numero de mujeres que mueren es: 81\n",
      "El numero de hombres que mueren es: 468\n"
     ]
    }
   ],
   "source": [
    "numero_male_died = total_male - numero_male_survived\n",
    "numero_female_died = total_female - numero_female_survived\n",
    "print(f'El numero de mujeres que mueren es: {numero_female_died}')\n",
    "print(f'El numero de hombres que mueren es: {numero_male_died}')"
   ]
  },
  {
   "cell_type": "code",
   "execution_count": 62,
   "metadata": {},
   "outputs": [
    {
     "data": {
      "image/png": "[encoded data removed]",
      "text/plain": [
       "<Figure size 1000x600 with 1 Axes>"
      ]
     },
     "metadata": {},
     "output_type": "display_data"
    }
   ],
   "source": [
    "plt.figure(figsize=(10, 6), facecolor='none')\n",
    "sizes = [numero_female_survived, numero_female_died]\n",
    "colors = ['pink', 'black']\n",
    "plt.pie(sizes, labels=['', ''], colors=colors, startangle=90, autopct='%1.1f%%', explode=[0.1, 0],\n",
    "        pctdistance=1.3, labeldistance=1.2)\n",
    "plt.title('PROPORCIÓN DE MUJERES QUE SOBREVIVIERON EN EL TITANIC')\n",
    "plt.legend(labels=['MUJERES SUPERVIVIENTES', 'MUERTES MUJERES'], loc ='upper left', bbox_to_anchor=(1, 1))\n",
    "plt.show()"
   ]
  },
  {
   "cell_type": "code",
   "execution_count": 63,
   "metadata": {},
   "outputs": [
    {
     "data": {
      "image/png": "[encoded data removed]",
      "text/plain": [
       "<Figure size 1000x600 with 1 Axes>"
      ]
     },
     "metadata": {},
     "output_type": "display_data"
    }
   ],
   "source": [
    "plt.figure(figsize=(10, 6), facecolor='none')\n",
    "sizes = [numero_male_survived, numero_male_died]\n",
    "colors = ['skyblue', 'black']\n",
    "plt.pie(sizes, labels=['', ''], colors=colors, startangle=90, autopct='%1.1f%%', explode=[0.1, 0],\n",
    "        pctdistance=1.3, labeldistance=1.2)\n",
    "plt.title('PROPORCIÓN DE HOMBRES QUE SOBREVIVIERON EN EL TITANIC')\n",
    "plt.legend(labels=['HOMBRES SUPERVIVIENTES', 'MUERTES HOMBRES'], loc ='upper left', bbox_to_anchor=(0.9, 1))\n",
    "plt.show()"
   ]
  },
  {
   "cell_type": "code",
   "execution_count": 64,
   "metadata": {},
   "outputs": [
    {
     "name": "stdout",
     "output_type": "stream",
     "text": [
      "Numero de pasajeros totales era de 891\n",
      "El numero de pasajeros que fallecen es: 549\n",
      "El numero de pasajeros que sobreviven es: 342\n"
     ]
    }
   ],
   "source": [
    "numero_passengers_died = numero_female_died + numero_male_died\n",
    "numero_passengers_survived = numero_female_survived + numero_male_survived\n",
    "total_passengers = numero_passengers_survived + numero_passengers_died\n",
    "print(f'Numero de pasajeros totales era de {total_passengers}')\n",
    "print(f'El numero de pasajeros que fallecen es: {numero_passengers_died}')\n",
    "print(f'El numero de pasajeros que sobreviven es: {numero_passengers_survived}')"
   ]
  },
  {
   "cell_type": "code",
   "execution_count": 65,
   "metadata": {},
   "outputs": [
    {
     "data": {
      "image/png": "[encoded data removed]",
      "text/plain": [
       "<Figure size 640x480 with 1 Axes>"
      ]
     },
     "metadata": {},
     "output_type": "display_data"
    }
   ],
   "source": [
    "sizes = [numero_male_survived, numero_male_died]\n",
    "colors = ['yellow', 'black']\n",
    "plt.pie(sizes, labels=['', ''], colors=colors, startangle=90, autopct='%1.1f%%', explode=[0.1, 0],\n",
    "        pctdistance=1.3, labeldistance=1.2)\n",
    "plt.title('PROPORCIÓN DE MUJERES QUE SOBREVIVIERON EN EL TITANIC')\n",
    "plt.legend(labels=['HOMBRES SUPERVIVIENTES', 'MUERTES HOMBRES'], loc ='upper left', bbox_to_anchor=(0.9, 1))\n",
    "plt.show()"
   ]
  },
  {
   "cell_type": "code",
   "execution_count": 66,
   "metadata": {},
   "outputs": [
    {
     "data": {
      "image/png": "[encoded data removed]",
      "text/plain": [
       "<Figure size 640x480 with 1 Axes>"
      ]
     },
     "metadata": {},
     "output_type": "display_data"
    }
   ],
   "source": [
    "sobrevivientes_por_sexo = titanic[titanic['survived'] == 1]['sex'].value_counts()\n",
    "\n",
    "# Crear el gráfico de pastel\n",
    "plt.pie(distribucion_sexos, labels=['', ''], colors=['pink', 'skyblue'], autopct='%1.1f%%', startangle=90, explode=[0.1, 0], pctdistance=1.3, labeldistance=1.2)\n",
    "plt.title('SUPERVIVIENTES POR SEXO')\n",
    "plt.legend(labels=['MUJERES', 'HOMBRES'], loc ='upper left', bbox_to_anchor=(0.9, 1))\n",
    "plt.show()\n"
   ]
  },
  {
   "cell_type": "code",
   "execution_count": 67,
   "metadata": {},
   "outputs": [
    {
     "name": "stdout",
     "output_type": "stream",
     "text": [
      "Clase de los pasajeros embarcados en el puerto S:\n",
      "3    353\n",
      "2    164\n",
      "1    127\n",
      "Name: pclass, dtype: int64\n",
      "\n",
      "Clase de los pasajeros embarcados en el puerto C:\n",
      "1    85\n",
      "3    66\n",
      "2    17\n",
      "Name: pclass, dtype: int64\n",
      "\n",
      "Clase de los pasajeros embarcados en el puerto Q:\n",
      "3    72\n",
      "2     3\n",
      "1     2\n",
      "Name: pclass, dtype: int64\n"
     ]
    }
   ],
   "source": [
    "clase_puerto_S = titanic[titanic['embarked'] == 'S']['pclass'].value_counts()\n",
    "clase_puerto_C = titanic[titanic['embarked'] == 'C']['pclass'].value_counts()\n",
    "clase_puerto_Q = titanic[titanic['embarked'] == 'Q']['pclass'].value_counts()\n",
    "\n",
    "print(\"Clase de los pasajeros embarcados en el puerto S:\")\n",
    "print(clase_puerto_S)\n",
    "print(\"\\nClase de los pasajeros embarcados en el puerto C:\")\n",
    "print(clase_puerto_C)\n",
    "print(\"\\nClase de los pasajeros embarcados en el puerto Q:\")\n",
    "print(clase_puerto_Q)"
   ]
  },
  {
   "cell_type": "code",
   "execution_count": 68,
   "metadata": {},
   "outputs": [
    {
     "data": {
      "text/plain": [
       "<Figure size 1000x600 with 0 Axes>"
      ]
     },
     "metadata": {},
     "output_type": "display_data"
    },
    {
     "data": {
      "image/png": "[encoded data removed]",
      "text/plain": [
       "<Figure size 1200x400 with 3 Axes>"
      ]
     },
     "metadata": {
      "needs_background": "light"
     },
     "output_type": "display_data"
    }
   ],
   "source": [
    "plt.figure(figsize=(10, 6), facecolor='none')\n",
    "\n",
    "puertos = ['S', 'C', 'Q']\n",
    "clase_puerto = [clase_puerto_S, clase_puerto_C, clase_puerto_Q]\n",
    "fig, axs = plt.subplots(1, 3, figsize=(12, 4), facecolor='none')\n",
    "custom_palette = sns.color_palette(['#FF69B4', '#FFC0CB', 'black'])\n",
    "colores_puertos = dict(zip(puertos, custom_palette))\n",
    "### S\n",
    "axs[0].bar(clase_puerto_S.index, clase_puerto_S.values, color=colores_puertos['S'])\n",
    "axs[0].set_title('Puerto S')\n",
    "axs[0].set_xlabel('Clase')\n",
    "axs[0].set_ylabel('Cantidad')\n",
    "\n",
    "###C\n",
    "axs[1].bar(clase_puerto_C.index, clase_puerto_C.values,color=colores_puertos['C'])\n",
    "axs[1].set_title('Puerto C')\n",
    "axs[1].set_xlabel('Clase')\n",
    "axs[1].set_ylabel('Cantidad')\n",
    "\n",
    "### Q\n",
    "axs[2].bar(clase_puerto_Q.index, clase_puerto_Q.values, color=colores_puertos['Q'])\n",
    "axs[2].set_title('Puerto Q')\n",
    "axs[2].set_xlabel('Clase')\n",
    "axs[2].set_ylabel('Cantidad')\n",
    "plt.tight_layout()\n",
    "plt.show()"
   ]
  },
  {
   "cell_type": "code",
   "execution_count": 69,
   "metadata": {},
   "outputs": [
    {
     "data": {
      "image/png": "[encoded data removed]",
      "text/plain": [
       "<Figure size 1000x600 with 1 Axes>"
      ]
     },
     "metadata": {
      "needs_background": "light"
     },
     "output_type": "display_data"
    }
   ],
   "source": [
    "custom_palette = sns.color_palette(['#FF69B4', '#FFC0CB', 'black'])\n",
    "plt.figure(figsize=(10, 6), facecolor='none')\n",
    "\n",
    "\n",
    "sns.countplot(x='survived', hue='embarked', data=titanic, palette=custom_palette, hue_order=['C', 'Q', 'S'])\n",
    "plt.title('Destino y Puerto de Embarque', y= 1.02)\n",
    "plt.xlabel('Destino')\n",
    "plt.ylabel('Numero de pasajeros')\n",
    "plt.legend(title='Embarked')\n",
    "sns.despine()\n",
    "plt.show()"
   ]
  },
  {
   "cell_type": "markdown",
   "metadata": {},
   "source": [
    "*********\n",
    "\n"
   ]
  },
  {
   "cell_type": "code",
   "execution_count": 70,
   "metadata": {},
   "outputs": [],
   "source": [
    "conditions = [\n",
    "    (titanic['age'] < 18),\n",
    "    (titanic['age'] >= 18) & (titanic['age'] < 35),\n",
    "    (titanic['age'] >= 35) & (titanic['age'] < 60),\n",
    "    (titanic['age'] >= 60)\n",
    "]\n",
    "values = ['niños', 'joven-adulto', 'adultos', 'ancianos']\n",
    "titanic['horquilla'] = np.select(conditions, values)"
   ]
  },
  {
   "cell_type": "code",
   "execution_count": 71,
   "metadata": {},
   "outputs": [],
   "source": [
    "mapping = {0: 'muere', 1: 'sobrevive'}\n",
    "titanic['destino'] = titanic['survived'].map(mapping)"
   ]
  },
  {
   "cell_type": "code",
   "execution_count": 72,
   "metadata": {},
   "outputs": [],
   "source": [
    "condicion= [\n",
    "    (titanic['pclass'] == 1),\n",
    "    (titanic['pclass'] == 2),\n",
    "    (titanic['pclass'] == 3)\n",
    "]\n",
    "valor = ['alta', 'media', 'baja']\n",
    "titanic['clase'] = np.select(condicion, valor)"
   ]
  },
  {
   "cell_type": "code",
   "execution_count": 73,
   "metadata": {},
   "outputs": [
    {
     "name": "stdout",
     "output_type": "stream",
     "text": [
      "Títulos únicos que aparecen acompañando los nombres:\n",
      "['Mr' 'Mrs' 'Miss' 'Master' 'Don' 'Rev' 'Dr' 'Mme' 'Ms' 'Major' 'Lady'\n",
      " 'Sir' 'Mlle' 'Col' 'Capt' 'the Countess' 'Jonkheer']\n"
     ]
    }
   ],
   "source": [
    "titulos = titanic['name'].str.extract(r',\\s*([^\\.]*)\\.', expand=False)\n",
    "titulos_unicos = titulos.unique()\n",
    "print(\"Títulos únicos que aparecen acompañando los nombres:\")\n",
    "print(titulos_unicos)\n",
    "titanic['titulos'] = titulos"
   ]
  },
  {
   "cell_type": "code",
   "execution_count": 74,
   "metadata": {},
   "outputs": [],
   "source": [
    "nuevo = ['passengerid', 'survived', 'destino', 'pclass', 'clase', 'name', 'titulos', 'sex', 'age','horquilla', 'sibsp',\n",
    "       'parch', 'ticket', 'fare', 'cabin', 'embarked']"
   ]
  },
  {
   "cell_type": "code",
   "execution_count": 75,
   "metadata": {},
   "outputs": [],
   "source": [
    "titanic = titanic[nuevo]"
   ]
  },
  {
   "cell_type": "code",
   "execution_count": 76,
   "metadata": {},
   "outputs": [
    {
     "data": {
      "text/html": [
       "<div>\n",
       "<style scoped>\n",
       "    .dataframe tbody tr th:only-of-type {\n",
       "        vertical-align: middle;\n",
       "    }\n",
       "\n",
       "    .dataframe tbody tr th {\n",
       "        vertical-align: top;\n",
       "    }\n",
       "\n",
       "    .dataframe thead th {\n",
       "        text-align: right;\n",
       "    }\n",
       "</style>\n",
       "<table border=\"1\" class=\"dataframe\">\n",
       "  <thead>\n",
       "    <tr style=\"text-align: right;\">\n",
       "      <th></th>\n",
       "      <th>sex</th>\n",
       "      <th>horquilla</th>\n",
       "      <th>destino</th>\n",
       "      <th>titulos</th>\n",
       "      <th>clase</th>\n",
       "      <th>embarked</th>\n",
       "      <th>survived</th>\n",
       "    </tr>\n",
       "  </thead>\n",
       "  <tbody>\n",
       "    <tr>\n",
       "      <th>0</th>\n",
       "      <td>male</td>\n",
       "      <td>joven-adulto</td>\n",
       "      <td>muere</td>\n",
       "      <td>Mr</td>\n",
       "      <td>baja</td>\n",
       "      <td>S</td>\n",
       "      <td>0</td>\n",
       "    </tr>\n",
       "  </tbody>\n",
       "</table>\n",
       "</div>"
      ],
      "text/plain": [
       "    sex     horquilla destino titulos clase embarked  survived\n",
       "0  male  joven-adulto   muere      Mr  baja        S         0"
      ]
     },
     "execution_count": 76,
     "metadata": {},
     "output_type": "execute_result"
    }
   ],
   "source": [
    "categorias = titanic[['sex', 'horquilla', 'destino', 'titulos', 'clase', 'embarked', 'survived']]\n",
    "categorias.head(1)"
   ]
  },
  {
   "cell_type": "code",
   "execution_count": 77,
   "metadata": {},
   "outputs": [
    {
     "data": {
      "application/vnd.plotly.v1+json": {
       "config": {
        "plotlyServerURL": "https://plot.ly"
       },
       "data": [
        {
         "dimensions": [
          {
           "label": "sex",
           "values": [
            "male",
            "female",
            "female",
            "female",
            "male",
            "male",
            "male",
            "male",
            "female",
            "female",
            "female",
            "female",
            "male",
            "male",
            "female",
            "female",
            "male",
            "male",
            "female",
            "female",
            "male",
            "male",
            "female",
            "male",
            "female",
            "female",
            "male",
            "male",
            "female",
            "male",
            "male",
            "female",
            "female",
            "male",
            "male",
            "male",
            "male",
            "male",
            "female",
            "female",
            "female",
            "female",
            "male",
            "female",
            "female",
            "male",
            "male",
            "female",
            "male",
            "female",
            "male",
            "male",
            "female",
            "female",
            "male",
            "male",
            "female",
            "male",
            "female",
            "male",
            "male",
            "female",
            "male",
            "male",
            "male",
            "male",
            "female",
            "male",
            "female",
            "male",
            "male",
            "female",
            "male",
            "male",
            "male",
            "male",
            "male",
            "male",
            "male",
            "female",
            "male",
            "male",
            "female",
            "male",
            "female",
            "female",
            "male",
            "male",
            "female",
            "male",
            "male",
            "male",
            "male",
            "male",
            "male",
            "male",
            "male",
            "male",
            "female",
            "male",
            "female",
            "male",
            "male",
            "male",
            "male",
            "male",
            "female",
            "male",
            "male",
            "female",
            "male",
            "female",
            "male",
            "female",
            "female",
            "male",
            "male",
            "male",
            "male",
            "female",
            "male",
            "male",
            "male",
            "female",
            "male",
            "male",
            "male",
            "male",
            "female",
            "male",
            "male",
            "male",
            "female",
            "female",
            "male",
            "male",
            "female",
            "male",
            "male",
            "male",
            "female",
            "female",
            "female",
            "male",
            "male",
            "male",
            "male",
            "female",
            "male",
            "male",
            "male",
            "female",
            "male",
            "male",
            "male",
            "male",
            "female",
            "male",
            "male",
            "male",
            "male",
            "female",
            "male",
            "male",
            "male",
            "male",
            "female",
            "female",
            "male",
            "male",
            "male",
            "male",
            "female",
            "male",
            "male",
            "male",
            "male",
            "female",
            "male",
            "male",
            "female",
            "male",
            "male",
            "male",
            "female",
            "male",
            "female",
            "male",
            "male",
            "male",
            "female",
            "male",
            "female",
            "male",
            "female",
            "female",
            "male",
            "male",
            "female",
            "female",
            "male",
            "male",
            "male",
            "male",
            "male",
            "female",
            "male",
            "male",
            "female",
            "male",
            "male",
            "female",
            "male",
            "male",
            "male",
            "female",
            "female",
            "male",
            "female",
            "male",
            "male",
            "male",
            "male",
            "male",
            "male",
            "male",
            "male",
            "male",
            "male",
            "female",
            "female",
            "male",
            "male",
            "female",
            "male",
            "female",
            "male",
            "female",
            "male",
            "male",
            "female",
            "female",
            "male",
            "male",
            "male",
            "male",
            "female",
            "female",
            "male",
            "male",
            "male",
            "female",
            "male",
            "male",
            "female",
            "female",
            "female",
            "female",
            "female",
            "female",
            "male",
            "male",
            "male",
            "male",
            "female",
            "male",
            "male",
            "male",
            "female",
            "female",
            "male",
            "male",
            "female",
            "male",
            "female",
            "female",
            "female",
            "male",
            "male",
            "female",
            "male",
            "male",
            "male",
            "male",
            "male",
            "male",
            "male",
            "male",
            "male",
            "female",
            "female",
            "female",
            "male",
            "female",
            "male",
            "male",
            "male",
            "female",
            "male",
            "female",
            "female",
            "male",
            "male",
            "female",
            "male",
            "male",
            "female",
            "female",
            "male",
            "female",
            "female",
            "female",
            "female",
            "male",
            "male",
            "female",
            "female",
            "male",
            "female",
            "female",
            "male",
            "male",
            "female",
            "female",
            "male",
            "female",
            "male",
            "female",
            "female",
            "female",
            "female",
            "male",
            "male",
            "male",
            "female",
            "male",
            "male",
            "female",
            "male",
            "male",
            "male",
            "female",
            "male",
            "male",
            "male",
            "female",
            "female",
            "female",
            "male",
            "male",
            "male",
            "male",
            "male",
            "male",
            "male",
            "male",
            "female",
            "female",
            "female",
            "female",
            "male",
            "male",
            "female",
            "male",
            "male",
            "male",
            "female",
            "female",
            "female",
            "female",
            "male",
            "male",
            "male",
            "male",
            "female",
            "female",
            "female",
            "male",
            "male",
            "male",
            "female",
            "female",
            "male",
            "female",
            "male",
            "male",
            "male",
            "female",
            "male",
            "female",
            "male",
            "male",
            "male",
            "female",
            "female",
            "male",
            "female",
            "male",
            "male",
            "female",
            "male",
            "male",
            "female",
            "male",
            "female",
            "male",
            "male",
            "male",
            "male",
            "female",
            "male",
            "male",
            "female",
            "male",
            "male",
            "female",
            "female",
            "female",
            "male",
            "female",
            "male",
            "male",
            "male",
            "female",
            "male",
            "male",
            "female",
            "female",
            "male",
            "male",
            "male",
            "female",
            "female",
            "male",
            "male",
            "female",
            "female",
            "female",
            "male",
            "male",
            "female",
            "male",
            "male",
            "female",
            "male",
            "male",
            "female",
            "male",
            "female",
            "male",
            "male",
            "male",
            "male",
            "male",
            "male",
            "male",
            "male",
            "female",
            "female",
            "male",
            "male",
            "male",
            "male",
            "male",
            "male",
            "male",
            "male",
            "male",
            "male",
            "female",
            "male",
            "male",
            "female",
            "female",
            "female",
            "male",
            "male",
            "male",
            "male",
            "female",
            "male",
            "male",
            "male",
            "female",
            "male",
            "female",
            "female",
            "male",
            "male",
            "male",
            "male",
            "male",
            "male",
            "male",
            "male",
            "male",
            "female",
            "male",
            "female",
            "male",
            "male",
            "female",
            "female",
            "female",
            "female",
            "male",
            "female",
            "male",
            "male",
            "male",
            "male",
            "male",
            "male",
            "female",
            "male",
            "male",
            "female",
            "male",
            "female",
            "male",
            "female",
            "male",
            "male",
            "female",
            "male",
            "male",
            "female",
            "male",
            "male",
            "male",
            "female",
            "male",
            "male",
            "female",
            "female",
            "female",
            "male",
            "female",
            "male",
            "female",
            "female",
            "female",
            "female",
            "male",
            "male",
            "male",
            "female",
            "male",
            "male",
            "male",
            "male",
            "male",
            "male",
            "male",
            "female",
            "male",
            "female",
            "male",
            "female",
            "female",
            "male",
            "male",
            "male",
            "male",
            "female",
            "male",
            "male",
            "female",
            "male",
            "male",
            "male",
            "female",
            "male",
            "female",
            "male",
            "male",
            "female",
            "female",
            "female",
            "male",
            "female",
            "female",
            "male",
            "male",
            "male",
            "female",
            "male",
            "male",
            "male",
            "male",
            "male",
            "female",
            "male",
            "female",
            "male",
            "male",
            "female",
            "male",
            "male",
            "male",
            "female",
            "male",
            "male",
            "male",
            "male",
            "male",
            "male",
            "male",
            "female",
            "female",
            "female",
            "male",
            "female",
            "male",
            "male",
            "female",
            "male",
            "female",
            "female",
            "male",
            "male",
            "male",
            "male",
            "male",
            "male",
            "male",
            "male",
            "female",
            "male",
            "male",
            "male",
            "male",
            "male",
            "male",
            "female",
            "female",
            "male",
            "male",
            "female",
            "male",
            "male",
            "female",
            "female",
            "male",
            "female",
            "male",
            "male",
            "male",
            "male",
            "female",
            "male",
            "female",
            "male",
            "female",
            "female",
            "male",
            "male",
            "female",
            "male",
            "male",
            "male",
            "male",
            "male",
            "male",
            "male",
            "male",
            "male",
            "male",
            "male",
            "female",
            "female",
            "male",
            "male",
            "male",
            "male",
            "male",
            "male",
            "female",
            "female",
            "male",
            "female",
            "male",
            "male",
            "male",
            "male",
            "male",
            "male",
            "male",
            "male",
            "female",
            "male",
            "female",
            "male",
            "male",
            "male",
            "male",
            "male",
            "female",
            "male",
            "male",
            "female",
            "male",
            "female",
            "male",
            "male",
            "male",
            "female",
            "male",
            "female",
            "male",
            "female",
            "male",
            "male",
            "male",
            "male",
            "male",
            "female",
            "female",
            "male",
            "male",
            "female",
            "male",
            "male",
            "male",
            "male",
            "male",
            "female",
            "female",
            "male",
            "female",
            "female",
            "male",
            "male",
            "male",
            "male",
            "male",
            "female",
            "male",
            "male",
            "male",
            "male",
            "male",
            "female",
            "male",
            "male",
            "male",
            "male",
            "female",
            "male",
            "male",
            "female",
            "male",
            "male",
            "male",
            "female",
            "male",
            "male",
            "male",
            "male",
            "female",
            "male",
            "male",
            "male",
            "female",
            "male",
            "female",
            "male",
            "female",
            "male",
            "male",
            "male",
            "male",
            "female",
            "male",
            "female",
            "male",
            "male",
            "female",
            "male",
            "female",
            "female",
            "female",
            "male",
            "male",
            "male",
            "male",
            "female",
            "male",
            "male",
            "male",
            "male",
            "male",
            "female",
            "male",
            "male",
            "male",
            "female",
            "female",
            "male",
            "female",
            "male",
            "female",
            "male",
            "male",
            "male",
            "male",
            "male",
            "female",
            "male",
            "female",
            "male",
            "male",
            "male",
            "female",
            "male",
            "male",
            "female",
            "male",
            "male",
            "male",
            "female",
            "male",
            "male",
            "female",
            "male",
            "male",
            "male",
            "male",
            "male",
            "female",
            "female",
            "male",
            "male",
            "male",
            "male",
            "female",
            "male",
            "male",
            "male",
            "male",
            "male",
            "male",
            "female",
            "male",
            "male",
            "male",
            "male",
            "male",
            "male",
            "female",
            "male",
            "male",
            "female",
            "female",
            "female",
            "female",
            "female",
            "male",
            "female",
            "male",
            "male",
            "male",
            "female",
            "female",
            "male",
            "female",
            "female",
            "male",
            "male",
            "male",
            "male",
            "female",
            "male",
            "male",
            "female",
            "female",
            "male",
            "male",
            "male",
            "female",
            "female",
            "male",
            "female",
            "male",
            "male",
            "female",
            "male",
            "female",
            "female",
            "male",
            "male"
           ]
          },
          {
           "label": "horquilla",
           "values": [
            "joven-adulto",
            "adultos",
            "joven-adulto",
            "adultos",
            "adultos",
            "joven-adulto",
            "adultos",
            "niños",
            "joven-adulto",
            "niños",
            "niños",
            "adultos",
            "joven-adulto",
            "adultos",
            "niños",
            "adultos",
            "niños",
            "joven-adulto",
            "joven-adulto",
            "joven-adulto",
            "adultos",
            "joven-adulto",
            "niños",
            "joven-adulto",
            "niños",
            "adultos",
            "joven-adulto",
            "joven-adulto",
            "joven-adulto",
            "joven-adulto",
            "adultos",
            "joven-adulto",
            "joven-adulto",
            "ancianos",
            "joven-adulto",
            "adultos",
            "joven-adulto",
            "joven-adulto",
            "joven-adulto",
            "niños",
            "adultos",
            "joven-adulto",
            "joven-adulto",
            "niños",
            "joven-adulto",
            "joven-adulto",
            "joven-adulto",
            "joven-adulto",
            "joven-adulto",
            "joven-adulto",
            "niños",
            "joven-adulto",
            "adultos",
            "joven-adulto",
            "ancianos",
            "joven-adulto",
            "joven-adulto",
            "joven-adulto",
            "niños",
            "niños",
            "joven-adulto",
            "adultos",
            "adultos",
            "niños",
            "joven-adulto",
            "joven-adulto",
            "joven-adulto",
            "joven-adulto",
            "niños",
            "joven-adulto",
            "joven-adulto",
            "niños",
            "joven-adulto",
            "joven-adulto",
            "joven-adulto",
            "joven-adulto",
            "joven-adulto",
            "joven-adulto",
            "niños",
            "joven-adulto",
            "joven-adulto",
            "joven-adulto",
            "joven-adulto",
            "joven-adulto",
            "niños",
            "joven-adulto",
            "niños",
            "joven-adulto",
            "joven-adulto",
            "joven-adulto",
            "joven-adulto",
            "joven-adulto",
            "adultos",
            "joven-adulto",
            "adultos",
            "joven-adulto",
            "ancianos",
            "joven-adulto",
            "joven-adulto",
            "joven-adulto",
            "joven-adulto",
            "joven-adulto",
            "joven-adulto",
            "joven-adulto",
            "adultos",
            "joven-adulto",
            "joven-adulto",
            "joven-adulto",
            "adultos",
            "joven-adulto",
            "adultos",
            "niños",
            "joven-adulto",
            "joven-adulto",
            "niños",
            "joven-adulto",
            "ancianos",
            "joven-adulto",
            "joven-adulto",
            "niños",
            "joven-adulto",
            "joven-adulto",
            "joven-adulto",
            "joven-adulto",
            "adultos",
            "niños",
            "joven-adulto",
            "joven-adulto",
            "joven-adulto",
            "adultos",
            "joven-adulto",
            "joven-adulto",
            "adultos",
            "joven-adulto",
            "joven-adulto",
            "joven-adulto",
            "joven-adulto",
            "adultos",
            "niños",
            "joven-adulto",
            "joven-adulto",
            "joven-adulto",
            "joven-adulto",
            "joven-adulto",
            "joven-adulto",
            "joven-adulto",
            "joven-adulto",
            "niños",
            "adultos",
            "adultos",
            "adultos",
            "joven-adulto",
            "adultos",
            "adultos",
            "joven-adulto",
            "adultos",
            "niños",
            "joven-adulto",
            "joven-adulto",
            "joven-adulto",
            "adultos",
            "adultos",
            "joven-adulto",
            "niños",
            "niños",
            "niños",
            "joven-adulto",
            "adultos",
            "joven-adulto",
            "joven-adulto",
            "ancianos",
            "niños",
            "niños",
            "joven-adulto",
            "adultos",
            "joven-adulto",
            "joven-adulto",
            "adultos",
            "joven-adulto",
            "adultos",
            "joven-adulto",
            "joven-adulto",
            "niños",
            "niños",
            "niños",
            "joven-adulto",
            "joven-adulto",
            "adultos",
            "adultos",
            "adultos",
            "joven-adulto",
            "joven-adulto",
            "joven-adulto",
            "niños",
            "adultos",
            "adultos",
            "joven-adulto",
            "adultos",
            "joven-adulto",
            "joven-adulto",
            "joven-adulto",
            "joven-adulto",
            "joven-adulto",
            "adultos",
            "joven-adulto",
            "niños",
            "joven-adulto",
            "joven-adulto",
            "niños",
            "adultos",
            "joven-adulto",
            "adultos",
            "joven-adulto",
            "joven-adulto",
            "joven-adulto",
            "joven-adulto",
            "joven-adulto",
            "adultos",
            "joven-adulto",
            "joven-adulto",
            "niños",
            "joven-adulto",
            "adultos",
            "joven-adulto",
            "adultos",
            "joven-adulto",
            "joven-adulto",
            "joven-adulto",
            "joven-adulto",
            "joven-adulto",
            "adultos",
            "joven-adulto",
            "adultos",
            "niños",
            "joven-adulto",
            "joven-adulto",
            "adultos",
            "niños",
            "joven-adulto",
            "joven-adulto",
            "joven-adulto",
            "joven-adulto",
            "joven-adulto",
            "joven-adulto",
            "joven-adulto",
            "adultos",
            "joven-adulto",
            "joven-adulto",
            "adultos",
            "adultos",
            "joven-adulto",
            "joven-adulto",
            "ancianos",
            "joven-adulto",
            "adultos",
            "joven-adulto",
            "joven-adulto",
            "joven-adulto",
            "adultos",
            "adultos",
            "joven-adulto",
            "niños",
            "adultos",
            "adultos",
            "joven-adulto",
            "adultos",
            "niños",
            "joven-adulto",
            "adultos",
            "adultos",
            "joven-adulto",
            "joven-adulto",
            "adultos",
            "adultos",
            "joven-adulto",
            "ancianos",
            "adultos",
            "joven-adulto",
            "niños",
            "adultos",
            "ancianos",
            "joven-adulto",
            "niños",
            "joven-adulto",
            "joven-adulto",
            "joven-adulto",
            "joven-adulto",
            "joven-adulto",
            "adultos",
            "joven-adulto",
            "joven-adulto",
            "joven-adulto",
            "adultos",
            "joven-adulto",
            "joven-adulto",
            "joven-adulto",
            "joven-adulto",
            "niños",
            "joven-adulto",
            "adultos",
            "joven-adulto",
            "joven-adulto",
            "joven-adulto",
            "joven-adulto",
            "joven-adulto",
            "niños",
            "joven-adulto",
            "niños",
            "joven-adulto",
            "joven-adulto",
            "joven-adulto",
            "joven-adulto",
            "joven-adulto",
            "joven-adulto",
            "adultos",
            "joven-adulto",
            "joven-adulto",
            "adultos",
            "joven-adulto",
            "adultos",
            "joven-adulto",
            "joven-adulto",
            "joven-adulto",
            "joven-adulto",
            "joven-adulto",
            "adultos",
            "ancianos",
            "adultos",
            "joven-adulto",
            "niños",
            "joven-adulto",
            "adultos",
            "adultos",
            "niños",
            "joven-adulto",
            "joven-adulto",
            "joven-adulto",
            "adultos",
            "adultos",
            "adultos",
            "niños",
            "joven-adulto",
            "joven-adulto",
            "joven-adulto",
            "adultos",
            "joven-adulto",
            "adultos",
            "joven-adulto",
            "niños",
            "adultos",
            "joven-adulto",
            "joven-adulto",
            "niños",
            "joven-adulto",
            "joven-adulto",
            "joven-adulto",
            "joven-adulto",
            "adultos",
            "joven-adulto",
            "joven-adulto",
            "adultos",
            "joven-adulto",
            "adultos",
            "adultos",
            "joven-adulto",
            "joven-adulto",
            "ancianos",
            "joven-adulto",
            "joven-adulto",
            "joven-adulto",
            "joven-adulto",
            "joven-adulto",
            "joven-adulto",
            "joven-adulto",
            "niños",
            "joven-adulto",
            "joven-adulto",
            "joven-adulto",
            "joven-adulto",
            "joven-adulto",
            "adultos",
            "niños",
            "joven-adulto",
            "adultos",
            "joven-adulto",
            "joven-adulto",
            "niños",
            "adultos",
            "joven-adulto",
            "niños",
            "adultos",
            "joven-adulto",
            "joven-adulto",
            "joven-adulto",
            "joven-adulto",
            "joven-adulto",
            "joven-adulto",
            "adultos",
            "joven-adulto",
            "joven-adulto",
            "adultos",
            "joven-adulto",
            "joven-adulto",
            "joven-adulto",
            "joven-adulto",
            "joven-adulto",
            "adultos",
            "niños",
            "joven-adulto",
            "joven-adulto",
            "joven-adulto",
            "joven-adulto",
            "joven-adulto",
            "joven-adulto",
            "adultos",
            "joven-adulto",
            "joven-adulto",
            "joven-adulto",
            "joven-adulto",
            "niños",
            "joven-adulto",
            "joven-adulto",
            "joven-adulto",
            "joven-adulto",
            "joven-adulto",
            "joven-adulto",
            "joven-adulto",
            "joven-adulto",
            "joven-adulto",
            "joven-adulto",
            "joven-adulto",
            "joven-adulto",
            "adultos",
            "niños",
            "adultos",
            "niños",
            "joven-adulto",
            "joven-adulto",
            "ancianos",
            "joven-adulto",
            "adultos",
            "joven-adulto",
            "joven-adulto",
            "joven-adulto",
            "joven-adulto",
            "niños",
            "niños",
            "joven-adulto",
            "niños",
            "adultos",
            "adultos",
            "joven-adulto",
            "joven-adulto",
            "adultos",
            "joven-adulto",
            "joven-adulto",
            "ancianos",
            "joven-adulto",
            "adultos",
            "joven-adulto",
            "adultos",
            "joven-adulto",
            "adultos",
            "adultos",
            "joven-adulto",
            "adultos",
            "joven-adulto",
            "adultos",
            "joven-adulto",
            "niños",
            "joven-adulto",
            "adultos",
            "joven-adulto",
            "joven-adulto",
            "joven-adulto",
            "joven-adulto",
            "joven-adulto",
            "joven-adulto",
            "joven-adulto",
            "niños",
            "niños",
            "joven-adulto",
            "adultos",
            "ancianos",
            "joven-adulto",
            "joven-adulto",
            "adultos",
            "adultos",
            "joven-adulto",
            "niños",
            "joven-adulto",
            "joven-adulto",
            "adultos",
            "ancianos",
            "joven-adulto",
            "joven-adulto",
            "adultos",
            "joven-adulto",
            "joven-adulto",
            "joven-adulto",
            "niños",
            "joven-adulto",
            "joven-adulto",
            "adultos",
            "niños",
            "joven-adulto",
            "joven-adulto",
            "joven-adulto",
            "joven-adulto",
            "joven-adulto",
            "joven-adulto",
            "joven-adulto",
            "adultos",
            "adultos",
            "joven-adulto",
            "adultos",
            "joven-adulto",
            "joven-adulto",
            "adultos",
            "joven-adulto",
            "joven-adulto",
            "joven-adulto",
            "joven-adulto",
            "adultos",
            "joven-adulto",
            "adultos",
            "adultos",
            "joven-adulto",
            "adultos",
            "joven-adulto",
            "niños",
            "joven-adulto",
            "niños",
            "joven-adulto",
            "joven-adulto",
            "niños",
            "adultos",
            "joven-adulto",
            "joven-adulto",
            "joven-adulto",
            "adultos",
            "niños",
            "niños",
            "joven-adulto",
            "adultos",
            "ancianos",
            "joven-adulto",
            "joven-adulto",
            "joven-adulto",
            "niños",
            "niños",
            "joven-adulto",
            "joven-adulto",
            "joven-adulto",
            "joven-adulto",
            "ancianos",
            "adultos",
            "joven-adulto",
            "adultos",
            "adultos",
            "joven-adulto",
            "adultos",
            "joven-adulto",
            "joven-adulto",
            "joven-adulto",
            "joven-adulto",
            "joven-adulto",
            "joven-adulto",
            "joven-adulto",
            "joven-adulto",
            "ancianos",
            "adultos",
            "adultos",
            "joven-adulto",
            "niños",
            "joven-adulto",
            "joven-adulto",
            "adultos",
            "joven-adulto",
            "joven-adulto",
            "joven-adulto",
            "adultos",
            "adultos",
            "adultos",
            "joven-adulto",
            "joven-adulto",
            "adultos",
            "ancianos",
            "joven-adulto",
            "joven-adulto",
            "adultos",
            "adultos",
            "adultos",
            "joven-adulto",
            "adultos",
            "adultos",
            "joven-adulto",
            "adultos",
            "joven-adulto",
            "adultos",
            "joven-adulto",
            "joven-adulto",
            "joven-adulto",
            "adultos",
            "adultos",
            "adultos",
            "joven-adulto",
            "joven-adulto",
            "joven-adulto",
            "adultos",
            "adultos",
            "joven-adulto",
            "joven-adulto",
            "joven-adulto",
            "adultos",
            "joven-adulto",
            "joven-adulto",
            "joven-adulto",
            "niños",
            "joven-adulto",
            "joven-adulto",
            "adultos",
            "joven-adulto",
            "joven-adulto",
            "joven-adulto",
            "ancianos",
            "adultos",
            "joven-adulto",
            "joven-adulto",
            "joven-adulto",
            "ancianos",
            "adultos",
            "joven-adulto",
            "joven-adulto",
            "niños",
            "joven-adulto",
            "joven-adulto",
            "joven-adulto",
            "adultos",
            "joven-adulto",
            "joven-adulto",
            "joven-adulto",
            "niños",
            "joven-adulto",
            "niños",
            "adultos",
            "joven-adulto",
            "adultos",
            "joven-adulto",
            "joven-adulto",
            "joven-adulto",
            "joven-adulto",
            "joven-adulto",
            "joven-adulto",
            "joven-adulto",
            "joven-adulto",
            "joven-adulto",
            "joven-adulto",
            "joven-adulto",
            "adultos",
            "adultos",
            "adultos",
            "adultos",
            "adultos",
            "joven-adulto",
            "joven-adulto",
            "joven-adulto",
            "joven-adulto",
            "adultos",
            "joven-adulto",
            "adultos",
            "joven-adulto",
            "ancianos",
            "joven-adulto",
            "joven-adulto",
            "joven-adulto",
            "joven-adulto",
            "joven-adulto",
            "adultos",
            "adultos",
            "joven-adulto",
            "joven-adulto",
            "joven-adulto",
            "niños",
            "ancianos",
            "joven-adulto",
            "niños",
            "joven-adulto",
            "joven-adulto",
            "niños",
            "joven-adulto",
            "niños",
            "joven-adulto",
            "joven-adulto",
            "ancianos",
            "adultos",
            "adultos",
            "joven-adulto",
            "adultos",
            "adultos",
            "joven-adulto",
            "adultos",
            "joven-adulto",
            "joven-adulto",
            "joven-adulto",
            "adultos",
            "adultos",
            "adultos",
            "joven-adulto",
            "joven-adulto",
            "joven-adulto",
            "joven-adulto",
            "adultos",
            "joven-adulto",
            "adultos",
            "joven-adulto",
            "adultos",
            "joven-adulto",
            "joven-adulto",
            "joven-adulto",
            "niños",
            "niños",
            "joven-adulto",
            "adultos",
            "joven-adulto",
            "joven-adulto",
            "joven-adulto",
            "joven-adulto",
            "joven-adulto",
            "joven-adulto",
            "joven-adulto",
            "niños",
            "joven-adulto",
            "joven-adulto",
            "joven-adulto",
            "joven-adulto",
            "adultos",
            "adultos",
            "joven-adulto",
            "joven-adulto",
            "joven-adulto",
            "adultos",
            "joven-adulto",
            "joven-adulto",
            "joven-adulto",
            "ancianos",
            "niños",
            "joven-adulto",
            "joven-adulto",
            "joven-adulto",
            "niños",
            "niños",
            "joven-adulto",
            "joven-adulto",
            "adultos",
            "niños",
            "joven-adulto",
            "joven-adulto",
            "joven-adulto",
            "joven-adulto",
            "joven-adulto",
            "adultos",
            "joven-adulto",
            "adultos",
            "niños",
            "adultos",
            "joven-adulto",
            "joven-adulto",
            "joven-adulto",
            "joven-adulto",
            "joven-adulto",
            "adultos",
            "adultos",
            "joven-adulto",
            "adultos",
            "joven-adulto",
            "joven-adulto",
            "niños",
            "joven-adulto",
            "adultos",
            "niños",
            "niños",
            "joven-adulto",
            "joven-adulto",
            "joven-adulto",
            "joven-adulto",
            "joven-adulto",
            "niños",
            "niños",
            "adultos",
            "joven-adulto",
            "niños",
            "joven-adulto",
            "joven-adulto",
            "joven-adulto",
            "adultos",
            "adultos",
            "joven-adulto",
            "joven-adulto",
            "joven-adulto",
            "joven-adulto",
            "joven-adulto",
            "niños",
            "niños",
            "joven-adulto",
            "joven-adulto",
            "adultos",
            "joven-adulto",
            "adultos",
            "joven-adulto",
            "joven-adulto",
            "adultos",
            "adultos",
            "niños",
            "joven-adulto",
            "joven-adulto",
            "joven-adulto",
            "joven-adulto",
            "adultos",
            "niños",
            "adultos",
            "joven-adulto",
            "adultos",
            "joven-adulto",
            "niños",
            "joven-adulto",
            "joven-adulto",
            "niños",
            "joven-adulto",
            "ancianos",
            "niños",
            "niños",
            "joven-adulto",
            "joven-adulto",
            "joven-adulto",
            "adultos",
            "joven-adulto",
            "joven-adulto",
            "joven-adulto",
            "joven-adulto",
            "joven-adulto",
            "niños",
            "joven-adulto",
            "joven-adulto",
            "niños",
            "adultos",
            "joven-adulto",
            "adultos",
            "joven-adulto",
            "joven-adulto",
            "niños",
            "ancianos",
            "niños",
            "niños",
            "adultos",
            "joven-adulto",
            "adultos",
            "adultos",
            "joven-adulto",
            "joven-adulto",
            "adultos",
            "joven-adulto",
            "adultos",
            "joven-adulto",
            "joven-adulto",
            "adultos",
            "joven-adulto",
            "joven-adulto",
            "joven-adulto",
            "niños",
            "joven-adulto",
            "adultos",
            "joven-adulto",
            "adultos",
            "joven-adulto",
            "niños",
            "joven-adulto",
            "joven-adulto",
            "joven-adulto",
            "adultos",
            "joven-adulto",
            "joven-adulto",
            "joven-adulto",
            "joven-adulto",
            "joven-adulto",
            "adultos",
            "joven-adulto",
            "joven-adulto",
            "joven-adulto",
            "joven-adulto",
            "joven-adulto"
           ]
          },
          {
           "label": "destino",
           "values": [
            "muere",
            "sobrevive",
            "sobrevive",
            "sobrevive",
            "muere",
            "muere",
            "muere",
            "muere",
            "sobrevive",
            "sobrevive",
            "sobrevive",
            "sobrevive",
            "muere",
            "muere",
            "muere",
            "sobrevive",
            "muere",
            "sobrevive",
            "muere",
            "sobrevive",
            "muere",
            "sobrevive",
            "sobrevive",
            "sobrevive",
            "muere",
            "sobrevive",
            "muere",
            "muere",
            "sobrevive",
            "muere",
            "muere",
            "sobrevive",
            "sobrevive",
            "muere",
            "muere",
            "muere",
            "sobrevive",
            "muere",
            "muere",
            "sobrevive",
            "muere",
            "muere",
            "muere",
            "sobrevive",
            "sobrevive",
            "muere",
            "muere",
            "sobrevive",
            "muere",
            "muere",
            "muere",
            "muere",
            "sobrevive",
            "sobrevive",
            "muere",
            "sobrevive",
            "sobrevive",
            "muere",
            "sobrevive",
            "muere",
            "muere",
            "sobrevive",
            "muere",
            "muere",
            "muere",
            "sobrevive",
            "sobrevive",
            "muere",
            "sobrevive",
            "muere",
            "muere",
            "muere",
            "muere",
            "muere",
            "sobrevive",
            "muere",
            "muere",
            "muere",
            "sobrevive",
            "sobrevive",
            "muere",
            "sobrevive",
            "sobrevive",
            "muere",
            "sobrevive",
            "sobrevive",
            "muere",
            "muere",
            "sobrevive",
            "muere",
            "muere",
            "muere",
            "muere",
            "muere",
            "muere",
            "muere",
            "muere",
            "sobrevive",
            "sobrevive",
            "muere",
            "muere",
            "muere",
            "muere",
            "muere",
            "muere",
            "muere",
            "sobrevive",
            "sobrevive",
            "muere",
            "sobrevive",
            "muere",
            "muere",
            "muere",
            "muere",
            "muere",
            "muere",
            "muere",
            "muere",
            "muere",
            "muere",
            "muere",
            "muere",
            "muere",
            "sobrevive",
            "muere",
            "sobrevive",
            "muere",
            "sobrevive",
            "sobrevive",
            "muere",
            "muere",
            "muere",
            "muere",
            "sobrevive",
            "muere",
            "muere",
            "sobrevive",
            "muere",
            "muere",
            "muere",
            "muere",
            "sobrevive",
            "sobrevive",
            "muere",
            "muere",
            "muere",
            "sobrevive",
            "muere",
            "muere",
            "muere",
            "muere",
            "sobrevive",
            "muere",
            "muere",
            "muere",
            "muere",
            "sobrevive",
            "muere",
            "muere",
            "muere",
            "muere",
            "sobrevive",
            "muere",
            "muere",
            "muere",
            "sobrevive",
            "sobrevive",
            "muere",
            "muere",
            "muere",
            "muere",
            "muere",
            "sobrevive",
            "muere",
            "muere",
            "muere",
            "muere",
            "muere",
            "muere",
            "muere",
            "muere",
            "muere",
            "muere",
            "sobrevive",
            "sobrevive",
            "muere",
            "sobrevive",
            "sobrevive",
            "muere",
            "muere",
            "sobrevive",
            "muere",
            "sobrevive",
            "sobrevive",
            "sobrevive",
            "sobrevive",
            "muere",
            "muere",
            "sobrevive",
            "muere",
            "muere",
            "muere",
            "muere",
            "muere",
            "sobrevive",
            "muere",
            "muere",
            "sobrevive",
            "sobrevive",
            "sobrevive",
            "muere",
            "sobrevive",
            "muere",
            "muere",
            "muere",
            "sobrevive",
            "sobrevive",
            "muere",
            "sobrevive",
            "muere",
            "sobrevive",
            "muere",
            "muere",
            "muere",
            "sobrevive",
            "muere",
            "sobrevive",
            "muere",
            "muere",
            "muere",
            "sobrevive",
            "muere",
            "muere",
            "sobrevive",
            "muere",
            "muere",
            "muere",
            "sobrevive",
            "muere",
            "muere",
            "muere",
            "sobrevive",
            "muere",
            "muere",
            "muere",
            "muere",
            "muere",
            "sobrevive",
            "sobrevive",
            "muere",
            "muere",
            "muere",
            "muere",
            "muere",
            "muere",
            "sobrevive",
            "sobrevive",
            "sobrevive",
            "sobrevive",
            "sobrevive",
            "muere",
            "sobrevive",
            "muere",
            "muere",
            "muere",
            "muere",
            "muere",
            "sobrevive",
            "sobrevive",
            "sobrevive",
            "muere",
            "sobrevive",
            "sobrevive",
            "muere",
            "sobrevive",
            "sobrevive",
            "muere",
            "muere",
            "muere",
            "sobrevive",
            "muere",
            "muere",
            "muere",
            "sobrevive",
            "muere",
            "muere",
            "sobrevive",
            "muere",
            "sobrevive",
            "sobrevive",
            "sobrevive",
            "sobrevive",
            "muere",
            "muere",
            "muere",
            "muere",
            "muere",
            "muere",
            "sobrevive",
            "sobrevive",
            "sobrevive",
            "sobrevive",
            "muere",
            "sobrevive",
            "muere",
            "sobrevive",
            "sobrevive",
            "sobrevive",
            "muere",
            "sobrevive",
            "sobrevive",
            "sobrevive",
            "muere",
            "muere",
            "muere",
            "sobrevive",
            "sobrevive",
            "muere",
            "sobrevive",
            "sobrevive",
            "muere",
            "muere",
            "sobrevive",
            "sobrevive",
            "muere",
            "sobrevive",
            "muere",
            "sobrevive",
            "sobrevive",
            "sobrevive",
            "sobrevive",
            "muere",
            "muere",
            "muere",
            "sobrevive",
            "muere",
            "muere",
            "sobrevive",
            "sobrevive",
            "muere",
            "sobrevive",
            "sobrevive",
            "muere",
            "muere",
            "muere",
            "sobrevive",
            "sobrevive",
            "sobrevive",
            "sobrevive",
            "muere",
            "muere",
            "muere",
            "muere",
            "muere",
            "muere",
            "muere",
            "sobrevive",
            "muere",
            "sobrevive",
            "sobrevive",
            "muere",
            "muere",
            "muere",
            "muere",
            "muere",
            "muere",
            "sobrevive",
            "sobrevive",
            "sobrevive",
            "sobrevive",
            "sobrevive",
            "muere",
            "muere",
            "muere",
            "muere",
            "sobrevive",
            "sobrevive",
            "muere",
            "muere",
            "muere",
            "sobrevive",
            "sobrevive",
            "muere",
            "sobrevive",
            "muere",
            "muere",
            "muere",
            "sobrevive",
            "muere",
            "sobrevive",
            "sobrevive",
            "sobrevive",
            "muere",
            "sobrevive",
            "sobrevive",
            "muere",
            "muere",
            "muere",
            "muere",
            "sobrevive",
            "sobrevive",
            "muere",
            "muere",
            "muere",
            "muere",
            "muere",
            "muere",
            "sobrevive",
            "muere",
            "muere",
            "muere",
            "muere",
            "sobrevive",
            "muere",
            "sobrevive",
            "muere",
            "sobrevive",
            "sobrevive",
            "muere",
            "muere",
            "muere",
            "muere",
            "muere",
            "muere",
            "muere",
            "muere",
            "sobrevive",
            "sobrevive",
            "muere",
            "sobrevive",
            "sobrevive",
            "sobrevive",
            "sobrevive",
            "muere",
            "muere",
            "sobrevive",
            "muere",
            "sobrevive",
            "muere",
            "muere",
            "sobrevive",
            "muere",
            "muere",
            "sobrevive",
            "sobrevive",
            "sobrevive",
            "sobrevive",
            "sobrevive",
            "sobrevive",
            "sobrevive",
            "muere",
            "muere",
            "muere",
            "sobrevive",
            "muere",
            "sobrevive",
            "muere",
            "sobrevive",
            "sobrevive",
            "muere",
            "sobrevive",
            "muere",
            "muere",
            "muere",
            "muere",
            "muere",
            "muere",
            "muere",
            "muere",
            "sobrevive",
            "muere",
            "muere",
            "sobrevive",
            "sobrevive",
            "muere",
            "muere",
            "muere",
            "muere",
            "muere",
            "sobrevive",
            "muere",
            "muere",
            "muere",
            "sobrevive",
            "sobrevive",
            "muere",
            "sobrevive",
            "muere",
            "muere",
            "sobrevive",
            "muere",
            "muere",
            "muere",
            "muere",
            "muere",
            "muere",
            "sobrevive",
            "muere",
            "muere",
            "muere",
            "muere",
            "muere",
            "muere",
            "muere",
            "sobrevive",
            "muere",
            "sobrevive",
            "sobrevive",
            "muere",
            "sobrevive",
            "sobrevive",
            "muere",
            "sobrevive",
            "sobrevive",
            "muere",
            "muere",
            "sobrevive",
            "muere",
            "sobrevive",
            "muere",
            "sobrevive",
            "muere",
            "muere",
            "sobrevive",
            "muere",
            "muere",
            "sobrevive",
            "muere",
            "muere",
            "muere",
            "sobrevive",
            "muere",
            "muere",
            "sobrevive",
            "muere",
            "sobrevive",
            "muere",
            "sobrevive",
            "muere",
            "sobrevive",
            "sobrevive",
            "muere",
            "muere",
            "sobrevive",
            "muere",
            "muere",
            "sobrevive",
            "sobrevive",
            "muere",
            "sobrevive",
            "sobrevive",
            "muere",
            "muere",
            "sobrevive",
            "sobrevive",
            "muere",
            "sobrevive",
            "muere",
            "sobrevive",
            "sobrevive",
            "muere",
            "muere",
            "muere",
            "muere",
            "muere",
            "muere",
            "muere",
            "muere",
            "muere",
            "sobrevive",
            "sobrevive",
            "sobrevive",
            "sobrevive",
            "sobrevive",
            "muere",
            "muere",
            "sobrevive",
            "sobrevive",
            "muere",
            "sobrevive",
            "sobrevive",
            "sobrevive",
            "muere",
            "muere",
            "muere",
            "sobrevive",
            "muere",
            "sobrevive",
            "muere",
            "muere",
            "muere",
            "sobrevive",
            "muere",
            "muere",
            "muere",
            "muere",
            "sobrevive",
            "muere",
            "muere",
            "sobrevive",
            "sobrevive",
            "muere",
            "muere",
            "muere",
            "sobrevive",
            "muere",
            "muere",
            "sobrevive",
            "sobrevive",
            "sobrevive",
            "muere",
            "muere",
            "sobrevive",
            "muere",
            "muere",
            "sobrevive",
            "muere",
            "muere",
            "sobrevive",
            "muere",
            "muere",
            "sobrevive",
            "sobrevive",
            "muere",
            "muere",
            "muere",
            "muere",
            "sobrevive",
            "muere",
            "muere",
            "sobrevive",
            "muere",
            "sobrevive",
            "muere",
            "muere",
            "sobrevive",
            "muere",
            "muere",
            "muere",
            "muere",
            "muere",
            "sobrevive",
            "muere",
            "sobrevive",
            "sobrevive",
            "sobrevive",
            "muere",
            "sobrevive",
            "muere",
            "sobrevive",
            "muere",
            "sobrevive",
            "muere",
            "sobrevive",
            "muere",
            "muere",
            "muere",
            "muere",
            "muere",
            "muere",
            "sobrevive",
            "muere",
            "muere",
            "muere",
            "sobrevive",
            "muere",
            "muere",
            "muere",
            "muere",
            "sobrevive",
            "sobrevive",
            "muere",
            "muere",
            "sobrevive",
            "muere",
            "muere",
            "muere",
            "sobrevive",
            "muere",
            "sobrevive",
            "muere",
            "sobrevive",
            "muere",
            "muere",
            "muere",
            "muere",
            "muere",
            "muere",
            "muere",
            "sobrevive",
            "sobrevive",
            "sobrevive",
            "sobrevive",
            "muere",
            "muere",
            "muere",
            "muere",
            "sobrevive",
            "muere",
            "muere",
            "sobrevive",
            "sobrevive",
            "muere",
            "muere",
            "muere",
            "muere",
            "sobrevive",
            "sobrevive",
            "sobrevive",
            "sobrevive",
            "sobrevive",
            "muere",
            "sobrevive",
            "muere",
            "muere",
            "muere",
            "sobrevive",
            "sobrevive",
            "muere",
            "muere",
            "sobrevive",
            "muere",
            "muere",
            "muere",
            "sobrevive",
            "muere",
            "sobrevive",
            "sobrevive",
            "muere",
            "muere",
            "sobrevive",
            "muere",
            "muere",
            "muere",
            "muere",
            "muere",
            "muere",
            "sobrevive",
            "muere",
            "muere",
            "sobrevive",
            "muere",
            "sobrevive",
            "muere",
            "sobrevive",
            "muere",
            "muere",
            "sobrevive",
            "muere",
            "muere",
            "sobrevive",
            "sobrevive",
            "muere",
            "muere",
            "sobrevive",
            "sobrevive",
            "muere",
            "muere",
            "muere",
            "sobrevive",
            "muere",
            "muere",
            "sobrevive",
            "sobrevive",
            "muere",
            "sobrevive",
            "muere",
            "muere",
            "muere",
            "muere",
            "muere",
            "muere",
            "muere",
            "muere",
            "sobrevive",
            "muere",
            "muere",
            "sobrevive",
            "muere",
            "sobrevive",
            "sobrevive",
            "sobrevive",
            "muere",
            "muere",
            "muere",
            "muere",
            "sobrevive",
            "muere",
            "sobrevive",
            "muere",
            "muere",
            "muere",
            "muere",
            "muere",
            "muere",
            "muere",
            "sobrevive",
            "sobrevive",
            "muere",
            "muere",
            "muere",
            "sobrevive",
            "sobrevive",
            "sobrevive",
            "sobrevive",
            "muere",
            "muere",
            "muere",
            "muere",
            "sobrevive",
            "muere",
            "muere",
            "muere",
            "muere",
            "muere",
            "muere",
            "muere",
            "muere",
            "muere",
            "muere",
            "sobrevive",
            "sobrevive",
            "muere",
            "sobrevive",
            "muere",
            "muere",
            "muere",
            "sobrevive",
            "sobrevive",
            "sobrevive",
            "sobrevive",
            "sobrevive",
            "muere",
            "muere",
            "muere",
            "sobrevive",
            "muere",
            "muere",
            "sobrevive",
            "sobrevive",
            "muere",
            "muere",
            "sobrevive",
            "muere",
            "muere",
            "muere",
            "muere",
            "muere",
            "muere",
            "sobrevive",
            "muere",
            "muere",
            "muere",
            "sobrevive",
            "muere",
            "sobrevive",
            "sobrevive",
            "sobrevive",
            "sobrevive",
            "muere",
            "muere",
            "muere",
            "sobrevive",
            "muere",
            "muere",
            "sobrevive",
            "sobrevive",
            "muere",
            "muere",
            "sobrevive",
            "muere",
            "sobrevive",
            "muere",
            "muere",
            "sobrevive",
            "sobrevive",
            "muere",
            "muere",
            "muere",
            "sobrevive",
            "sobrevive",
            "muere",
            "muere",
            "muere",
            "muere",
            "muere",
            "muere",
            "sobrevive",
            "muere",
            "sobrevive",
            "muere"
           ]
          },
          {
           "label": "clase",
           "values": [
            "baja",
            "alta",
            "baja",
            "alta",
            "baja",
            "baja",
            "alta",
            "baja",
            "baja",
            "media",
            "baja",
            "alta",
            "baja",
            "baja",
            "baja",
            "media",
            "baja",
            "media",
            "baja",
            "baja",
            "media",
            "media",
            "baja",
            "alta",
            "baja",
            "baja",
            "baja",
            "alta",
            "baja",
            "baja",
            "alta",
            "alta",
            "baja",
            "media",
            "alta",
            "alta",
            "baja",
            "baja",
            "baja",
            "baja",
            "baja",
            "media",
            "baja",
            "media",
            "baja",
            "baja",
            "baja",
            "baja",
            "baja",
            "baja",
            "baja",
            "baja",
            "alta",
            "media",
            "alta",
            "alta",
            "media",
            "baja",
            "media",
            "baja",
            "baja",
            "alta",
            "alta",
            "baja",
            "alta",
            "baja",
            "media",
            "baja",
            "baja",
            "baja",
            "media",
            "baja",
            "media",
            "baja",
            "baja",
            "baja",
            "baja",
            "baja",
            "media",
            "baja",
            "baja",
            "baja",
            "baja",
            "alta",
            "media",
            "baja",
            "baja",
            "baja",
            "alta",
            "baja",
            "baja",
            "baja",
            "alta",
            "baja",
            "baja",
            "baja",
            "alta",
            "alta",
            "media",
            "media",
            "baja",
            "baja",
            "alta",
            "baja",
            "baja",
            "baja",
            "baja",
            "baja",
            "baja",
            "baja",
            "alta",
            "baja",
            "baja",
            "baja",
            "baja",
            "baja",
            "baja",
            "media",
            "alta",
            "baja",
            "media",
            "baja",
            "media",
            "media",
            "alta",
            "baja",
            "baja",
            "baja",
            "baja",
            "baja",
            "baja",
            "baja",
            "baja",
            "media",
            "media",
            "media",
            "alta",
            "alta",
            "baja",
            "alta",
            "baja",
            "baja",
            "baja",
            "baja",
            "media",
            "media",
            "baja",
            "baja",
            "media",
            "media",
            "media",
            "alta",
            "baja",
            "baja",
            "baja",
            "alta",
            "baja",
            "baja",
            "baja",
            "baja",
            "baja",
            "media",
            "baja",
            "baja",
            "baja",
            "baja",
            "alta",
            "baja",
            "alta",
            "baja",
            "alta",
            "baja",
            "baja",
            "baja",
            "alta",
            "baja",
            "baja",
            "alta",
            "media",
            "baja",
            "baja",
            "media",
            "baja",
            "media",
            "baja",
            "alta",
            "baja",
            "alta",
            "baja",
            "baja",
            "media",
            "media",
            "baja",
            "media",
            "alta",
            "alta",
            "baja",
            "baja",
            "baja",
            "media",
            "baja",
            "baja",
            "baja",
            "baja",
            "baja",
            "baja",
            "baja",
            "baja",
            "baja",
            "alta",
            "baja",
            "media",
            "baja",
            "media",
            "baja",
            "alta",
            "baja",
            "media",
            "alta",
            "media",
            "baja",
            "media",
            "baja",
            "baja",
            "alta",
            "baja",
            "media",
            "baja",
            "media",
            "baja",
            "alta",
            "baja",
            "media",
            "baja",
            "media",
            "baja",
            "media",
            "media",
            "media",
            "media",
            "baja",
            "baja",
            "media",
            "baja",
            "baja",
            "alta",
            "baja",
            "media",
            "alta",
            "media",
            "baja",
            "baja",
            "alta",
            "baja",
            "baja",
            "baja",
            "alta",
            "alta",
            "alta",
            "media",
            "baja",
            "baja",
            "alta",
            "alta",
            "baja",
            "media",
            "baja",
            "baja",
            "alta",
            "alta",
            "alta",
            "baja",
            "media",
            "alta",
            "baja",
            "alta",
            "baja",
            "media",
            "baja",
            "baja",
            "baja",
            "baja",
            "baja",
            "baja",
            "alta",
            "baja",
            "baja",
            "baja",
            "media",
            "baja",
            "alta",
            "alta",
            "media",
            "baja",
            "baja",
            "alta",
            "baja",
            "alta",
            "alta",
            "alta",
            "baja",
            "baja",
            "baja",
            "media",
            "baja",
            "alta",
            "alta",
            "alta",
            "media",
            "alta",
            "alta",
            "alta",
            "media",
            "baja",
            "media",
            "baja",
            "media",
            "media",
            "alta",
            "alta",
            "baja",
            "baja",
            "media",
            "media",
            "baja",
            "alta",
            "baja",
            "media",
            "baja",
            "alta",
            "baja",
            "alta",
            "alta",
            "baja",
            "alta",
            "baja",
            "alta",
            "alta",
            "baja",
            "alta",
            "media",
            "alta",
            "media",
            "media",
            "media",
            "media",
            "media",
            "baja",
            "baja",
            "baja",
            "baja",
            "alta",
            "baja",
            "baja",
            "baja",
            "baja",
            "alta",
            "media",
            "baja",
            "baja",
            "baja",
            "media",
            "baja",
            "baja",
            "baja",
            "baja",
            "alta",
            "baja",
            "baja",
            "alta",
            "alta",
            "baja",
            "baja",
            "alta",
            "baja",
            "alta",
            "baja",
            "alta",
            "baja",
            "baja",
            "alta",
            "baja",
            "baja",
            "alta",
            "baja",
            "media",
            "baja",
            "media",
            "baja",
            "media",
            "alta",
            "baja",
            "baja",
            "alta",
            "baja",
            "baja",
            "baja",
            "media",
            "media",
            "media",
            "baja",
            "baja",
            "baja",
            "baja",
            "baja",
            "media",
            "baja",
            "media",
            "baja",
            "baja",
            "baja",
            "baja",
            "alta",
            "media",
            "baja",
            "baja",
            "media",
            "media",
            "media",
            "baja",
            "baja",
            "baja",
            "baja",
            "baja",
            "baja",
            "baja",
            "media",
            "media",
            "baja",
            "baja",
            "alta",
            "baja",
            "media",
            "baja",
            "alta",
            "alta",
            "baja",
            "media",
            "alta",
            "media",
            "media",
            "baja",
            "baja",
            "media",
            "baja",
            "alta",
            "media",
            "alta",
            "baja",
            "alta",
            "media",
            "baja",
            "alta",
            "alta",
            "baja",
            "baja",
            "alta",
            "alta",
            "media",
            "baja",
            "alta",
            "baja",
            "alta",
            "media",
            "baja",
            "baja",
            "media",
            "alta",
            "baja",
            "baja",
            "baja",
            "baja",
            "media",
            "media",
            "baja",
            "alta",
            "media",
            "baja",
            "baja",
            "baja",
            "baja",
            "media",
            "baja",
            "baja",
            "alta",
            "baja",
            "alta",
            "alta",
            "baja",
            "baja",
            "baja",
            "baja",
            "alta",
            "alta",
            "baja",
            "baja",
            "alta",
            "baja",
            "alta",
            "baja",
            "baja",
            "baja",
            "baja",
            "baja",
            "alta",
            "alta",
            "media",
            "alta",
            "baja",
            "baja",
            "baja",
            "baja",
            "alta",
            "alta",
            "baja",
            "alta",
            "media",
            "baja",
            "media",
            "baja",
            "alta",
            "baja",
            "baja",
            "alta",
            "baja",
            "baja",
            "media",
            "alta",
            "baja",
            "media",
            "media",
            "baja",
            "baja",
            "baja",
            "baja",
            "media",
            "alta",
            "alta",
            "baja",
            "alta",
            "alta",
            "baja",
            "baja",
            "media",
            "alta",
            "alta",
            "media",
            "media",
            "baja",
            "media",
            "alta",
            "media",
            "baja",
            "baja",
            "baja",
            "alta",
            "alta",
            "alta",
            "alta",
            "baja",
            "baja",
            "baja",
            "media",
            "baja",
            "baja",
            "baja",
            "baja",
            "baja",
            "baja",
            "baja",
            "media",
            "alta",
            "alta",
            "baja",
            "baja",
            "baja",
            "media",
            "alta",
            "baja",
            "baja",
            "media",
            "alta",
            "media",
            "alta",
            "baja",
            "alta",
            "media",
            "alta",
            "baja",
            "baja",
            "baja",
            "alta",
            "baja",
            "baja",
            "media",
            "baja",
            "media",
            "baja",
            "baja",
            "alta",
            "media",
            "baja",
            "alta",
            "baja",
            "alta",
            "baja",
            "baja",
            "alta",
            "media",
            "alta",
            "baja",
            "baja",
            "baja",
            "baja",
            "baja",
            "media",
            "baja",
            "baja",
            "media",
            "media",
            "baja",
            "alta",
            "baja",
            "baja",
            "baja",
            "alta",
            "media",
            "alta",
            "baja",
            "baja",
            "alta",
            "baja",
            "alta",
            "alta",
            "baja",
            "media",
            "baja",
            "media",
            "baja",
            "baja",
            "baja",
            "alta",
            "baja",
            "baja",
            "baja",
            "alta",
            "baja",
            "alta",
            "baja",
            "baja",
            "baja",
            "media",
            "baja",
            "baja",
            "baja",
            "media",
            "baja",
            "baja",
            "media",
            "alta",
            "alta",
            "baja",
            "alta",
            "baja",
            "baja",
            "media",
            "media",
            "baja",
            "baja",
            "alta",
            "media",
            "alta",
            "media",
            "media",
            "media",
            "baja",
            "baja",
            "baja",
            "baja",
            "alta",
            "baja",
            "alta",
            "baja",
            "baja",
            "media",
            "media",
            "baja",
            "baja",
            "baja",
            "alta",
            "alta",
            "baja",
            "baja",
            "baja",
            "alta",
            "media",
            "baja",
            "baja",
            "alta",
            "baja",
            "alta",
            "alta",
            "baja",
            "baja",
            "baja",
            "media",
            "media",
            "alta",
            "alta",
            "baja",
            "alta",
            "alta",
            "alta",
            "baja",
            "media",
            "baja",
            "alta",
            "media",
            "baja",
            "baja",
            "media",
            "baja",
            "media",
            "media",
            "alta",
            "baja",
            "media",
            "baja",
            "media",
            "baja",
            "alta",
            "baja",
            "media",
            "media",
            "media",
            "baja",
            "baja",
            "alta",
            "baja",
            "baja",
            "alta",
            "alta",
            "alta",
            "baja",
            "baja",
            "alta",
            "baja",
            "media",
            "alta",
            "baja",
            "media",
            "baja",
            "baja",
            "baja",
            "media",
            "media",
            "baja",
            "media",
            "baja",
            "alta",
            "baja",
            "baja",
            "baja",
            "alta",
            "baja",
            "alta",
            "alta",
            "baja",
            "baja",
            "baja",
            "baja",
            "baja",
            "media",
            "baja",
            "media",
            "baja",
            "baja",
            "baja",
            "baja",
            "alta",
            "baja",
            "alta",
            "alta",
            "baja",
            "baja",
            "baja",
            "baja",
            "baja",
            "baja",
            "alta",
            "baja",
            "media",
            "baja",
            "alta",
            "baja",
            "media",
            "alta",
            "baja",
            "baja",
            "baja",
            "media",
            "media",
            "alta",
            "baja",
            "baja",
            "baja",
            "alta",
            "baja",
            "media",
            "alta",
            "baja",
            "baja",
            "media",
            "baja",
            "baja",
            "alta",
            "baja",
            "media",
            "baja",
            "baja",
            "alta",
            "baja",
            "alta",
            "baja",
            "baja",
            "baja",
            "baja",
            "media",
            "baja",
            "alta",
            "baja",
            "media",
            "baja",
            "baja",
            "baja",
            "alta",
            "baja",
            "baja",
            "baja",
            "alta",
            "baja",
            "media",
            "alta",
            "baja",
            "baja",
            "baja",
            "baja",
            "baja",
            "media",
            "alta",
            "baja",
            "baja",
            "baja",
            "alta",
            "media",
            "baja",
            "alta",
            "alta",
            "baja",
            "baja",
            "baja",
            "media",
            "alta",
            "baja",
            "media",
            "media",
            "media",
            "alta",
            "baja",
            "baja",
            "baja",
            "alta",
            "alta",
            "baja",
            "media",
            "baja",
            "baja",
            "baja",
            "baja",
            "alta",
            "media",
            "baja",
            "baja",
            "media",
            "baja",
            "baja",
            "media",
            "alta",
            "baja",
            "alta",
            "baja"
           ]
          },
          {
           "label": "embarked",
           "values": [
            "S",
            "C",
            "S",
            "S",
            "S",
            "Q",
            "S",
            "S",
            "S",
            "C",
            "S",
            "S",
            "S",
            "S",
            "S",
            "S",
            "Q",
            "S",
            "S",
            "C",
            "S",
            "S",
            "Q",
            "S",
            "S",
            "S",
            "C",
            "S",
            "Q",
            "S",
            "C",
            "C",
            "Q",
            "S",
            "C",
            "S",
            "C",
            "S",
            "S",
            "C",
            "S",
            "S",
            "C",
            "C",
            "Q",
            "S",
            "Q",
            "Q",
            "C",
            "S",
            "S",
            "S",
            "C",
            "S",
            "C",
            "S",
            "S",
            "C",
            "S",
            "S",
            "C",
            null,
            "S",
            "S",
            "C",
            "C",
            "S",
            "S",
            "S",
            "S",
            "S",
            "S",
            "S",
            "C",
            "S",
            "S",
            "S",
            "S",
            "S",
            "S",
            "S",
            "S",
            "Q",
            "S",
            "S",
            "S",
            "S",
            "S",
            "S",
            "S",
            "S",
            "S",
            "S",
            "S",
            "S",
            "S",
            "C",
            "C",
            "S",
            "S",
            "S",
            "S",
            "S",
            "S",
            "S",
            "S",
            "S",
            "S",
            "S",
            "Q",
            "S",
            "C",
            "S",
            "S",
            "C",
            "S",
            "Q",
            "S",
            "C",
            "S",
            "S",
            "S",
            "C",
            "S",
            "S",
            "C",
            "Q",
            "S",
            "C",
            "S",
            "C",
            "S",
            "S",
            "S",
            "S",
            "C",
            "S",
            "S",
            "S",
            "C",
            "C",
            "S",
            "S",
            "Q",
            "S",
            "S",
            "S",
            "S",
            "S",
            "S",
            "S",
            "S",
            "S",
            "S",
            "S",
            "C",
            "Q",
            "S",
            "S",
            "S",
            "S",
            "S",
            "S",
            "S",
            "S",
            "S",
            "S",
            "S",
            "S",
            "S",
            "S",
            "Q",
            "S",
            "S",
            "C",
            "S",
            "S",
            "C",
            "S",
            "S",
            "S",
            "C",
            "S",
            "S",
            "S",
            "S",
            "Q",
            "S",
            "Q",
            "S",
            "S",
            "S",
            "S",
            "S",
            "C",
            "C",
            "Q",
            "S",
            "Q",
            "S",
            "S",
            "S",
            "S",
            "C",
            "S",
            "S",
            "S",
            "C",
            "Q",
            "C",
            "S",
            "S",
            "S",
            "S",
            "Q",
            "C",
            "S",
            "S",
            "C",
            "S",
            "S",
            "S",
            "S",
            "S",
            "S",
            "S",
            "S",
            "S",
            "S",
            "S",
            "S",
            "S",
            "S",
            "S",
            "S",
            "S",
            "S",
            "S",
            "S",
            "S",
            "C",
            "Q",
            "S",
            "S",
            "C",
            "Q",
            "S",
            "S",
            "S",
            "S",
            "S",
            "S",
            "S",
            "S",
            "S",
            "C",
            "C",
            "S",
            "C",
            "S",
            "Q",
            "S",
            "S",
            "S",
            "Q",
            "S",
            "S",
            "S",
            "S",
            "S",
            "S",
            "S",
            "S",
            "C",
            "Q",
            "S",
            "S",
            "S",
            "Q",
            "S",
            "Q",
            "S",
            "S",
            "S",
            "S",
            "C",
            "S",
            "S",
            "S",
            "Q",
            "S",
            "C",
            "C",
            "S",
            "S",
            "C",
            "C",
            "S",
            "S",
            "C",
            "Q",
            "Q",
            "S",
            "Q",
            "S",
            "S",
            "C",
            "C",
            "C",
            "C",
            "C",
            "C",
            "S",
            "S",
            "S",
            "S",
            "S",
            "S",
            "S",
            "C",
            "S",
            "S",
            "Q",
            "S",
            "S",
            "C",
            "S",
            "S",
            "S",
            "C",
            "Q",
            "S",
            "S",
            "S",
            "S",
            "S",
            "S",
            "C",
            "S",
            "S",
            "S",
            "S",
            "S",
            "S",
            "S",
            "S",
            "S",
            "S",
            "S",
            "S",
            "S",
            "S",
            "C",
            "S",
            "C",
            "S",
            "S",
            "S",
            "Q",
            "Q",
            "S",
            "C",
            "C",
            "S",
            "Q",
            "S",
            "C",
            "C",
            "Q",
            "C",
            "C",
            "S",
            "S",
            "C",
            "S",
            "C",
            "S",
            "C",
            "C",
            "S",
            "C",
            "C",
            "S",
            "S",
            "S",
            "S",
            "S",
            "S",
            "Q",
            "C",
            "S",
            "S",
            "S",
            "C",
            "S",
            "S",
            "S",
            "S",
            "S",
            "S",
            "S",
            "S",
            "S",
            "S",
            "S",
            "S",
            "S",
            "S",
            "S",
            "S",
            "S",
            "Q",
            "Q",
            "S",
            "S",
            "S",
            "S",
            "S",
            "S",
            "S",
            "C",
            "Q",
            "S",
            "S",
            "S",
            "S",
            "S",
            "S",
            "Q",
            "S",
            "S",
            "S",
            "S",
            "S",
            "S",
            "S",
            "S",
            "S",
            "S",
            "S",
            "S",
            "S",
            "S",
            "S",
            "S",
            "S",
            "S",
            "S",
            "C",
            "S",
            "S",
            "S",
            "C",
            "C",
            "S",
            "C",
            "S",
            "S",
            "S",
            "Q",
            "S",
            "S",
            "S",
            "S",
            "S",
            "S",
            "S",
            "S",
            "Q",
            "C",
            "S",
            "S",
            "S",
            "C",
            "S",
            "S",
            "S",
            "S",
            "S",
            "S",
            "S",
            "S",
            "S",
            "S",
            "C",
            "S",
            "S",
            "C",
            "S",
            "S",
            "S",
            "S",
            "S",
            "C",
            "S",
            "C",
            "C",
            "S",
            "S",
            "S",
            "S",
            "Q",
            "Q",
            "S",
            "S",
            "C",
            "S",
            "S",
            "S",
            "S",
            "Q",
            "S",
            "S",
            "C",
            "S",
            "S",
            "S",
            "Q",
            "S",
            "S",
            "S",
            "S",
            "C",
            "C",
            "C",
            "Q",
            "S",
            "S",
            "S",
            "S",
            "S",
            "C",
            "C",
            "C",
            "S",
            "S",
            "S",
            "C",
            "S",
            "C",
            "S",
            "S",
            "S",
            "S",
            "C",
            "S",
            "S",
            "C",
            "S",
            "S",
            "C",
            "S",
            "Q",
            "C",
            "S",
            "S",
            "C",
            "C",
            "S",
            "S",
            "Q",
            "S",
            "S",
            "S",
            "S",
            "S",
            "S",
            "S",
            "C",
            "S",
            "S",
            "S",
            "S",
            "Q",
            "S",
            "S",
            "S",
            "S",
            "C",
            "S",
            "S",
            "C",
            "S",
            "C",
            "C",
            "S",
            "S",
            "C",
            "S",
            "S",
            "S",
            "C",
            "S",
            "Q",
            "S",
            "S",
            "S",
            "S",
            "C",
            "C",
            "S",
            "S",
            "S",
            "S",
            "C",
            "S",
            "S",
            "S",
            "C",
            "S",
            "S",
            "S",
            "Q",
            "Q",
            "S",
            "S",
            "S",
            "S",
            "S",
            "S",
            "C",
            "S",
            "C",
            "S",
            "S",
            "S",
            "Q",
            "S",
            "S",
            "Q",
            "S",
            "S",
            "C",
            "S",
            "S",
            "S",
            "S",
            "S",
            "S",
            "S",
            "S",
            "C",
            "S",
            "S",
            "C",
            "C",
            "S",
            "C",
            "S",
            "S",
            "S",
            "S",
            "S",
            "Q",
            "Q",
            "S",
            "S",
            "Q",
            "S",
            "C",
            "S",
            "C",
            "S",
            "S",
            "S",
            "S",
            "S",
            "S",
            "S",
            "S",
            "S",
            "S",
            "S",
            "S",
            "S",
            "S",
            "S",
            "S",
            "S",
            "C",
            "Q",
            "C",
            "S",
            "S",
            "S",
            "C",
            "S",
            "S",
            "S",
            "S",
            "S",
            "C",
            "S",
            "C",
            "S",
            "S",
            "S",
            "Q",
            "C",
            "S",
            "C",
            "S",
            "C",
            "Q",
            "S",
            "S",
            "S",
            "S",
            "S",
            "C",
            "C",
            "S",
            "S",
            "S",
            "S",
            "S",
            "C",
            "S",
            "Q",
            "S",
            "S",
            "S",
            "S",
            "S",
            "S",
            "S",
            "S",
            "Q",
            "S",
            "S",
            "S",
            "C",
            "S",
            "S",
            "S",
            "S",
            "S",
            "C",
            "S",
            "S",
            "S",
            "S",
            "C",
            "S",
            "S",
            "S",
            "S",
            "S",
            "S",
            "Q",
            "S",
            "S",
            "S",
            "S",
            "S",
            "S",
            "S",
            "S",
            "S",
            "S",
            "S",
            "S",
            "C",
            "S",
            "S",
            "S",
            "C",
            "Q",
            "Q",
            "S",
            "S",
            "S",
            "S",
            "C",
            "S",
            "S",
            "Q",
            "S",
            "Q",
            "S",
            "C",
            "S",
            "S",
            "S",
            "S",
            "S",
            "S",
            "Q",
            "S",
            "C",
            "Q",
            "S",
            "S",
            "C",
            "S",
            "S",
            "S",
            "S",
            "C",
            "S",
            "S",
            "S",
            "S",
            "C",
            "S",
            "S",
            "S",
            "S",
            "S",
            "S",
            "S",
            "S",
            "S",
            "S",
            "S",
            "S",
            "S",
            "C",
            "S",
            "S",
            "S",
            "S",
            "S",
            "S",
            "S",
            "Q",
            "S",
            "C",
            "Q",
            null,
            "C",
            "S",
            "C",
            "S",
            "S",
            "C",
            "S",
            "S",
            "S",
            "C",
            "S",
            "S",
            "C",
            "C",
            "S",
            "S",
            "S",
            "C",
            "S",
            "C",
            "S",
            "S",
            "C",
            "S",
            "S",
            "S",
            "S",
            "S",
            "C",
            "C",
            "S",
            "S",
            "S",
            "S",
            "S",
            "S",
            "C",
            "S",
            "S",
            "S",
            "S",
            "S",
            "S",
            "S",
            "C",
            "C",
            "S",
            "S",
            "S",
            "C",
            "S",
            "S",
            "S",
            "S",
            "S",
            "Q",
            "S",
            "S",
            "S",
            "C",
            "Q"
           ]
          }
         ],
         "domain": {
          "x": [
           0,
           1
          ],
          "y": [
           0,
           1
          ]
         },
         "line": {
          "color": [
           0,
           1,
           1,
           1,
           0,
           0,
           0,
           0,
           1,
           1,
           1,
           1,
           0,
           0,
           0,
           1,
           0,
           1,
           0,
           1,
           0,
           1,
           1,
           1,
           0,
           1,
           0,
           0,
           1,
           0,
           0,
           1,
           1,
           0,
           0,
           0,
           1,
           0,
           0,
           1,
           0,
           0,
           0,
           1,
           1,
           0,
           0,
           1,
           0,
           0,
           0,
           0,
           1,
           1,
           0,
           1,
           1,
           0,
           1,
           0,
           0,
           1,
           0,
           0,
           0,
           1,
           1,
           0,
           1,
           0,
           0,
           0,
           0,
           0,
           1,
           0,
           0,
           0,
           1,
           1,
           0,
           1,
           1,
           0,
           1,
           1,
           0,
           0,
           1,
           0,
           0,
           0,
           0,
           0,
           0,
           0,
           0,
           1,
           1,
           0,
           0,
           0,
           0,
           0,
           0,
           0,
           1,
           1,
           0,
           1,
           0,
           0,
           0,
           0,
           0,
           0,
           0,
           0,
           0,
           0,
           0,
           0,
           0,
           1,
           0,
           1,
           0,
           1,
           1,
           0,
           0,
           0,
           0,
           1,
           0,
           0,
           1,
           0,
           0,
           0,
           0,
           1,
           1,
           0,
           0,
           0,
           1,
           0,
           0,
           0,
           0,
           1,
           0,
           0,
           0,
           0,
           1,
           0,
           0,
           0,
           0,
           1,
           0,
           0,
           0,
           1,
           1,
           0,
           0,
           0,
           0,
           0,
           1,
           0,
           0,
           0,
           0,
           0,
           0,
           0,
           0,
           0,
           0,
           1,
           1,
           0,
           1,
           1,
           0,
           0,
           1,
           0,
           1,
           1,
           1,
           1,
           0,
           0,
           1,
           0,
           0,
           0,
           0,
           0,
           1,
           0,
           0,
           1,
           1,
           1,
           0,
           1,
           0,
           0,
           0,
           1,
           1,
           0,
           1,
           0,
           1,
           0,
           0,
           0,
           1,
           0,
           1,
           0,
           0,
           0,
           1,
           0,
           0,
           1,
           0,
           0,
           0,
           1,
           0,
           0,
           0,
           1,
           0,
           0,
           0,
           0,
           0,
           1,
           1,
           0,
           0,
           0,
           0,
           0,
           0,
           1,
           1,
           1,
           1,
           1,
           0,
           1,
           0,
           0,
           0,
           0,
           0,
           1,
           1,
           1,
           0,
           1,
           1,
           0,
           1,
           1,
           0,
           0,
           0,
           1,
           0,
           0,
           0,
           1,
           0,
           0,
           1,
           0,
           1,
           1,
           1,
           1,
           0,
           0,
           0,
           0,
           0,
           0,
           1,
           1,
           1,
           1,
           0,
           1,
           0,
           1,
           1,
           1,
           0,
           1,
           1,
           1,
           0,
           0,
           0,
           1,
           1,
           0,
           1,
           1,
           0,
           0,
           1,
           1,
           0,
           1,
           0,
           1,
           1,
           1,
           1,
           0,
           0,
           0,
           1,
           0,
           0,
           1,
           1,
           0,
           1,
           1,
           0,
           0,
           0,
           1,
           1,
           1,
           1,
           0,
           0,
           0,
           0,
           0,
           0,
           0,
           1,
           0,
           1,
           1,
           0,
           0,
           0,
           0,
           0,
           0,
           1,
           1,
           1,
           1,
           1,
           0,
           0,
           0,
           0,
           1,
           1,
           0,
           0,
           0,
           1,
           1,
           0,
           1,
           0,
           0,
           0,
           1,
           0,
           1,
           1,
           1,
           0,
           1,
           1,
           0,
           0,
           0,
           0,
           1,
           1,
           0,
           0,
           0,
           0,
           0,
           0,
           1,
           0,
           0,
           0,
           0,
           1,
           0,
           1,
           0,
           1,
           1,
           0,
           0,
           0,
           0,
           0,
           0,
           0,
           0,
           1,
           1,
           0,
           1,
           1,
           1,
           1,
           0,
           0,
           1,
           0,
           1,
           0,
           0,
           1,
           0,
           0,
           1,
           1,
           1,
           1,
           1,
           1,
           1,
           0,
           0,
           0,
           1,
           0,
           1,
           0,
           1,
           1,
           0,
           1,
           0,
           0,
           0,
           0,
           0,
           0,
           0,
           0,
           1,
           0,
           0,
           1,
           1,
           0,
           0,
           0,
           0,
           0,
           1,
           0,
           0,
           0,
           1,
           1,
           0,
           1,
           0,
           0,
           1,
           0,
           0,
           0,
           0,
           0,
           0,
           1,
           0,
           0,
           0,
           0,
           0,
           0,
           0,
           1,
           0,
           1,
           1,
           0,
           1,
           1,
           0,
           1,
           1,
           0,
           0,
           1,
           0,
           1,
           0,
           1,
           0,
           0,
           1,
           0,
           0,
           1,
           0,
           0,
           0,
           1,
           0,
           0,
           1,
           0,
           1,
           0,
           1,
           0,
           1,
           1,
           0,
           0,
           1,
           0,
           0,
           1,
           1,
           0,
           1,
           1,
           0,
           0,
           1,
           1,
           0,
           1,
           0,
           1,
           1,
           0,
           0,
           0,
           0,
           0,
           0,
           0,
           0,
           0,
           1,
           1,
           1,
           1,
           1,
           0,
           0,
           1,
           1,
           0,
           1,
           1,
           1,
           0,
           0,
           0,
           1,
           0,
           1,
           0,
           0,
           0,
           1,
           0,
           0,
           0,
           0,
           1,
           0,
           0,
           1,
           1,
           0,
           0,
           0,
           1,
           0,
           0,
           1,
           1,
           1,
           0,
           0,
           1,
           0,
           0,
           1,
           0,
           0,
           1,
           0,
           0,
           1,
           1,
           0,
           0,
           0,
           0,
           1,
           0,
           0,
           1,
           0,
           1,
           0,
           0,
           1,
           0,
           0,
           0,
           0,
           0,
           1,
           0,
           1,
           1,
           1,
           0,
           1,
           0,
           1,
           0,
           1,
           0,
           1,
           0,
           0,
           0,
           0,
           0,
           0,
           1,
           0,
           0,
           0,
           1,
           0,
           0,
           0,
           0,
           1,
           1,
           0,
           0,
           1,
           0,
           0,
           0,
           1,
           0,
           1,
           0,
           1,
           0,
           0,
           0,
           0,
           0,
           0,
           0,
           1,
           1,
           1,
           1,
           0,
           0,
           0,
           0,
           1,
           0,
           0,
           1,
           1,
           0,
           0,
           0,
           0,
           1,
           1,
           1,
           1,
           1,
           0,
           1,
           0,
           0,
           0,
           1,
           1,
           0,
           0,
           1,
           0,
           0,
           0,
           1,
           0,
           1,
           1,
           0,
           0,
           1,
           0,
           0,
           0,
           0,
           0,
           0,
           1,
           0,
           0,
           1,
           0,
           1,
           0,
           1,
           0,
           0,
           1,
           0,
           0,
           1,
           1,
           0,
           0,
           1,
           1,
           0,
           0,
           0,
           1,
           0,
           0,
           1,
           1,
           0,
           1,
           0,
           0,
           0,
           0,
           0,
           0,
           0,
           0,
           1,
           0,
           0,
           1,
           0,
           1,
           1,
           1,
           0,
           0,
           0,
           0,
           1,
           0,
           1,
           0,
           0,
           0,
           0,
           0,
           0,
           0,
           1,
           1,
           0,
           0,
           0,
           1,
           1,
           1,
           1,
           0,
           0,
           0,
           0,
           1,
           0,
           0,
           0,
           0,
           0,
           0,
           0,
           0,
           0,
           0,
           1,
           1,
           0,
           1,
           0,
           0,
           0,
           1,
           1,
           1,
           1,
           1,
           0,
           0,
           0,
           1,
           0,
           0,
           1,
           1,
           0,
           0,
           1,
           0,
           0,
           0,
           0,
           0,
           0,
           1,
           0,
           0,
           0,
           1,
           0,
           1,
           1,
           1,
           1,
           0,
           0,
           0,
           1,
           0,
           0,
           1,
           1,
           0,
           0,
           1,
           0,
           1,
           0,
           0,
           1,
           1,
           0,
           0,
           0,
           1,
           1,
           0,
           0,
           0,
           0,
           0,
           0,
           1,
           0,
           1,
           0
          ],
          "coloraxis": "coloraxis"
         },
         "name": "",
         "type": "parcats"
        }
       ],
       "layout": {
        "coloraxis": {
         "colorbar": {
          "title": {
           "text": "survived"
          }
         },
         "colorscale": [
          [
           0,
           "#000004"
          ],
          [
           0.1111111111111111,
           "#1b0c41"
          ],
          [
           0.2222222222222222,
           "#4a0c6b"
          ],
          [
           0.3333333333333333,
           "#781c6d"
          ],
          [
           0.4444444444444444,
           "#a52c60"
          ],
          [
           0.5555555555555556,
           "#cf4446"
          ],
          [
           0.6666666666666666,
           "#ed6925"
          ],
          [
           0.7777777777777778,
           "#fb9b06"
          ],
          [
           0.8888888888888888,
           "#f7d13d"
          ],
          [
           1,
           "#fcffa4"
          ]
         ]
        },
        "legend": {
         "tracegroupgap": 0
        },
        "margin": {
         "t": 60
        },
        "template": {
         "data": {
          "bar": [
           {
            "error_x": {
             "color": "#2a3f5f"
            },
            "error_y": {
             "color": "#2a3f5f"
            },
            "marker": {
             "line": {
              "color": "#E5ECF6",
              "width": 0.5
             },
             "pattern": {
              "fillmode": "overlay",
              "size": 10,
              "solidity": 0.2
             }
            },
            "type": "bar"
           }
          ],
          "barpolar": [
           {
            "marker": {
             "line": {
              "color": "#E5ECF6",
              "width": 0.5
             },
             "pattern": {
              "fillmode": "overlay",
              "size": 10,
              "solidity": 0.2
             }
            },
            "type": "barpolar"
           }
          ],
          "carpet": [
           {
            "aaxis": {
             "endlinecolor": "#2a3f5f",
             "gridcolor": "white",
             "linecolor": "white",
             "minorgridcolor": "white",
             "startlinecolor": "#2a3f5f"
            },
            "baxis": {
             "endlinecolor": "#2a3f5f",
             "gridcolor": "white",
             "linecolor": "white",
             "minorgridcolor": "white",
             "startlinecolor": "#2a3f5f"
            },
            "type": "carpet"
           }
          ],
          "choropleth": [
           {
            "colorbar": {
             "outlinewidth": 0,
             "ticks": ""
            },
            "type": "choropleth"
           }
          ],
          "contour": [
           {
            "colorbar": {
             "outlinewidth": 0,
             "ticks": ""
            },
            "colorscale": [
             [
              0,
              "#0d0887"
             ],
             [
              0.1111111111111111,
              "#46039f"
             ],
             [
              0.2222222222222222,
              "#7201a8"
             ],
             [
              0.3333333333333333,
              "#9c179e"
             ],
             [
              0.4444444444444444,
              "#bd3786"
             ],
             [
              0.5555555555555556,
              "#d8576b"
             ],
             [
              0.6666666666666666,
              "#ed7953"
             ],
             [
              0.7777777777777778,
              "#fb9f3a"
             ],
             [
              0.8888888888888888,
              "#fdca26"
             ],
             [
              1,
              "#f0f921"
             ]
            ],
            "type": "contour"
           }
          ],
          "contourcarpet": [
           {
            "colorbar": {
             "outlinewidth": 0,
             "ticks": ""
            },
            "type": "contourcarpet"
           }
          ],
          "heatmap": [
           {
            "colorbar": {
             "outlinewidth": 0,
             "ticks": ""
            },
            "colorscale": [
             [
              0,
              "#0d0887"
             ],
             [
              0.1111111111111111,
              "#46039f"
             ],
             [
              0.2222222222222222,
              "#7201a8"
             ],
             [
              0.3333333333333333,
              "#9c179e"
             ],
             [
              0.4444444444444444,
              "#bd3786"
             ],
             [
              0.5555555555555556,
              "#d8576b"
             ],
             [
              0.6666666666666666,
              "#ed7953"
             ],
             [
              0.7777777777777778,
              "#fb9f3a"
             ],
             [
              0.8888888888888888,
              "#fdca26"
             ],
             [
              1,
              "#f0f921"
             ]
            ],
            "type": "heatmap"
           }
          ],
          "heatmapgl": [
           {
            "colorbar": {
             "outlinewidth": 0,
             "ticks": ""
            },
            "colorscale": [
             [
              0,
              "#0d0887"
             ],
             [
              0.1111111111111111,
              "#46039f"
             ],
             [
              0.2222222222222222,
              "#7201a8"
             ],
             [
              0.3333333333333333,
              "#9c179e"
             ],
             [
              0.4444444444444444,
              "#bd3786"
             ],
             [
              0.5555555555555556,
              "#d8576b"
             ],
             [
              0.6666666666666666,
              "#ed7953"
             ],
             [
              0.7777777777777778,
              "#fb9f3a"
             ],
             [
              0.8888888888888888,
              "#fdca26"
             ],
             [
              1,
              "#f0f921"
             ]
            ],
            "type": "heatmapgl"
           }
          ],
          "histogram": [
           {
            "marker": {
             "pattern": {
              "fillmode": "overlay",
              "size": 10,
              "solidity": 0.2
             }
            },
            "type": "histogram"
           }
          ],
          "histogram2d": [
           {
            "colorbar": {
             "outlinewidth": 0,
             "ticks": ""
            },
            "colorscale": [
             [
              0,
              "#0d0887"
             ],
             [
              0.1111111111111111,
              "#46039f"
             ],
             [
              0.2222222222222222,
              "#7201a8"
             ],
             [
              0.3333333333333333,
              "#9c179e"
             ],
             [
              0.4444444444444444,
              "#bd3786"
             ],
             [
              0.5555555555555556,
              "#d8576b"
             ],
             [
              0.6666666666666666,
              "#ed7953"
             ],
             [
              0.7777777777777778,
              "#fb9f3a"
             ],
             [
              0.8888888888888888,
              "#fdca26"
             ],
             [
              1,
              "#f0f921"
             ]
            ],
            "type": "histogram2d"
           }
          ],
          "histogram2dcontour": [
           {
            "colorbar": {
             "outlinewidth": 0,
             "ticks": ""
            },
            "colorscale": [
             [
              0,
              "#0d0887"
             ],
             [
              0.1111111111111111,
              "#46039f"
             ],
             [
              0.2222222222222222,
              "#7201a8"
             ],
             [
              0.3333333333333333,
              "#9c179e"
             ],
             [
              0.4444444444444444,
              "#bd3786"
             ],
             [
              0.5555555555555556,
              "#d8576b"
             ],
             [
              0.6666666666666666,
              "#ed7953"
             ],
             [
              0.7777777777777778,
              "#fb9f3a"
             ],
             [
              0.8888888888888888,
              "#fdca26"
             ],
             [
              1,
              "#f0f921"
             ]
            ],
            "type": "histogram2dcontour"
           }
          ],
          "mesh3d": [
           {
            "colorbar": {
             "outlinewidth": 0,
             "ticks": ""
            },
            "type": "mesh3d"
           }
          ],
          "parcoords": [
           {
            "line": {
             "colorbar": {
              "outlinewidth": 0,
              "ticks": ""
             }
            },
            "type": "parcoords"
           }
          ],
          "pie": [
           {
            "automargin": true,
            "type": "pie"
           }
          ],
          "scatter": [
           {
            "fillpattern": {
             "fillmode": "overlay",
             "size": 10,
             "solidity": 0.2
            },
            "type": "scatter"
           }
          ],
          "scatter3d": [
           {
            "line": {
             "colorbar": {
              "outlinewidth": 0,
              "ticks": ""
             }
            },
            "marker": {
             "colorbar": {
              "outlinewidth": 0,
              "ticks": ""
             }
            },
            "type": "scatter3d"
           }
          ],
          "scattercarpet": [
           {
            "marker": {
             "colorbar": {
              "outlinewidth": 0,
              "ticks": ""
             }
            },
            "type": "scattercarpet"
           }
          ],
          "scattergeo": [
           {
            "marker": {
             "colorbar": {
              "outlinewidth": 0,
              "ticks": ""
             }
            },
            "type": "scattergeo"
           }
          ],
          "scattergl": [
           {
            "marker": {
             "colorbar": {
              "outlinewidth": 0,
              "ticks": ""
             }
            },
            "type": "scattergl"
           }
          ],
          "scattermapbox": [
           {
            "marker": {
             "colorbar": {
              "outlinewidth": 0,
              "ticks": ""
             }
            },
            "type": "scattermapbox"
           }
          ],
          "scatterpolar": [
           {
            "marker": {
             "colorbar": {
              "outlinewidth": 0,
              "ticks": ""
             }
            },
            "type": "scatterpolar"
           }
          ],
          "scatterpolargl": [
           {
            "marker": {
             "colorbar": {
              "outlinewidth": 0,
              "ticks": ""
             }
            },
            "type": "scatterpolargl"
           }
          ],
          "scatterternary": [
           {
            "marker": {
             "colorbar": {
              "outlinewidth": 0,
              "ticks": ""
             }
            },
            "type": "scatterternary"
           }
          ],
          "surface": [
           {
            "colorbar": {
             "outlinewidth": 0,
             "ticks": ""
            },
            "colorscale": [
             [
              0,
              "#0d0887"
             ],
             [
              0.1111111111111111,
              "#46039f"
             ],
             [
              0.2222222222222222,
              "#7201a8"
             ],
             [
              0.3333333333333333,
              "#9c179e"
             ],
             [
              0.4444444444444444,
              "#bd3786"
             ],
             [
              0.5555555555555556,
              "#d8576b"
             ],
             [
              0.6666666666666666,
              "#ed7953"
             ],
             [
              0.7777777777777778,
              "#fb9f3a"
             ],
             [
              0.8888888888888888,
              "#fdca26"
             ],
             [
              1,
              "#f0f921"
             ]
            ],
            "type": "surface"
           }
          ],
          "table": [
           {
            "cells": {
             "fill": {
              "color": "#EBF0F8"
             },
             "line": {
              "color": "white"
             }
            },
            "header": {
             "fill": {
              "color": "#C8D4E3"
             },
             "line": {
              "color": "white"
             }
            },
            "type": "table"
           }
          ]
         },
         "layout": {
          "annotationdefaults": {
           "arrowcolor": "#2a3f5f",
           "arrowhead": 0,
           "arrowwidth": 1
          },
          "autotypenumbers": "strict",
          "coloraxis": {
           "colorbar": {
            "outlinewidth": 0,
            "ticks": ""
           }
          },
          "colorscale": {
           "diverging": [
            [
             0,
             "#8e0152"
            ],
            [
             0.1,
             "#c51b7d"
            ],
            [
             0.2,
             "#de77ae"
            ],
            [
             0.3,
             "#f1b6da"
            ],
            [
             0.4,
             "#fde0ef"
            ],
            [
             0.5,
             "#f7f7f7"
            ],
            [
             0.6,
             "#e6f5d0"
            ],
            [
             0.7,
             "#b8e186"
            ],
            [
             0.8,
             "#7fbc41"
            ],
            [
             0.9,
             "#4d9221"
            ],
            [
             1,
             "#276419"
            ]
           ],
           "sequential": [
            [
             0,
             "#0d0887"
            ],
            [
             0.1111111111111111,
             "#46039f"
            ],
            [
             0.2222222222222222,
             "#7201a8"
            ],
            [
             0.3333333333333333,
             "#9c179e"
            ],
            [
             0.4444444444444444,
             "#bd3786"
            ],
            [
             0.5555555555555556,
             "#d8576b"
            ],
            [
             0.6666666666666666,
             "#ed7953"
            ],
            [
             0.7777777777777778,
             "#fb9f3a"
            ],
            [
             0.8888888888888888,
             "#fdca26"
            ],
            [
             1,
             "#f0f921"
            ]
           ],
           "sequentialminus": [
            [
             0,
             "#0d0887"
            ],
            [
             0.1111111111111111,
             "#46039f"
            ],
            [
             0.2222222222222222,
             "#7201a8"
            ],
            [
             0.3333333333333333,
             "#9c179e"
            ],
            [
             0.4444444444444444,
             "#bd3786"
            ],
            [
             0.5555555555555556,
             "#d8576b"
            ],
            [
             0.6666666666666666,
             "#ed7953"
            ],
            [
             0.7777777777777778,
             "#fb9f3a"
            ],
            [
             0.8888888888888888,
             "#fdca26"
            ],
            [
             1,
             "#f0f921"
            ]
           ]
          },
          "colorway": [
           "#636efa",
           "#EF553B",
           "#00cc96",
           "#ab63fa",
           "#FFA15A",
           "#19d3f3",
           "#FF6692",
           "#B6E880",
           "#FF97FF",
           "#FECB52"
          ],
          "font": {
           "color": "#2a3f5f"
          },
          "geo": {
           "bgcolor": "white",
           "lakecolor": "white",
           "landcolor": "#E5ECF6",
           "showlakes": true,
           "showland": true,
           "subunitcolor": "white"
          },
          "hoverlabel": {
           "align": "left"
          },
          "hovermode": "closest",
          "mapbox": {
           "style": "light"
          },
          "paper_bgcolor": "white",
          "plot_bgcolor": "#E5ECF6",
          "polar": {
           "angularaxis": {
            "gridcolor": "white",
            "linecolor": "white",
            "ticks": ""
           },
           "bgcolor": "#E5ECF6",
           "radialaxis": {
            "gridcolor": "white",
            "linecolor": "white",
            "ticks": ""
           }
          },
          "scene": {
           "xaxis": {
            "backgroundcolor": "#E5ECF6",
            "gridcolor": "white",
            "gridwidth": 2,
            "linecolor": "white",
            "showbackground": true,
            "ticks": "",
            "zerolinecolor": "white"
           },
           "yaxis": {
            "backgroundcolor": "#E5ECF6",
            "gridcolor": "white",
            "gridwidth": 2,
            "linecolor": "white",
            "showbackground": true,
            "ticks": "",
            "zerolinecolor": "white"
           },
           "zaxis": {
            "backgroundcolor": "#E5ECF6",
            "gridcolor": "white",
            "gridwidth": 2,
            "linecolor": "white",
            "showbackground": true,
            "ticks": "",
            "zerolinecolor": "white"
           }
          },
          "shapedefaults": {
           "line": {
            "color": "#2a3f5f"
           }
          },
          "ternary": {
           "aaxis": {
            "gridcolor": "white",
            "linecolor": "white",
            "ticks": ""
           },
           "baxis": {
            "gridcolor": "white",
            "linecolor": "white",
            "ticks": ""
           },
           "bgcolor": "#E5ECF6",
           "caxis": {
            "gridcolor": "white",
            "linecolor": "white",
            "ticks": ""
           }
          },
          "title": {
           "x": 0.05
          },
          "xaxis": {
           "automargin": true,
           "gridcolor": "white",
           "linecolor": "white",
           "ticks": "",
           "title": {
            "standoff": 15
           },
           "zerolinecolor": "white",
           "zerolinewidth": 2
          },
          "yaxis": {
           "automargin": true,
           "gridcolor": "white",
           "linecolor": "white",
           "ticks": "",
           "title": {
            "standoff": 15
           },
           "zerolinecolor": "white",
           "zerolinewidth": 2
          }
         }
        }
       }
      }
     },
     "metadata": {},
     "output_type": "display_data"
    }
   ],
   "source": [
    "import plotly.express as px\n",
    "\n",
    "\n",
    "fig = px.parallel_categories(categorias, color = 'survived', dimensions=['sex', 'horquilla', 'destino', 'clase', 'embarked'],\n",
    "                color_continuous_scale=px.colors.sequential.Inferno,\n",
    "                labels={'sex', 'horquilla', 'destino', 'clase', 'embarked'})\n",
    "fig.show()"
   ]
  },
  {
   "cell_type": "code",
   "execution_count": 78,
   "metadata": {},
   "outputs": [],
   "source": [
    "fig.write_html('grafico_categorias.html')"
   ]
  },
  {
   "cell_type": "markdown",
   "metadata": {},
   "source": [
    "*************"
   ]
  },
  {
   "cell_type": "code",
   "execution_count": null,
   "metadata": {},
   "outputs": [],
   "source": []
  },
  {
   "cell_type": "code",
   "execution_count": null,
   "metadata": {},
   "outputs": [],
   "source": []
  },
  {
   "cell_type": "code",
   "execution_count": null,
   "metadata": {},
   "outputs": [],
   "source": []
  },
  {
   "cell_type": "markdown",
   "metadata": {},
   "source": [
    "*****\n"
   ]
  },
  {
   "cell_type": "code",
   "execution_count": 79,
   "metadata": {},
   "outputs": [
    {
     "data": {
      "image/png": "[encoded data removed]",
      "text/plain": [
       "<Figure size 1098x1000 with 20 Axes>"
      ]
     },
     "metadata": {},
     "output_type": "display_data"
    }
   ],
   "source": [
    "df3 = titanic[['age', 'survived', 'pclass', 'embarked', 'fare', 'sex']]\n",
    "sns.pairplot(df3, kind='scatter', diag_kind='kde', palette='magma', hue = 'sex')\n",
    "plt.show()"
   ]
  },
  {
   "cell_type": "code",
   "execution_count": 80,
   "metadata": {},
   "outputs": [
    {
     "data": {
      "text/html": [
       "<div>\n",
       "<style scoped>\n",
       "    .dataframe tbody tr th:only-of-type {\n",
       "        vertical-align: middle;\n",
       "    }\n",
       "\n",
       "    .dataframe tbody tr th {\n",
       "        vertical-align: top;\n",
       "    }\n",
       "\n",
       "    .dataframe thead th {\n",
       "        text-align: right;\n",
       "    }\n",
       "</style>\n",
       "<table border=\"1\" class=\"dataframe\">\n",
       "  <thead>\n",
       "    <tr style=\"text-align: right;\">\n",
       "      <th></th>\n",
       "      <th>passengerid</th>\n",
       "      <th>survived</th>\n",
       "      <th>destino</th>\n",
       "      <th>pclass</th>\n",
       "      <th>clase</th>\n",
       "      <th>name</th>\n",
       "      <th>titulos</th>\n",
       "      <th>sex</th>\n",
       "      <th>age</th>\n",
       "      <th>horquilla</th>\n",
       "      <th>sibsp</th>\n",
       "      <th>parch</th>\n",
       "      <th>ticket</th>\n",
       "      <th>fare</th>\n",
       "      <th>cabin</th>\n",
       "      <th>embarked</th>\n",
       "    </tr>\n",
       "  </thead>\n",
       "  <tbody>\n",
       "    <tr>\n",
       "      <th>822</th>\n",
       "      <td>823</td>\n",
       "      <td>0</td>\n",
       "      <td>muere</td>\n",
       "      <td>1</td>\n",
       "      <td>alta</td>\n",
       "      <td>Reuchlin, Jonkheer. John George</td>\n",
       "      <td>Jonkheer</td>\n",
       "      <td>male</td>\n",
       "      <td>38.0</td>\n",
       "      <td>adultos</td>\n",
       "      <td>0</td>\n",
       "      <td>0</td>\n",
       "      <td>19972</td>\n",
       "      <td>0.0</td>\n",
       "      <td>NaN</td>\n",
       "      <td>S</td>\n",
       "    </tr>\n",
       "  </tbody>\n",
       "</table>\n",
       "</div>"
      ],
      "text/plain": [
       "     passengerid  survived destino  pclass clase  \\\n",
       "822          823         0   muere       1  alta   \n",
       "\n",
       "                                name   titulos   sex   age horquilla  sibsp  \\\n",
       "822  Reuchlin, Jonkheer. John George  Jonkheer  male  38.0   adultos      0   \n",
       "\n",
       "     parch ticket  fare cabin embarked  \n",
       "822      0  19972   0.0   NaN        S  "
      ]
     },
     "execution_count": 80,
     "metadata": {},
     "output_type": "execute_result"
    }
   ],
   "source": [
    "jonkheer_titanic = titanic[titanic['name'].str.contains('Jonkheer', case=False)]\n",
    "jonkheer_titanic"
   ]
  },
  {
   "cell_type": "code",
   "execution_count": 81,
   "metadata": {},
   "outputs": [
    {
     "data": {
      "text/html": [
       "<div>\n",
       "<style scoped>\n",
       "    .dataframe tbody tr th:only-of-type {\n",
       "        vertical-align: middle;\n",
       "    }\n",
       "\n",
       "    .dataframe tbody tr th {\n",
       "        vertical-align: top;\n",
       "    }\n",
       "\n",
       "    .dataframe thead th {\n",
       "        text-align: right;\n",
       "    }\n",
       "</style>\n",
       "<table border=\"1\" class=\"dataframe\">\n",
       "  <thead>\n",
       "    <tr style=\"text-align: right;\">\n",
       "      <th></th>\n",
       "      <th>passengerid</th>\n",
       "      <th>survived</th>\n",
       "      <th>destino</th>\n",
       "      <th>pclass</th>\n",
       "      <th>clase</th>\n",
       "      <th>name</th>\n",
       "      <th>titulos</th>\n",
       "      <th>sex</th>\n",
       "      <th>age</th>\n",
       "      <th>horquilla</th>\n",
       "      <th>sibsp</th>\n",
       "      <th>parch</th>\n",
       "      <th>ticket</th>\n",
       "      <th>fare</th>\n",
       "      <th>cabin</th>\n",
       "      <th>embarked</th>\n",
       "    </tr>\n",
       "  </thead>\n",
       "  <tbody>\n",
       "    <tr>\n",
       "      <th>759</th>\n",
       "      <td>760</td>\n",
       "      <td>1</td>\n",
       "      <td>sobrevive</td>\n",
       "      <td>1</td>\n",
       "      <td>alta</td>\n",
       "      <td>Rothes, the Countess. of (Lucy Noel Martha Dye...</td>\n",
       "      <td>the Countess</td>\n",
       "      <td>female</td>\n",
       "      <td>33.0</td>\n",
       "      <td>joven-adulto</td>\n",
       "      <td>0</td>\n",
       "      <td>0</td>\n",
       "      <td>110152</td>\n",
       "      <td>86.5</td>\n",
       "      <td>B77</td>\n",
       "      <td>S</td>\n",
       "    </tr>\n",
       "  </tbody>\n",
       "</table>\n",
       "</div>"
      ],
      "text/plain": [
       "     passengerid  survived    destino  pclass clase  \\\n",
       "759          760         1  sobrevive       1  alta   \n",
       "\n",
       "                                                  name       titulos     sex  \\\n",
       "759  Rothes, the Countess. of (Lucy Noel Martha Dye...  the Countess  female   \n",
       "\n",
       "      age     horquilla  sibsp  parch  ticket  fare cabin embarked  \n",
       "759  33.0  joven-adulto      0      0  110152  86.5   B77        S  "
      ]
     },
     "execution_count": 81,
     "metadata": {},
     "output_type": "execute_result"
    }
   ],
   "source": [
    "thecountess_titanic = titanic[titanic['name'].str.contains('the Countess', case=False)]\n",
    "thecountess_titanic"
   ]
  },
  {
   "cell_type": "code",
   "execution_count": 82,
   "metadata": {},
   "outputs": [
    {
     "data": {
      "text/html": [
       "<div>\n",
       "<style scoped>\n",
       "    .dataframe tbody tr th:only-of-type {\n",
       "        vertical-align: middle;\n",
       "    }\n",
       "\n",
       "    .dataframe tbody tr th {\n",
       "        vertical-align: top;\n",
       "    }\n",
       "\n",
       "    .dataframe thead th {\n",
       "        text-align: right;\n",
       "    }\n",
       "</style>\n",
       "<table border=\"1\" class=\"dataframe\">\n",
       "  <thead>\n",
       "    <tr style=\"text-align: right;\">\n",
       "      <th></th>\n",
       "      <th>passengerid</th>\n",
       "      <th>survived</th>\n",
       "      <th>destino</th>\n",
       "      <th>pclass</th>\n",
       "      <th>clase</th>\n",
       "      <th>name</th>\n",
       "      <th>titulos</th>\n",
       "      <th>sex</th>\n",
       "      <th>age</th>\n",
       "      <th>horquilla</th>\n",
       "      <th>sibsp</th>\n",
       "      <th>parch</th>\n",
       "      <th>ticket</th>\n",
       "      <th>fare</th>\n",
       "      <th>cabin</th>\n",
       "      <th>embarked</th>\n",
       "    </tr>\n",
       "  </thead>\n",
       "  <tbody>\n",
       "    <tr>\n",
       "      <th>745</th>\n",
       "      <td>746</td>\n",
       "      <td>0</td>\n",
       "      <td>muere</td>\n",
       "      <td>1</td>\n",
       "      <td>alta</td>\n",
       "      <td>Crosby, Capt. Edward Gifford</td>\n",
       "      <td>Capt</td>\n",
       "      <td>male</td>\n",
       "      <td>70.0</td>\n",
       "      <td>ancianos</td>\n",
       "      <td>1</td>\n",
       "      <td>1</td>\n",
       "      <td>WE/P 5735</td>\n",
       "      <td>71.0</td>\n",
       "      <td>B22</td>\n",
       "      <td>S</td>\n",
       "    </tr>\n",
       "  </tbody>\n",
       "</table>\n",
       "</div>"
      ],
      "text/plain": [
       "     passengerid  survived destino  pclass clase  \\\n",
       "745          746         0   muere       1  alta   \n",
       "\n",
       "                             name titulos   sex   age horquilla  sibsp  parch  \\\n",
       "745  Crosby, Capt. Edward Gifford    Capt  male  70.0  ancianos      1      1   \n",
       "\n",
       "        ticket  fare cabin embarked  \n",
       "745  WE/P 5735  71.0   B22        S  "
      ]
     },
     "execution_count": 82,
     "metadata": {},
     "output_type": "execute_result"
    }
   ],
   "source": [
    "captain_titanic = titanic[titanic['name'].str.contains('Capt', case=False)]\n",
    "captain_titanic"
   ]
  },
  {
   "cell_type": "code",
   "execution_count": 83,
   "metadata": {},
   "outputs": [
    {
     "data": {
      "text/html": [
       "<div>\n",
       "<style scoped>\n",
       "    .dataframe tbody tr th:only-of-type {\n",
       "        vertical-align: middle;\n",
       "    }\n",
       "\n",
       "    .dataframe tbody tr th {\n",
       "        vertical-align: top;\n",
       "    }\n",
       "\n",
       "    .dataframe thead th {\n",
       "        text-align: right;\n",
       "    }\n",
       "</style>\n",
       "<table border=\"1\" class=\"dataframe\">\n",
       "  <thead>\n",
       "    <tr style=\"text-align: right;\">\n",
       "      <th></th>\n",
       "      <th>passengerid</th>\n",
       "      <th>survived</th>\n",
       "      <th>destino</th>\n",
       "      <th>pclass</th>\n",
       "      <th>clase</th>\n",
       "      <th>name</th>\n",
       "      <th>titulos</th>\n",
       "      <th>sex</th>\n",
       "      <th>age</th>\n",
       "      <th>horquilla</th>\n",
       "      <th>sibsp</th>\n",
       "      <th>parch</th>\n",
       "      <th>ticket</th>\n",
       "      <th>fare</th>\n",
       "      <th>cabin</th>\n",
       "      <th>embarked</th>\n",
       "    </tr>\n",
       "  </thead>\n",
       "  <tbody>\n",
       "    <tr>\n",
       "      <th>39</th>\n",
       "      <td>40</td>\n",
       "      <td>1</td>\n",
       "      <td>sobrevive</td>\n",
       "      <td>3</td>\n",
       "      <td>baja</td>\n",
       "      <td>Nicola-Yarred, Miss. Jamila</td>\n",
       "      <td>Miss</td>\n",
       "      <td>female</td>\n",
       "      <td>14.000000</td>\n",
       "      <td>niños</td>\n",
       "      <td>1</td>\n",
       "      <td>0</td>\n",
       "      <td>2651</td>\n",
       "      <td>11.2417</td>\n",
       "      <td>NaN</td>\n",
       "      <td>C</td>\n",
       "    </tr>\n",
       "    <tr>\n",
       "      <th>47</th>\n",
       "      <td>48</td>\n",
       "      <td>1</td>\n",
       "      <td>sobrevive</td>\n",
       "      <td>3</td>\n",
       "      <td>baja</td>\n",
       "      <td>O'Driscoll, Miss. Bridget</td>\n",
       "      <td>Miss</td>\n",
       "      <td>female</td>\n",
       "      <td>29.699118</td>\n",
       "      <td>joven-adulto</td>\n",
       "      <td>0</td>\n",
       "      <td>0</td>\n",
       "      <td>14311</td>\n",
       "      <td>7.7500</td>\n",
       "      <td>NaN</td>\n",
       "      <td>Q</td>\n",
       "    </tr>\n",
       "    <tr>\n",
       "      <th>125</th>\n",
       "      <td>126</td>\n",
       "      <td>1</td>\n",
       "      <td>sobrevive</td>\n",
       "      <td>3</td>\n",
       "      <td>baja</td>\n",
       "      <td>Nicola-Yarred, Master. Elias</td>\n",
       "      <td>Master</td>\n",
       "      <td>male</td>\n",
       "      <td>12.000000</td>\n",
       "      <td>niños</td>\n",
       "      <td>1</td>\n",
       "      <td>0</td>\n",
       "      <td>2651</td>\n",
       "      <td>11.2417</td>\n",
       "      <td>NaN</td>\n",
       "      <td>C</td>\n",
       "    </tr>\n",
       "    <tr>\n",
       "      <th>237</th>\n",
       "      <td>238</td>\n",
       "      <td>1</td>\n",
       "      <td>sobrevive</td>\n",
       "      <td>2</td>\n",
       "      <td>media</td>\n",
       "      <td>Collyer, Miss. Marjorie \"Lottie\"</td>\n",
       "      <td>Miss</td>\n",
       "      <td>female</td>\n",
       "      <td>8.000000</td>\n",
       "      <td>niños</td>\n",
       "      <td>0</td>\n",
       "      <td>2</td>\n",
       "      <td>C.A. 31921</td>\n",
       "      <td>26.2500</td>\n",
       "      <td>NaN</td>\n",
       "      <td>S</td>\n",
       "    </tr>\n",
       "    <tr>\n",
       "      <th>242</th>\n",
       "      <td>243</td>\n",
       "      <td>0</td>\n",
       "      <td>muere</td>\n",
       "      <td>2</td>\n",
       "      <td>media</td>\n",
       "      <td>Coleridge, Mr. Reginald Charles</td>\n",
       "      <td>Mr</td>\n",
       "      <td>male</td>\n",
       "      <td>29.000000</td>\n",
       "      <td>joven-adulto</td>\n",
       "      <td>0</td>\n",
       "      <td>0</td>\n",
       "      <td>W./C. 14263</td>\n",
       "      <td>10.5000</td>\n",
       "      <td>NaN</td>\n",
       "      <td>S</td>\n",
       "    </tr>\n",
       "    <tr>\n",
       "      <th>342</th>\n",
       "      <td>343</td>\n",
       "      <td>0</td>\n",
       "      <td>muere</td>\n",
       "      <td>2</td>\n",
       "      <td>media</td>\n",
       "      <td>Collander, Mr. Erik Gustaf</td>\n",
       "      <td>Mr</td>\n",
       "      <td>male</td>\n",
       "      <td>28.000000</td>\n",
       "      <td>joven-adulto</td>\n",
       "      <td>0</td>\n",
       "      <td>0</td>\n",
       "      <td>248740</td>\n",
       "      <td>13.0000</td>\n",
       "      <td>NaN</td>\n",
       "      <td>S</td>\n",
       "    </tr>\n",
       "    <tr>\n",
       "      <th>514</th>\n",
       "      <td>515</td>\n",
       "      <td>0</td>\n",
       "      <td>muere</td>\n",
       "      <td>3</td>\n",
       "      <td>baja</td>\n",
       "      <td>Coleff, Mr. Satio</td>\n",
       "      <td>Mr</td>\n",
       "      <td>male</td>\n",
       "      <td>24.000000</td>\n",
       "      <td>joven-adulto</td>\n",
       "      <td>0</td>\n",
       "      <td>0</td>\n",
       "      <td>349209</td>\n",
       "      <td>7.4958</td>\n",
       "      <td>NaN</td>\n",
       "      <td>S</td>\n",
       "    </tr>\n",
       "    <tr>\n",
       "      <th>637</th>\n",
       "      <td>638</td>\n",
       "      <td>0</td>\n",
       "      <td>muere</td>\n",
       "      <td>2</td>\n",
       "      <td>media</td>\n",
       "      <td>Collyer, Mr. Harvey</td>\n",
       "      <td>Mr</td>\n",
       "      <td>male</td>\n",
       "      <td>31.000000</td>\n",
       "      <td>joven-adulto</td>\n",
       "      <td>1</td>\n",
       "      <td>1</td>\n",
       "      <td>C.A. 31921</td>\n",
       "      <td>26.2500</td>\n",
       "      <td>NaN</td>\n",
       "      <td>S</td>\n",
       "    </tr>\n",
       "    <tr>\n",
       "      <th>647</th>\n",
       "      <td>648</td>\n",
       "      <td>1</td>\n",
       "      <td>sobrevive</td>\n",
       "      <td>1</td>\n",
       "      <td>alta</td>\n",
       "      <td>Simonius-Blumer, Col. Oberst Alfons</td>\n",
       "      <td>Col</td>\n",
       "      <td>male</td>\n",
       "      <td>56.000000</td>\n",
       "      <td>adultos</td>\n",
       "      <td>0</td>\n",
       "      <td>0</td>\n",
       "      <td>13213</td>\n",
       "      <td>35.5000</td>\n",
       "      <td>A26</td>\n",
       "      <td>C</td>\n",
       "    </tr>\n",
       "    <tr>\n",
       "      <th>662</th>\n",
       "      <td>663</td>\n",
       "      <td>0</td>\n",
       "      <td>muere</td>\n",
       "      <td>1</td>\n",
       "      <td>alta</td>\n",
       "      <td>Colley, Mr. Edward Pomeroy</td>\n",
       "      <td>Mr</td>\n",
       "      <td>male</td>\n",
       "      <td>47.000000</td>\n",
       "      <td>adultos</td>\n",
       "      <td>0</td>\n",
       "      <td>0</td>\n",
       "      <td>5727</td>\n",
       "      <td>25.5875</td>\n",
       "      <td>E58</td>\n",
       "      <td>S</td>\n",
       "    </tr>\n",
       "    <tr>\n",
       "      <th>663</th>\n",
       "      <td>664</td>\n",
       "      <td>0</td>\n",
       "      <td>muere</td>\n",
       "      <td>3</td>\n",
       "      <td>baja</td>\n",
       "      <td>Coleff, Mr. Peju</td>\n",
       "      <td>Mr</td>\n",
       "      <td>male</td>\n",
       "      <td>36.000000</td>\n",
       "      <td>adultos</td>\n",
       "      <td>0</td>\n",
       "      <td>0</td>\n",
       "      <td>349210</td>\n",
       "      <td>7.4958</td>\n",
       "      <td>NaN</td>\n",
       "      <td>S</td>\n",
       "    </tr>\n",
       "    <tr>\n",
       "      <th>694</th>\n",
       "      <td>695</td>\n",
       "      <td>0</td>\n",
       "      <td>muere</td>\n",
       "      <td>1</td>\n",
       "      <td>alta</td>\n",
       "      <td>Weir, Col. John</td>\n",
       "      <td>Col</td>\n",
       "      <td>male</td>\n",
       "      <td>60.000000</td>\n",
       "      <td>ancianos</td>\n",
       "      <td>0</td>\n",
       "      <td>0</td>\n",
       "      <td>113800</td>\n",
       "      <td>26.5500</td>\n",
       "      <td>NaN</td>\n",
       "      <td>S</td>\n",
       "    </tr>\n",
       "    <tr>\n",
       "      <th>699</th>\n",
       "      <td>700</td>\n",
       "      <td>0</td>\n",
       "      <td>muere</td>\n",
       "      <td>3</td>\n",
       "      <td>baja</td>\n",
       "      <td>Humblen, Mr. Adolf Mathias Nicolai Olsen</td>\n",
       "      <td>Mr</td>\n",
       "      <td>male</td>\n",
       "      <td>42.000000</td>\n",
       "      <td>adultos</td>\n",
       "      <td>0</td>\n",
       "      <td>0</td>\n",
       "      <td>348121</td>\n",
       "      <td>7.6500</td>\n",
       "      <td>F G63</td>\n",
       "      <td>S</td>\n",
       "    </tr>\n",
       "    <tr>\n",
       "      <th>801</th>\n",
       "      <td>802</td>\n",
       "      <td>1</td>\n",
       "      <td>sobrevive</td>\n",
       "      <td>2</td>\n",
       "      <td>media</td>\n",
       "      <td>Collyer, Mrs. Harvey (Charlotte Annie Tate)</td>\n",
       "      <td>Mrs</td>\n",
       "      <td>female</td>\n",
       "      <td>31.000000</td>\n",
       "      <td>joven-adulto</td>\n",
       "      <td>1</td>\n",
       "      <td>1</td>\n",
       "      <td>C.A. 31921</td>\n",
       "      <td>26.2500</td>\n",
       "      <td>NaN</td>\n",
       "      <td>S</td>\n",
       "    </tr>\n",
       "  </tbody>\n",
       "</table>\n",
       "</div>"
      ],
      "text/plain": [
       "     passengerid  survived    destino  pclass  clase  \\\n",
       "39            40         1  sobrevive       3   baja   \n",
       "47            48         1  sobrevive       3   baja   \n",
       "125          126         1  sobrevive       3   baja   \n",
       "237          238         1  sobrevive       2  media   \n",
       "242          243         0      muere       2  media   \n",
       "342          343         0      muere       2  media   \n",
       "514          515         0      muere       3   baja   \n",
       "637          638         0      muere       2  media   \n",
       "647          648         1  sobrevive       1   alta   \n",
       "662          663         0      muere       1   alta   \n",
       "663          664         0      muere       3   baja   \n",
       "694          695         0      muere       1   alta   \n",
       "699          700         0      muere       3   baja   \n",
       "801          802         1  sobrevive       2  media   \n",
       "\n",
       "                                            name titulos     sex        age  \\\n",
       "39                   Nicola-Yarred, Miss. Jamila    Miss  female  14.000000   \n",
       "47                     O'Driscoll, Miss. Bridget    Miss  female  29.699118   \n",
       "125                 Nicola-Yarred, Master. Elias  Master    male  12.000000   \n",
       "237             Collyer, Miss. Marjorie \"Lottie\"    Miss  female   8.000000   \n",
       "242              Coleridge, Mr. Reginald Charles      Mr    male  29.000000   \n",
       "342                   Collander, Mr. Erik Gustaf      Mr    male  28.000000   \n",
       "514                            Coleff, Mr. Satio      Mr    male  24.000000   \n",
       "637                          Collyer, Mr. Harvey      Mr    male  31.000000   \n",
       "647          Simonius-Blumer, Col. Oberst Alfons     Col    male  56.000000   \n",
       "662                   Colley, Mr. Edward Pomeroy      Mr    male  47.000000   \n",
       "663                             Coleff, Mr. Peju      Mr    male  36.000000   \n",
       "694                              Weir, Col. John     Col    male  60.000000   \n",
       "699     Humblen, Mr. Adolf Mathias Nicolai Olsen      Mr    male  42.000000   \n",
       "801  Collyer, Mrs. Harvey (Charlotte Annie Tate)     Mrs  female  31.000000   \n",
       "\n",
       "        horquilla  sibsp  parch       ticket     fare  cabin embarked  \n",
       "39          niños      1      0         2651  11.2417    NaN        C  \n",
       "47   joven-adulto      0      0        14311   7.7500    NaN        Q  \n",
       "125         niños      1      0         2651  11.2417    NaN        C  \n",
       "237         niños      0      2   C.A. 31921  26.2500    NaN        S  \n",
       "242  joven-adulto      0      0  W./C. 14263  10.5000    NaN        S  \n",
       "342  joven-adulto      0      0       248740  13.0000    NaN        S  \n",
       "514  joven-adulto      0      0       349209   7.4958    NaN        S  \n",
       "637  joven-adulto      1      1   C.A. 31921  26.2500    NaN        S  \n",
       "647       adultos      0      0        13213  35.5000    A26        C  \n",
       "662       adultos      0      0         5727  25.5875    E58        S  \n",
       "663       adultos      0      0       349210   7.4958    NaN        S  \n",
       "694      ancianos      0      0       113800  26.5500    NaN        S  \n",
       "699       adultos      0      0       348121   7.6500  F G63        S  \n",
       "801  joven-adulto      1      1   C.A. 31921  26.2500    NaN        S  "
      ]
     },
     "execution_count": 83,
     "metadata": {},
     "output_type": "execute_result"
    }
   ],
   "source": [
    "col_titanic = titanic[titanic['name'].str.contains('Col', case=False)]\n",
    "col_titanic"
   ]
  },
  {
   "cell_type": "code",
   "execution_count": 84,
   "metadata": {},
   "outputs": [
    {
     "data": {
      "text/html": [
       "<div>\n",
       "<style scoped>\n",
       "    .dataframe tbody tr th:only-of-type {\n",
       "        vertical-align: middle;\n",
       "    }\n",
       "\n",
       "    .dataframe tbody tr th {\n",
       "        vertical-align: top;\n",
       "    }\n",
       "\n",
       "    .dataframe thead th {\n",
       "        text-align: right;\n",
       "    }\n",
       "</style>\n",
       "<table border=\"1\" class=\"dataframe\">\n",
       "  <thead>\n",
       "    <tr style=\"text-align: right;\">\n",
       "      <th></th>\n",
       "      <th>passengerid</th>\n",
       "      <th>survived</th>\n",
       "      <th>destino</th>\n",
       "      <th>pclass</th>\n",
       "      <th>clase</th>\n",
       "      <th>name</th>\n",
       "      <th>titulos</th>\n",
       "      <th>sex</th>\n",
       "      <th>age</th>\n",
       "      <th>horquilla</th>\n",
       "      <th>sibsp</th>\n",
       "      <th>parch</th>\n",
       "      <th>ticket</th>\n",
       "      <th>fare</th>\n",
       "      <th>cabin</th>\n",
       "      <th>embarked</th>\n",
       "    </tr>\n",
       "  </thead>\n",
       "  <tbody>\n",
       "    <tr>\n",
       "      <th>641</th>\n",
       "      <td>642</td>\n",
       "      <td>1</td>\n",
       "      <td>sobrevive</td>\n",
       "      <td>1</td>\n",
       "      <td>alta</td>\n",
       "      <td>Sagesser, Mlle. Emma</td>\n",
       "      <td>Mlle</td>\n",
       "      <td>female</td>\n",
       "      <td>24.0</td>\n",
       "      <td>joven-adulto</td>\n",
       "      <td>0</td>\n",
       "      <td>0</td>\n",
       "      <td>PC 17477</td>\n",
       "      <td>69.3000</td>\n",
       "      <td>B35</td>\n",
       "      <td>C</td>\n",
       "    </tr>\n",
       "    <tr>\n",
       "      <th>710</th>\n",
       "      <td>711</td>\n",
       "      <td>1</td>\n",
       "      <td>sobrevive</td>\n",
       "      <td>1</td>\n",
       "      <td>alta</td>\n",
       "      <td>Mayne, Mlle. Berthe Antonine (\"Mrs de Villiers\")</td>\n",
       "      <td>Mlle</td>\n",
       "      <td>female</td>\n",
       "      <td>24.0</td>\n",
       "      <td>joven-adulto</td>\n",
       "      <td>0</td>\n",
       "      <td>0</td>\n",
       "      <td>PC 17482</td>\n",
       "      <td>49.5042</td>\n",
       "      <td>C90</td>\n",
       "      <td>C</td>\n",
       "    </tr>\n",
       "  </tbody>\n",
       "</table>\n",
       "</div>"
      ],
      "text/plain": [
       "     passengerid  survived    destino  pclass clase  \\\n",
       "641          642         1  sobrevive       1  alta   \n",
       "710          711         1  sobrevive       1  alta   \n",
       "\n",
       "                                                 name titulos     sex   age  \\\n",
       "641                              Sagesser, Mlle. Emma    Mlle  female  24.0   \n",
       "710  Mayne, Mlle. Berthe Antonine (\"Mrs de Villiers\")    Mlle  female  24.0   \n",
       "\n",
       "        horquilla  sibsp  parch    ticket     fare cabin embarked  \n",
       "641  joven-adulto      0      0  PC 17477  69.3000   B35        C  \n",
       "710  joven-adulto      0      0  PC 17482  49.5042   C90        C  "
      ]
     },
     "execution_count": 84,
     "metadata": {},
     "output_type": "execute_result"
    }
   ],
   "source": [
    "mlle_titanic = titanic[titanic['name'].str.contains('Mlle', case=False)]\n",
    "mlle_titanic"
   ]
  },
  {
   "cell_type": "code",
   "execution_count": 85,
   "metadata": {},
   "outputs": [
    {
     "data": {
      "text/html": [
       "<div>\n",
       "<style scoped>\n",
       "    .dataframe tbody tr th:only-of-type {\n",
       "        vertical-align: middle;\n",
       "    }\n",
       "\n",
       "    .dataframe tbody tr th {\n",
       "        vertical-align: top;\n",
       "    }\n",
       "\n",
       "    .dataframe thead th {\n",
       "        text-align: right;\n",
       "    }\n",
       "</style>\n",
       "<table border=\"1\" class=\"dataframe\">\n",
       "  <thead>\n",
       "    <tr style=\"text-align: right;\">\n",
       "      <th></th>\n",
       "      <th>passengerid</th>\n",
       "      <th>survived</th>\n",
       "      <th>destino</th>\n",
       "      <th>pclass</th>\n",
       "      <th>clase</th>\n",
       "      <th>name</th>\n",
       "      <th>titulos</th>\n",
       "      <th>sex</th>\n",
       "      <th>age</th>\n",
       "      <th>horquilla</th>\n",
       "      <th>sibsp</th>\n",
       "      <th>parch</th>\n",
       "      <th>ticket</th>\n",
       "      <th>fare</th>\n",
       "      <th>cabin</th>\n",
       "      <th>embarked</th>\n",
       "    </tr>\n",
       "  </thead>\n",
       "  <tbody>\n",
       "    <tr>\n",
       "      <th>60</th>\n",
       "      <td>61</td>\n",
       "      <td>0</td>\n",
       "      <td>muere</td>\n",
       "      <td>3</td>\n",
       "      <td>baja</td>\n",
       "      <td>Sirayanian, Mr. Orsen</td>\n",
       "      <td>Mr</td>\n",
       "      <td>male</td>\n",
       "      <td>22.000000</td>\n",
       "      <td>joven-adulto</td>\n",
       "      <td>0</td>\n",
       "      <td>0</td>\n",
       "      <td>2669</td>\n",
       "      <td>7.2292</td>\n",
       "      <td>NaN</td>\n",
       "      <td>C</td>\n",
       "    </tr>\n",
       "    <tr>\n",
       "      <th>599</th>\n",
       "      <td>600</td>\n",
       "      <td>1</td>\n",
       "      <td>sobrevive</td>\n",
       "      <td>1</td>\n",
       "      <td>alta</td>\n",
       "      <td>Duff Gordon, Sir. Cosmo Edmund (\"Mr Morgan\")</td>\n",
       "      <td>Sir</td>\n",
       "      <td>male</td>\n",
       "      <td>49.000000</td>\n",
       "      <td>adultos</td>\n",
       "      <td>1</td>\n",
       "      <td>0</td>\n",
       "      <td>PC 17485</td>\n",
       "      <td>56.9292</td>\n",
       "      <td>A20</td>\n",
       "      <td>C</td>\n",
       "    </tr>\n",
       "    <tr>\n",
       "      <th>837</th>\n",
       "      <td>838</td>\n",
       "      <td>0</td>\n",
       "      <td>muere</td>\n",
       "      <td>3</td>\n",
       "      <td>baja</td>\n",
       "      <td>Sirota, Mr. Maurice</td>\n",
       "      <td>Mr</td>\n",
       "      <td>male</td>\n",
       "      <td>29.699118</td>\n",
       "      <td>joven-adulto</td>\n",
       "      <td>0</td>\n",
       "      <td>0</td>\n",
       "      <td>392092</td>\n",
       "      <td>8.0500</td>\n",
       "      <td>NaN</td>\n",
       "      <td>S</td>\n",
       "    </tr>\n",
       "  </tbody>\n",
       "</table>\n",
       "</div>"
      ],
      "text/plain": [
       "     passengerid  survived    destino  pclass clase  \\\n",
       "60            61         0      muere       3  baja   \n",
       "599          600         1  sobrevive       1  alta   \n",
       "837          838         0      muere       3  baja   \n",
       "\n",
       "                                             name titulos   sex        age  \\\n",
       "60                          Sirayanian, Mr. Orsen      Mr  male  22.000000   \n",
       "599  Duff Gordon, Sir. Cosmo Edmund (\"Mr Morgan\")     Sir  male  49.000000   \n",
       "837                           Sirota, Mr. Maurice      Mr  male  29.699118   \n",
       "\n",
       "        horquilla  sibsp  parch    ticket     fare cabin embarked  \n",
       "60   joven-adulto      0      0      2669   7.2292   NaN        C  \n",
       "599       adultos      1      0  PC 17485  56.9292   A20        C  \n",
       "837  joven-adulto      0      0    392092   8.0500   NaN        S  "
      ]
     },
     "execution_count": 85,
     "metadata": {},
     "output_type": "execute_result"
    }
   ],
   "source": [
    "sir_titanic = titanic[titanic['name'].str.contains('Sir', case=False)]\n",
    "sir_titanic"
   ]
  },
  {
   "cell_type": "code",
   "execution_count": 86,
   "metadata": {},
   "outputs": [
    {
     "data": {
      "text/html": [
       "<div>\n",
       "<style scoped>\n",
       "    .dataframe tbody tr th:only-of-type {\n",
       "        vertical-align: middle;\n",
       "    }\n",
       "\n",
       "    .dataframe tbody tr th {\n",
       "        vertical-align: top;\n",
       "    }\n",
       "\n",
       "    .dataframe thead th {\n",
       "        text-align: right;\n",
       "    }\n",
       "</style>\n",
       "<table border=\"1\" class=\"dataframe\">\n",
       "  <thead>\n",
       "    <tr style=\"text-align: right;\">\n",
       "      <th></th>\n",
       "      <th>passengerid</th>\n",
       "      <th>survived</th>\n",
       "      <th>destino</th>\n",
       "      <th>pclass</th>\n",
       "      <th>clase</th>\n",
       "      <th>name</th>\n",
       "      <th>titulos</th>\n",
       "      <th>sex</th>\n",
       "      <th>age</th>\n",
       "      <th>horquilla</th>\n",
       "      <th>sibsp</th>\n",
       "      <th>parch</th>\n",
       "      <th>ticket</th>\n",
       "      <th>fare</th>\n",
       "      <th>cabin</th>\n",
       "      <th>embarked</th>\n",
       "    </tr>\n",
       "  </thead>\n",
       "  <tbody>\n",
       "    <tr>\n",
       "      <th>180</th>\n",
       "      <td>181</td>\n",
       "      <td>0</td>\n",
       "      <td>muere</td>\n",
       "      <td>3</td>\n",
       "      <td>baja</td>\n",
       "      <td>Sage, Miss. Constance Gladys</td>\n",
       "      <td>Miss</td>\n",
       "      <td>female</td>\n",
       "      <td>29.699118</td>\n",
       "      <td>joven-adulto</td>\n",
       "      <td>8</td>\n",
       "      <td>2</td>\n",
       "      <td>CA. 2343</td>\n",
       "      <td>69.55</td>\n",
       "      <td>NaN</td>\n",
       "      <td>S</td>\n",
       "    </tr>\n",
       "    <tr>\n",
       "      <th>257</th>\n",
       "      <td>258</td>\n",
       "      <td>1</td>\n",
       "      <td>sobrevive</td>\n",
       "      <td>1</td>\n",
       "      <td>alta</td>\n",
       "      <td>Cherry, Miss. Gladys</td>\n",
       "      <td>Miss</td>\n",
       "      <td>female</td>\n",
       "      <td>30.000000</td>\n",
       "      <td>joven-adulto</td>\n",
       "      <td>0</td>\n",
       "      <td>0</td>\n",
       "      <td>110152</td>\n",
       "      <td>86.50</td>\n",
       "      <td>B77</td>\n",
       "      <td>S</td>\n",
       "    </tr>\n",
       "    <tr>\n",
       "      <th>556</th>\n",
       "      <td>557</td>\n",
       "      <td>1</td>\n",
       "      <td>sobrevive</td>\n",
       "      <td>1</td>\n",
       "      <td>alta</td>\n",
       "      <td>Duff Gordon, Lady. (Lucille Christiana Sutherl...</td>\n",
       "      <td>Lady</td>\n",
       "      <td>female</td>\n",
       "      <td>48.000000</td>\n",
       "      <td>adultos</td>\n",
       "      <td>1</td>\n",
       "      <td>0</td>\n",
       "      <td>11755</td>\n",
       "      <td>39.60</td>\n",
       "      <td>A16</td>\n",
       "      <td>C</td>\n",
       "    </tr>\n",
       "  </tbody>\n",
       "</table>\n",
       "</div>"
      ],
      "text/plain": [
       "     passengerid  survived    destino  pclass clase  \\\n",
       "180          181         0      muere       3  baja   \n",
       "257          258         1  sobrevive       1  alta   \n",
       "556          557         1  sobrevive       1  alta   \n",
       "\n",
       "                                                  name titulos     sex  \\\n",
       "180                       Sage, Miss. Constance Gladys    Miss  female   \n",
       "257                               Cherry, Miss. Gladys    Miss  female   \n",
       "556  Duff Gordon, Lady. (Lucille Christiana Sutherl...    Lady  female   \n",
       "\n",
       "           age     horquilla  sibsp  parch    ticket   fare cabin embarked  \n",
       "180  29.699118  joven-adulto      8      2  CA. 2343  69.55   NaN        S  \n",
       "257  30.000000  joven-adulto      0      0    110152  86.50   B77        S  \n",
       "556  48.000000       adultos      1      0     11755  39.60   A16        C  "
      ]
     },
     "execution_count": 86,
     "metadata": {},
     "output_type": "execute_result"
    }
   ],
   "source": [
    "lady_titanic = titanic[titanic['name'].str.contains('Lady', case=False)]\n",
    "lady_titanic"
   ]
  },
  {
   "cell_type": "code",
   "execution_count": 87,
   "metadata": {},
   "outputs": [
    {
     "data": {
      "text/html": [
       "<div>\n",
       "<style scoped>\n",
       "    .dataframe tbody tr th:only-of-type {\n",
       "        vertical-align: middle;\n",
       "    }\n",
       "\n",
       "    .dataframe tbody tr th {\n",
       "        vertical-align: top;\n",
       "    }\n",
       "\n",
       "    .dataframe thead th {\n",
       "        text-align: right;\n",
       "    }\n",
       "</style>\n",
       "<table border=\"1\" class=\"dataframe\">\n",
       "  <thead>\n",
       "    <tr style=\"text-align: right;\">\n",
       "      <th></th>\n",
       "      <th>passengerid</th>\n",
       "      <th>survived</th>\n",
       "      <th>destino</th>\n",
       "      <th>pclass</th>\n",
       "      <th>clase</th>\n",
       "      <th>name</th>\n",
       "      <th>titulos</th>\n",
       "      <th>sex</th>\n",
       "      <th>age</th>\n",
       "      <th>horquilla</th>\n",
       "      <th>sibsp</th>\n",
       "      <th>parch</th>\n",
       "      <th>ticket</th>\n",
       "      <th>fare</th>\n",
       "      <th>cabin</th>\n",
       "      <th>embarked</th>\n",
       "    </tr>\n",
       "  </thead>\n",
       "  <tbody>\n",
       "    <tr>\n",
       "      <th>449</th>\n",
       "      <td>450</td>\n",
       "      <td>1</td>\n",
       "      <td>sobrevive</td>\n",
       "      <td>1</td>\n",
       "      <td>alta</td>\n",
       "      <td>Peuchen, Major. Arthur Godfrey</td>\n",
       "      <td>Major</td>\n",
       "      <td>male</td>\n",
       "      <td>52.0</td>\n",
       "      <td>adultos</td>\n",
       "      <td>0</td>\n",
       "      <td>0</td>\n",
       "      <td>113786</td>\n",
       "      <td>30.50</td>\n",
       "      <td>C104</td>\n",
       "      <td>S</td>\n",
       "    </tr>\n",
       "    <tr>\n",
       "      <th>536</th>\n",
       "      <td>537</td>\n",
       "      <td>0</td>\n",
       "      <td>muere</td>\n",
       "      <td>1</td>\n",
       "      <td>alta</td>\n",
       "      <td>Butt, Major. Archibald Willingham</td>\n",
       "      <td>Major</td>\n",
       "      <td>male</td>\n",
       "      <td>45.0</td>\n",
       "      <td>adultos</td>\n",
       "      <td>0</td>\n",
       "      <td>0</td>\n",
       "      <td>113050</td>\n",
       "      <td>26.55</td>\n",
       "      <td>B38</td>\n",
       "      <td>S</td>\n",
       "    </tr>\n",
       "  </tbody>\n",
       "</table>\n",
       "</div>"
      ],
      "text/plain": [
       "     passengerid  survived    destino  pclass clase  \\\n",
       "449          450         1  sobrevive       1  alta   \n",
       "536          537         0      muere       1  alta   \n",
       "\n",
       "                                  name titulos   sex   age horquilla  sibsp  \\\n",
       "449     Peuchen, Major. Arthur Godfrey   Major  male  52.0   adultos      0   \n",
       "536  Butt, Major. Archibald Willingham   Major  male  45.0   adultos      0   \n",
       "\n",
       "     parch  ticket   fare cabin embarked  \n",
       "449      0  113786  30.50  C104        S  \n",
       "536      0  113050  26.55   B38        S  "
      ]
     },
     "execution_count": 87,
     "metadata": {},
     "output_type": "execute_result"
    }
   ],
   "source": [
    "major_titanic = titanic[titanic['name'].str.contains('Major', case=False)]\n",
    "major_titanic"
   ]
  },
  {
   "cell_type": "code",
   "execution_count": 88,
   "metadata": {},
   "outputs": [
    {
     "data": {
      "text/html": [
       "<div>\n",
       "<style scoped>\n",
       "    .dataframe tbody tr th:only-of-type {\n",
       "        vertical-align: middle;\n",
       "    }\n",
       "\n",
       "    .dataframe tbody tr th {\n",
       "        vertical-align: top;\n",
       "    }\n",
       "\n",
       "    .dataframe thead th {\n",
       "        text-align: right;\n",
       "    }\n",
       "</style>\n",
       "<table border=\"1\" class=\"dataframe\">\n",
       "  <thead>\n",
       "    <tr style=\"text-align: right;\">\n",
       "      <th></th>\n",
       "      <th>passengerid</th>\n",
       "      <th>survived</th>\n",
       "      <th>destino</th>\n",
       "      <th>pclass</th>\n",
       "      <th>clase</th>\n",
       "      <th>name</th>\n",
       "      <th>titulos</th>\n",
       "      <th>sex</th>\n",
       "      <th>age</th>\n",
       "      <th>horquilla</th>\n",
       "      <th>sibsp</th>\n",
       "      <th>parch</th>\n",
       "      <th>ticket</th>\n",
       "      <th>fare</th>\n",
       "      <th>cabin</th>\n",
       "      <th>embarked</th>\n",
       "    </tr>\n",
       "  </thead>\n",
       "  <tbody>\n",
       "    <tr>\n",
       "      <th>17</th>\n",
       "      <td>18</td>\n",
       "      <td>1</td>\n",
       "      <td>sobrevive</td>\n",
       "      <td>2</td>\n",
       "      <td>media</td>\n",
       "      <td>Williams, Mr. Charles Eugene</td>\n",
       "      <td>Mr</td>\n",
       "      <td>male</td>\n",
       "      <td>29.699118</td>\n",
       "      <td>joven-adulto</td>\n",
       "      <td>0</td>\n",
       "      <td>0</td>\n",
       "      <td>244373</td>\n",
       "      <td>13.0000</td>\n",
       "      <td>NaN</td>\n",
       "      <td>S</td>\n",
       "    </tr>\n",
       "    <tr>\n",
       "      <th>155</th>\n",
       "      <td>156</td>\n",
       "      <td>0</td>\n",
       "      <td>muere</td>\n",
       "      <td>1</td>\n",
       "      <td>alta</td>\n",
       "      <td>Williams, Mr. Charles Duane</td>\n",
       "      <td>Mr</td>\n",
       "      <td>male</td>\n",
       "      <td>51.000000</td>\n",
       "      <td>adultos</td>\n",
       "      <td>0</td>\n",
       "      <td>1</td>\n",
       "      <td>PC 17597</td>\n",
       "      <td>61.3792</td>\n",
       "      <td>NaN</td>\n",
       "      <td>C</td>\n",
       "    </tr>\n",
       "    <tr>\n",
       "      <th>304</th>\n",
       "      <td>305</td>\n",
       "      <td>0</td>\n",
       "      <td>muere</td>\n",
       "      <td>3</td>\n",
       "      <td>baja</td>\n",
       "      <td>Williams, Mr. Howard Hugh \"Harry\"</td>\n",
       "      <td>Mr</td>\n",
       "      <td>male</td>\n",
       "      <td>29.699118</td>\n",
       "      <td>joven-adulto</td>\n",
       "      <td>0</td>\n",
       "      <td>0</td>\n",
       "      <td>A/5 2466</td>\n",
       "      <td>8.0500</td>\n",
       "      <td>NaN</td>\n",
       "      <td>S</td>\n",
       "    </tr>\n",
       "    <tr>\n",
       "      <th>351</th>\n",
       "      <td>352</td>\n",
       "      <td>0</td>\n",
       "      <td>muere</td>\n",
       "      <td>1</td>\n",
       "      <td>alta</td>\n",
       "      <td>Williams-Lambert, Mr. Fletcher Fellows</td>\n",
       "      <td>Mr</td>\n",
       "      <td>male</td>\n",
       "      <td>29.699118</td>\n",
       "      <td>joven-adulto</td>\n",
       "      <td>0</td>\n",
       "      <td>0</td>\n",
       "      <td>113510</td>\n",
       "      <td>35.0000</td>\n",
       "      <td>C128</td>\n",
       "      <td>S</td>\n",
       "    </tr>\n",
       "    <tr>\n",
       "      <th>401</th>\n",
       "      <td>402</td>\n",
       "      <td>0</td>\n",
       "      <td>muere</td>\n",
       "      <td>3</td>\n",
       "      <td>baja</td>\n",
       "      <td>Adams, Mr. John</td>\n",
       "      <td>Mr</td>\n",
       "      <td>male</td>\n",
       "      <td>26.000000</td>\n",
       "      <td>joven-adulto</td>\n",
       "      <td>0</td>\n",
       "      <td>0</td>\n",
       "      <td>341826</td>\n",
       "      <td>8.0500</td>\n",
       "      <td>NaN</td>\n",
       "      <td>S</td>\n",
       "    </tr>\n",
       "    <tr>\n",
       "      <th>443</th>\n",
       "      <td>444</td>\n",
       "      <td>1</td>\n",
       "      <td>sobrevive</td>\n",
       "      <td>2</td>\n",
       "      <td>media</td>\n",
       "      <td>Reynaldo, Ms. Encarnacion</td>\n",
       "      <td>Ms</td>\n",
       "      <td>female</td>\n",
       "      <td>28.000000</td>\n",
       "      <td>joven-adulto</td>\n",
       "      <td>0</td>\n",
       "      <td>0</td>\n",
       "      <td>230434</td>\n",
       "      <td>13.0000</td>\n",
       "      <td>NaN</td>\n",
       "      <td>S</td>\n",
       "    </tr>\n",
       "    <tr>\n",
       "      <th>571</th>\n",
       "      <td>572</td>\n",
       "      <td>1</td>\n",
       "      <td>sobrevive</td>\n",
       "      <td>1</td>\n",
       "      <td>alta</td>\n",
       "      <td>Appleton, Mrs. Edward Dale (Charlotte Lamson)</td>\n",
       "      <td>Mrs</td>\n",
       "      <td>female</td>\n",
       "      <td>53.000000</td>\n",
       "      <td>adultos</td>\n",
       "      <td>2</td>\n",
       "      <td>0</td>\n",
       "      <td>11769</td>\n",
       "      <td>51.4792</td>\n",
       "      <td>C101</td>\n",
       "      <td>S</td>\n",
       "    </tr>\n",
       "    <tr>\n",
       "      <th>607</th>\n",
       "      <td>608</td>\n",
       "      <td>1</td>\n",
       "      <td>sobrevive</td>\n",
       "      <td>1</td>\n",
       "      <td>alta</td>\n",
       "      <td>Daniel, Mr. Robert Williams</td>\n",
       "      <td>Mr</td>\n",
       "      <td>male</td>\n",
       "      <td>27.000000</td>\n",
       "      <td>joven-adulto</td>\n",
       "      <td>0</td>\n",
       "      <td>0</td>\n",
       "      <td>113804</td>\n",
       "      <td>30.5000</td>\n",
       "      <td>NaN</td>\n",
       "      <td>S</td>\n",
       "    </tr>\n",
       "    <tr>\n",
       "      <th>623</th>\n",
       "      <td>624</td>\n",
       "      <td>0</td>\n",
       "      <td>muere</td>\n",
       "      <td>3</td>\n",
       "      <td>baja</td>\n",
       "      <td>Hansen, Mr. Henry Damsgaard</td>\n",
       "      <td>Mr</td>\n",
       "      <td>male</td>\n",
       "      <td>21.000000</td>\n",
       "      <td>joven-adulto</td>\n",
       "      <td>0</td>\n",
       "      <td>0</td>\n",
       "      <td>350029</td>\n",
       "      <td>7.8542</td>\n",
       "      <td>NaN</td>\n",
       "      <td>S</td>\n",
       "    </tr>\n",
       "    <tr>\n",
       "      <th>673</th>\n",
       "      <td>674</td>\n",
       "      <td>1</td>\n",
       "      <td>sobrevive</td>\n",
       "      <td>2</td>\n",
       "      <td>media</td>\n",
       "      <td>Wilhelms, Mr. Charles</td>\n",
       "      <td>Mr</td>\n",
       "      <td>male</td>\n",
       "      <td>31.000000</td>\n",
       "      <td>joven-adulto</td>\n",
       "      <td>0</td>\n",
       "      <td>0</td>\n",
       "      <td>244270</td>\n",
       "      <td>13.0000</td>\n",
       "      <td>NaN</td>\n",
       "      <td>S</td>\n",
       "    </tr>\n",
       "    <tr>\n",
       "      <th>735</th>\n",
       "      <td>736</td>\n",
       "      <td>0</td>\n",
       "      <td>muere</td>\n",
       "      <td>3</td>\n",
       "      <td>baja</td>\n",
       "      <td>Williams, Mr. Leslie</td>\n",
       "      <td>Mr</td>\n",
       "      <td>male</td>\n",
       "      <td>28.500000</td>\n",
       "      <td>joven-adulto</td>\n",
       "      <td>0</td>\n",
       "      <td>0</td>\n",
       "      <td>54636</td>\n",
       "      <td>16.1000</td>\n",
       "      <td>NaN</td>\n",
       "      <td>S</td>\n",
       "    </tr>\n",
       "  </tbody>\n",
       "</table>\n",
       "</div>"
      ],
      "text/plain": [
       "     passengerid  survived    destino  pclass  clase  \\\n",
       "17            18         1  sobrevive       2  media   \n",
       "155          156         0      muere       1   alta   \n",
       "304          305         0      muere       3   baja   \n",
       "351          352         0      muere       1   alta   \n",
       "401          402         0      muere       3   baja   \n",
       "443          444         1  sobrevive       2  media   \n",
       "571          572         1  sobrevive       1   alta   \n",
       "607          608         1  sobrevive       1   alta   \n",
       "623          624         0      muere       3   baja   \n",
       "673          674         1  sobrevive       2  media   \n",
       "735          736         0      muere       3   baja   \n",
       "\n",
       "                                              name titulos     sex        age  \\\n",
       "17                    Williams, Mr. Charles Eugene      Mr    male  29.699118   \n",
       "155                    Williams, Mr. Charles Duane      Mr    male  51.000000   \n",
       "304              Williams, Mr. Howard Hugh \"Harry\"      Mr    male  29.699118   \n",
       "351         Williams-Lambert, Mr. Fletcher Fellows      Mr    male  29.699118   \n",
       "401                                Adams, Mr. John      Mr    male  26.000000   \n",
       "443                      Reynaldo, Ms. Encarnacion      Ms  female  28.000000   \n",
       "571  Appleton, Mrs. Edward Dale (Charlotte Lamson)     Mrs  female  53.000000   \n",
       "607                    Daniel, Mr. Robert Williams      Mr    male  27.000000   \n",
       "623                    Hansen, Mr. Henry Damsgaard      Mr    male  21.000000   \n",
       "673                          Wilhelms, Mr. Charles      Mr    male  31.000000   \n",
       "735                           Williams, Mr. Leslie      Mr    male  28.500000   \n",
       "\n",
       "        horquilla  sibsp  parch    ticket     fare cabin embarked  \n",
       "17   joven-adulto      0      0    244373  13.0000   NaN        S  \n",
       "155       adultos      0      1  PC 17597  61.3792   NaN        C  \n",
       "304  joven-adulto      0      0  A/5 2466   8.0500   NaN        S  \n",
       "351  joven-adulto      0      0    113510  35.0000  C128        S  \n",
       "401  joven-adulto      0      0    341826   8.0500   NaN        S  \n",
       "443  joven-adulto      0      0    230434  13.0000   NaN        S  \n",
       "571       adultos      2      0     11769  51.4792  C101        S  \n",
       "607  joven-adulto      0      0    113804  30.5000   NaN        S  \n",
       "623  joven-adulto      0      0    350029   7.8542   NaN        S  \n",
       "673  joven-adulto      0      0    244270  13.0000   NaN        S  \n",
       "735  joven-adulto      0      0     54636  16.1000   NaN        S  "
      ]
     },
     "execution_count": 88,
     "metadata": {},
     "output_type": "execute_result"
    }
   ],
   "source": [
    "ms_titanic = titanic[titanic['name'].str.contains('Ms', case=False)]\n",
    "ms_titanic"
   ]
  },
  {
   "cell_type": "code",
   "execution_count": 89,
   "metadata": {},
   "outputs": [
    {
     "data": {
      "text/html": [
       "<div>\n",
       "<style scoped>\n",
       "    .dataframe tbody tr th:only-of-type {\n",
       "        vertical-align: middle;\n",
       "    }\n",
       "\n",
       "    .dataframe tbody tr th {\n",
       "        vertical-align: top;\n",
       "    }\n",
       "\n",
       "    .dataframe thead th {\n",
       "        text-align: right;\n",
       "    }\n",
       "</style>\n",
       "<table border=\"1\" class=\"dataframe\">\n",
       "  <thead>\n",
       "    <tr style=\"text-align: right;\">\n",
       "      <th></th>\n",
       "      <th>passengerid</th>\n",
       "      <th>survived</th>\n",
       "      <th>destino</th>\n",
       "      <th>pclass</th>\n",
       "      <th>clase</th>\n",
       "      <th>name</th>\n",
       "      <th>titulos</th>\n",
       "      <th>sex</th>\n",
       "      <th>age</th>\n",
       "      <th>horquilla</th>\n",
       "      <th>sibsp</th>\n",
       "      <th>parch</th>\n",
       "      <th>ticket</th>\n",
       "      <th>fare</th>\n",
       "      <th>cabin</th>\n",
       "      <th>embarked</th>\n",
       "    </tr>\n",
       "  </thead>\n",
       "  <tbody>\n",
       "    <tr>\n",
       "      <th>357</th>\n",
       "      <td>358</td>\n",
       "      <td>0</td>\n",
       "      <td>muere</td>\n",
       "      <td>2</td>\n",
       "      <td>media</td>\n",
       "      <td>Funk, Miss. Annie Clemmer</td>\n",
       "      <td>Miss</td>\n",
       "      <td>female</td>\n",
       "      <td>38.000000</td>\n",
       "      <td>adultos</td>\n",
       "      <td>0</td>\n",
       "      <td>0</td>\n",
       "      <td>237671</td>\n",
       "      <td>13.0000</td>\n",
       "      <td>NaN</td>\n",
       "      <td>S</td>\n",
       "    </tr>\n",
       "    <tr>\n",
       "      <th>369</th>\n",
       "      <td>370</td>\n",
       "      <td>1</td>\n",
       "      <td>sobrevive</td>\n",
       "      <td>1</td>\n",
       "      <td>alta</td>\n",
       "      <td>Aubart, Mme. Leontine Pauline</td>\n",
       "      <td>Mme</td>\n",
       "      <td>female</td>\n",
       "      <td>24.000000</td>\n",
       "      <td>joven-adulto</td>\n",
       "      <td>0</td>\n",
       "      <td>0</td>\n",
       "      <td>PC 17477</td>\n",
       "      <td>69.3000</td>\n",
       "      <td>B35</td>\n",
       "      <td>C</td>\n",
       "    </tr>\n",
       "    <tr>\n",
       "      <th>422</th>\n",
       "      <td>423</td>\n",
       "      <td>0</td>\n",
       "      <td>muere</td>\n",
       "      <td>3</td>\n",
       "      <td>baja</td>\n",
       "      <td>Zimmerman, Mr. Leo</td>\n",
       "      <td>Mr</td>\n",
       "      <td>male</td>\n",
       "      <td>29.000000</td>\n",
       "      <td>joven-adulto</td>\n",
       "      <td>0</td>\n",
       "      <td>0</td>\n",
       "      <td>315082</td>\n",
       "      <td>7.8750</td>\n",
       "      <td>NaN</td>\n",
       "      <td>S</td>\n",
       "    </tr>\n",
       "    <tr>\n",
       "      <th>444</th>\n",
       "      <td>445</td>\n",
       "      <td>1</td>\n",
       "      <td>sobrevive</td>\n",
       "      <td>3</td>\n",
       "      <td>baja</td>\n",
       "      <td>Johannesen-Bratthammer, Mr. Bernt</td>\n",
       "      <td>Mr</td>\n",
       "      <td>male</td>\n",
       "      <td>29.699118</td>\n",
       "      <td>joven-adulto</td>\n",
       "      <td>0</td>\n",
       "      <td>0</td>\n",
       "      <td>65306</td>\n",
       "      <td>8.1125</td>\n",
       "      <td>NaN</td>\n",
       "      <td>S</td>\n",
       "    </tr>\n",
       "    <tr>\n",
       "      <th>667</th>\n",
       "      <td>668</td>\n",
       "      <td>0</td>\n",
       "      <td>muere</td>\n",
       "      <td>3</td>\n",
       "      <td>baja</td>\n",
       "      <td>Rommetvedt, Mr. Knud Paust</td>\n",
       "      <td>Mr</td>\n",
       "      <td>male</td>\n",
       "      <td>29.699118</td>\n",
       "      <td>joven-adulto</td>\n",
       "      <td>0</td>\n",
       "      <td>0</td>\n",
       "      <td>312993</td>\n",
       "      <td>7.7750</td>\n",
       "      <td>NaN</td>\n",
       "      <td>S</td>\n",
       "    </tr>\n",
       "  </tbody>\n",
       "</table>\n",
       "</div>"
      ],
      "text/plain": [
       "     passengerid  survived    destino  pclass  clase  \\\n",
       "357          358         0      muere       2  media   \n",
       "369          370         1  sobrevive       1   alta   \n",
       "422          423         0      muere       3   baja   \n",
       "444          445         1  sobrevive       3   baja   \n",
       "667          668         0      muere       3   baja   \n",
       "\n",
       "                                  name titulos     sex        age  \\\n",
       "357          Funk, Miss. Annie Clemmer    Miss  female  38.000000   \n",
       "369      Aubart, Mme. Leontine Pauline     Mme  female  24.000000   \n",
       "422                 Zimmerman, Mr. Leo      Mr    male  29.000000   \n",
       "444  Johannesen-Bratthammer, Mr. Bernt      Mr    male  29.699118   \n",
       "667         Rommetvedt, Mr. Knud Paust      Mr    male  29.699118   \n",
       "\n",
       "        horquilla  sibsp  parch    ticket     fare cabin embarked  \n",
       "357       adultos      0      0    237671  13.0000   NaN        S  \n",
       "369  joven-adulto      0      0  PC 17477  69.3000   B35        C  \n",
       "422  joven-adulto      0      0    315082   7.8750   NaN        S  \n",
       "444  joven-adulto      0      0     65306   8.1125   NaN        S  \n",
       "667  joven-adulto      0      0    312993   7.7750   NaN        S  "
      ]
     },
     "execution_count": 89,
     "metadata": {},
     "output_type": "execute_result"
    }
   ],
   "source": [
    "mme_titanic = titanic[titanic['name'].str.contains('Mme', case=False)]\n",
    "mme_titanic"
   ]
  },
  {
   "cell_type": "code",
   "execution_count": 90,
   "metadata": {},
   "outputs": [
    {
     "data": {
      "text/html": [
       "<div>\n",
       "<style scoped>\n",
       "    .dataframe tbody tr th:only-of-type {\n",
       "        vertical-align: middle;\n",
       "    }\n",
       "\n",
       "    .dataframe tbody tr th {\n",
       "        vertical-align: top;\n",
       "    }\n",
       "\n",
       "    .dataframe thead th {\n",
       "        text-align: right;\n",
       "    }\n",
       "</style>\n",
       "<table border=\"1\" class=\"dataframe\">\n",
       "  <thead>\n",
       "    <tr style=\"text-align: right;\">\n",
       "      <th></th>\n",
       "      <th>passengerid</th>\n",
       "      <th>survived</th>\n",
       "      <th>destino</th>\n",
       "      <th>pclass</th>\n",
       "      <th>clase</th>\n",
       "      <th>name</th>\n",
       "      <th>titulos</th>\n",
       "      <th>sex</th>\n",
       "      <th>age</th>\n",
       "      <th>horquilla</th>\n",
       "      <th>sibsp</th>\n",
       "      <th>parch</th>\n",
       "      <th>ticket</th>\n",
       "      <th>fare</th>\n",
       "      <th>cabin</th>\n",
       "      <th>embarked</th>\n",
       "    </tr>\n",
       "  </thead>\n",
       "  <tbody>\n",
       "    <tr>\n",
       "      <th>43</th>\n",
       "      <td>44</td>\n",
       "      <td>1</td>\n",
       "      <td>sobrevive</td>\n",
       "      <td>2</td>\n",
       "      <td>media</td>\n",
       "      <td>Laroche, Miss. Simonne Marie Anne Andree</td>\n",
       "      <td>Miss</td>\n",
       "      <td>female</td>\n",
       "      <td>3.000000</td>\n",
       "      <td>niños</td>\n",
       "      <td>1</td>\n",
       "      <td>2</td>\n",
       "      <td>SC/Paris 2123</td>\n",
       "      <td>41.5792</td>\n",
       "      <td>NaN</td>\n",
       "      <td>C</td>\n",
       "    </tr>\n",
       "    <tr>\n",
       "      <th>47</th>\n",
       "      <td>48</td>\n",
       "      <td>1</td>\n",
       "      <td>sobrevive</td>\n",
       "      <td>3</td>\n",
       "      <td>baja</td>\n",
       "      <td>O'Driscoll, Miss. Bridget</td>\n",
       "      <td>Miss</td>\n",
       "      <td>female</td>\n",
       "      <td>29.699118</td>\n",
       "      <td>joven-adulto</td>\n",
       "      <td>0</td>\n",
       "      <td>0</td>\n",
       "      <td>14311</td>\n",
       "      <td>7.7500</td>\n",
       "      <td>NaN</td>\n",
       "      <td>Q</td>\n",
       "    </tr>\n",
       "    <tr>\n",
       "      <th>68</th>\n",
       "      <td>69</td>\n",
       "      <td>1</td>\n",
       "      <td>sobrevive</td>\n",
       "      <td>3</td>\n",
       "      <td>baja</td>\n",
       "      <td>Andersson, Miss. Erna Alexandra</td>\n",
       "      <td>Miss</td>\n",
       "      <td>female</td>\n",
       "      <td>17.000000</td>\n",
       "      <td>niños</td>\n",
       "      <td>4</td>\n",
       "      <td>2</td>\n",
       "      <td>3101281</td>\n",
       "      <td>7.9250</td>\n",
       "      <td>NaN</td>\n",
       "      <td>S</td>\n",
       "    </tr>\n",
       "  </tbody>\n",
       "</table>\n",
       "</div>"
      ],
      "text/plain": [
       "    passengerid  survived    destino  pclass  clase  \\\n",
       "43           44         1  sobrevive       2  media   \n",
       "47           48         1  sobrevive       3   baja   \n",
       "68           69         1  sobrevive       3   baja   \n",
       "\n",
       "                                        name titulos     sex        age  \\\n",
       "43  Laroche, Miss. Simonne Marie Anne Andree    Miss  female   3.000000   \n",
       "47                 O'Driscoll, Miss. Bridget    Miss  female  29.699118   \n",
       "68           Andersson, Miss. Erna Alexandra    Miss  female  17.000000   \n",
       "\n",
       "       horquilla  sibsp  parch         ticket     fare cabin embarked  \n",
       "43         niños      1      2  SC/Paris 2123  41.5792   NaN        C  \n",
       "47  joven-adulto      0      0          14311   7.7500   NaN        Q  \n",
       "68         niños      4      2        3101281   7.9250   NaN        S  "
      ]
     },
     "execution_count": 90,
     "metadata": {},
     "output_type": "execute_result"
    }
   ],
   "source": [
    "dr_titanic = titanic[titanic['name'].str.contains('Dr', case=False)]\n",
    "dr_titanic.head(3)"
   ]
  },
  {
   "cell_type": "code",
   "execution_count": 91,
   "metadata": {},
   "outputs": [
    {
     "data": {
      "text/html": [
       "<div>\n",
       "<style scoped>\n",
       "    .dataframe tbody tr th:only-of-type {\n",
       "        vertical-align: middle;\n",
       "    }\n",
       "\n",
       "    .dataframe tbody tr th {\n",
       "        vertical-align: top;\n",
       "    }\n",
       "\n",
       "    .dataframe thead th {\n",
       "        text-align: right;\n",
       "    }\n",
       "</style>\n",
       "<table border=\"1\" class=\"dataframe\">\n",
       "  <thead>\n",
       "    <tr style=\"text-align: right;\">\n",
       "      <th></th>\n",
       "      <th>passengerid</th>\n",
       "      <th>survived</th>\n",
       "      <th>destino</th>\n",
       "      <th>pclass</th>\n",
       "      <th>clase</th>\n",
       "      <th>name</th>\n",
       "      <th>titulos</th>\n",
       "      <th>sex</th>\n",
       "      <th>age</th>\n",
       "      <th>horquilla</th>\n",
       "      <th>sibsp</th>\n",
       "      <th>parch</th>\n",
       "      <th>ticket</th>\n",
       "      <th>fare</th>\n",
       "      <th>cabin</th>\n",
       "      <th>embarked</th>\n",
       "    </tr>\n",
       "  </thead>\n",
       "  <tbody>\n",
       "    <tr>\n",
       "      <th>30</th>\n",
       "      <td>31</td>\n",
       "      <td>0</td>\n",
       "      <td>muere</td>\n",
       "      <td>1</td>\n",
       "      <td>alta</td>\n",
       "      <td>Uruchurtu, Don. Manuel E</td>\n",
       "      <td>Don</td>\n",
       "      <td>male</td>\n",
       "      <td>40.0</td>\n",
       "      <td>adultos</td>\n",
       "      <td>0</td>\n",
       "      <td>0</td>\n",
       "      <td>PC 17601</td>\n",
       "      <td>27.7208</td>\n",
       "      <td>NaN</td>\n",
       "      <td>C</td>\n",
       "    </tr>\n",
       "    <tr>\n",
       "      <th>33</th>\n",
       "      <td>34</td>\n",
       "      <td>0</td>\n",
       "      <td>muere</td>\n",
       "      <td>2</td>\n",
       "      <td>media</td>\n",
       "      <td>Wheadon, Mr. Edward H</td>\n",
       "      <td>Mr</td>\n",
       "      <td>male</td>\n",
       "      <td>66.0</td>\n",
       "      <td>ancianos</td>\n",
       "      <td>0</td>\n",
       "      <td>0</td>\n",
       "      <td>C.A. 24579</td>\n",
       "      <td>10.5000</td>\n",
       "      <td>NaN</td>\n",
       "      <td>S</td>\n",
       "    </tr>\n",
       "    <tr>\n",
       "      <th>544</th>\n",
       "      <td>545</td>\n",
       "      <td>0</td>\n",
       "      <td>muere</td>\n",
       "      <td>1</td>\n",
       "      <td>alta</td>\n",
       "      <td>Douglas, Mr. Walter Donald</td>\n",
       "      <td>Mr</td>\n",
       "      <td>male</td>\n",
       "      <td>50.0</td>\n",
       "      <td>adultos</td>\n",
       "      <td>1</td>\n",
       "      <td>0</td>\n",
       "      <td>PC 17761</td>\n",
       "      <td>106.4250</td>\n",
       "      <td>C86</td>\n",
       "      <td>C</td>\n",
       "    </tr>\n",
       "    <tr>\n",
       "      <th>556</th>\n",
       "      <td>557</td>\n",
       "      <td>1</td>\n",
       "      <td>sobrevive</td>\n",
       "      <td>1</td>\n",
       "      <td>alta</td>\n",
       "      <td>Duff Gordon, Lady. (Lucille Christiana Sutherl...</td>\n",
       "      <td>Lady</td>\n",
       "      <td>female</td>\n",
       "      <td>48.0</td>\n",
       "      <td>adultos</td>\n",
       "      <td>1</td>\n",
       "      <td>0</td>\n",
       "      <td>11755</td>\n",
       "      <td>39.6000</td>\n",
       "      <td>A16</td>\n",
       "      <td>C</td>\n",
       "    </tr>\n",
       "    <tr>\n",
       "      <th>599</th>\n",
       "      <td>600</td>\n",
       "      <td>1</td>\n",
       "      <td>sobrevive</td>\n",
       "      <td>1</td>\n",
       "      <td>alta</td>\n",
       "      <td>Duff Gordon, Sir. Cosmo Edmund (\"Mr Morgan\")</td>\n",
       "      <td>Sir</td>\n",
       "      <td>male</td>\n",
       "      <td>49.0</td>\n",
       "      <td>adultos</td>\n",
       "      <td>1</td>\n",
       "      <td>0</td>\n",
       "      <td>PC 17485</td>\n",
       "      <td>56.9292</td>\n",
       "      <td>A20</td>\n",
       "      <td>C</td>\n",
       "    </tr>\n",
       "  </tbody>\n",
       "</table>\n",
       "</div>"
      ],
      "text/plain": [
       "     passengerid  survived    destino  pclass  clase  \\\n",
       "30            31         0      muere       1   alta   \n",
       "33            34         0      muere       2  media   \n",
       "544          545         0      muere       1   alta   \n",
       "556          557         1  sobrevive       1   alta   \n",
       "599          600         1  sobrevive       1   alta   \n",
       "\n",
       "                                                  name titulos     sex   age  \\\n",
       "30                            Uruchurtu, Don. Manuel E     Don    male  40.0   \n",
       "33                               Wheadon, Mr. Edward H      Mr    male  66.0   \n",
       "544                         Douglas, Mr. Walter Donald      Mr    male  50.0   \n",
       "556  Duff Gordon, Lady. (Lucille Christiana Sutherl...    Lady  female  48.0   \n",
       "599       Duff Gordon, Sir. Cosmo Edmund (\"Mr Morgan\")     Sir    male  49.0   \n",
       "\n",
       "    horquilla  sibsp  parch      ticket      fare cabin embarked  \n",
       "30    adultos      0      0    PC 17601   27.7208   NaN        C  \n",
       "33   ancianos      0      0  C.A. 24579   10.5000   NaN        S  \n",
       "544   adultos      1      0    PC 17761  106.4250   C86        C  \n",
       "556   adultos      1      0       11755   39.6000   A16        C  \n",
       "599   adultos      1      0    PC 17485   56.9292   A20        C  "
      ]
     },
     "execution_count": 91,
     "metadata": {},
     "output_type": "execute_result"
    }
   ],
   "source": [
    "don_titanic = titanic[titanic['name'].str.contains('Don', case=False)]\n",
    "don_titanic"
   ]
  },
  {
   "cell_type": "code",
   "execution_count": 92,
   "metadata": {},
   "outputs": [
    {
     "data": {
      "text/html": [
       "<div>\n",
       "<style scoped>\n",
       "    .dataframe tbody tr th:only-of-type {\n",
       "        vertical-align: middle;\n",
       "    }\n",
       "\n",
       "    .dataframe tbody tr th {\n",
       "        vertical-align: top;\n",
       "    }\n",
       "\n",
       "    .dataframe thead th {\n",
       "        text-align: right;\n",
       "    }\n",
       "</style>\n",
       "<table border=\"1\" class=\"dataframe\">\n",
       "  <thead>\n",
       "    <tr style=\"text-align: right;\">\n",
       "      <th></th>\n",
       "      <th>passengerid</th>\n",
       "      <th>survived</th>\n",
       "      <th>destino</th>\n",
       "      <th>pclass</th>\n",
       "      <th>clase</th>\n",
       "      <th>name</th>\n",
       "      <th>titulos</th>\n",
       "      <th>sex</th>\n",
       "      <th>age</th>\n",
       "      <th>horquilla</th>\n",
       "      <th>sibsp</th>\n",
       "      <th>parch</th>\n",
       "      <th>ticket</th>\n",
       "      <th>fare</th>\n",
       "      <th>cabin</th>\n",
       "      <th>embarked</th>\n",
       "    </tr>\n",
       "  </thead>\n",
       "  <tbody>\n",
       "    <tr>\n",
       "      <th>0</th>\n",
       "      <td>1</td>\n",
       "      <td>0</td>\n",
       "      <td>muere</td>\n",
       "      <td>3</td>\n",
       "      <td>baja</td>\n",
       "      <td>Braund, Mr. Owen Harris</td>\n",
       "      <td>Mr</td>\n",
       "      <td>male</td>\n",
       "      <td>22.000000</td>\n",
       "      <td>joven-adulto</td>\n",
       "      <td>1</td>\n",
       "      <td>0</td>\n",
       "      <td>A/5 21171</td>\n",
       "      <td>7.2500</td>\n",
       "      <td>NaN</td>\n",
       "      <td>S</td>\n",
       "    </tr>\n",
       "    <tr>\n",
       "      <th>4</th>\n",
       "      <td>5</td>\n",
       "      <td>0</td>\n",
       "      <td>muere</td>\n",
       "      <td>3</td>\n",
       "      <td>baja</td>\n",
       "      <td>Allen, Mr. William Henry</td>\n",
       "      <td>Mr</td>\n",
       "      <td>male</td>\n",
       "      <td>35.000000</td>\n",
       "      <td>adultos</td>\n",
       "      <td>0</td>\n",
       "      <td>0</td>\n",
       "      <td>373450</td>\n",
       "      <td>8.0500</td>\n",
       "      <td>NaN</td>\n",
       "      <td>S</td>\n",
       "    </tr>\n",
       "    <tr>\n",
       "      <th>5</th>\n",
       "      <td>6</td>\n",
       "      <td>0</td>\n",
       "      <td>muere</td>\n",
       "      <td>3</td>\n",
       "      <td>baja</td>\n",
       "      <td>Moran, Mr. James</td>\n",
       "      <td>Mr</td>\n",
       "      <td>male</td>\n",
       "      <td>29.699118</td>\n",
       "      <td>joven-adulto</td>\n",
       "      <td>0</td>\n",
       "      <td>0</td>\n",
       "      <td>330877</td>\n",
       "      <td>8.4583</td>\n",
       "      <td>NaN</td>\n",
       "      <td>Q</td>\n",
       "    </tr>\n",
       "  </tbody>\n",
       "</table>\n",
       "</div>"
      ],
      "text/plain": [
       "   passengerid  survived destino  pclass clase                      name  \\\n",
       "0            1         0   muere       3  baja   Braund, Mr. Owen Harris   \n",
       "4            5         0   muere       3  baja  Allen, Mr. William Henry   \n",
       "5            6         0   muere       3  baja          Moran, Mr. James   \n",
       "\n",
       "  titulos   sex        age     horquilla  sibsp  parch     ticket    fare  \\\n",
       "0      Mr  male  22.000000  joven-adulto      1      0  A/5 21171  7.2500   \n",
       "4      Mr  male  35.000000       adultos      0      0     373450  8.0500   \n",
       "5      Mr  male  29.699118  joven-adulto      0      0     330877  8.4583   \n",
       "\n",
       "  cabin embarked  \n",
       "0   NaN        S  \n",
       "4   NaN        S  \n",
       "5   NaN        Q  "
      ]
     },
     "execution_count": 92,
     "metadata": {},
     "output_type": "execute_result"
    }
   ],
   "source": [
    "mr_titanic = titanic[titanic['name'].str.contains(' Mr. ', case=False)]\n",
    "mr_titanic.head(3)"
   ]
  },
  {
   "cell_type": "code",
   "execution_count": 93,
   "metadata": {},
   "outputs": [
    {
     "data": {
      "text/html": [
       "<div>\n",
       "<style scoped>\n",
       "    .dataframe tbody tr th:only-of-type {\n",
       "        vertical-align: middle;\n",
       "    }\n",
       "\n",
       "    .dataframe tbody tr th {\n",
       "        vertical-align: top;\n",
       "    }\n",
       "\n",
       "    .dataframe thead th {\n",
       "        text-align: right;\n",
       "    }\n",
       "</style>\n",
       "<table border=\"1\" class=\"dataframe\">\n",
       "  <thead>\n",
       "    <tr style=\"text-align: right;\">\n",
       "      <th></th>\n",
       "      <th>passengerid</th>\n",
       "      <th>survived</th>\n",
       "      <th>destino</th>\n",
       "      <th>pclass</th>\n",
       "      <th>clase</th>\n",
       "      <th>name</th>\n",
       "      <th>titulos</th>\n",
       "      <th>sex</th>\n",
       "      <th>age</th>\n",
       "      <th>horquilla</th>\n",
       "      <th>sibsp</th>\n",
       "      <th>parch</th>\n",
       "      <th>ticket</th>\n",
       "      <th>fare</th>\n",
       "      <th>cabin</th>\n",
       "      <th>embarked</th>\n",
       "    </tr>\n",
       "  </thead>\n",
       "  <tbody>\n",
       "    <tr>\n",
       "      <th>1</th>\n",
       "      <td>2</td>\n",
       "      <td>1</td>\n",
       "      <td>sobrevive</td>\n",
       "      <td>1</td>\n",
       "      <td>alta</td>\n",
       "      <td>Cumings, Mrs. John Bradley (Florence Briggs Th...</td>\n",
       "      <td>Mrs</td>\n",
       "      <td>female</td>\n",
       "      <td>38.0</td>\n",
       "      <td>adultos</td>\n",
       "      <td>1</td>\n",
       "      <td>0</td>\n",
       "      <td>PC 17599</td>\n",
       "      <td>71.2833</td>\n",
       "      <td>C85</td>\n",
       "      <td>C</td>\n",
       "    </tr>\n",
       "    <tr>\n",
       "      <th>3</th>\n",
       "      <td>4</td>\n",
       "      <td>1</td>\n",
       "      <td>sobrevive</td>\n",
       "      <td>1</td>\n",
       "      <td>alta</td>\n",
       "      <td>Futrelle, Mrs. Jacques Heath (Lily May Peel)</td>\n",
       "      <td>Mrs</td>\n",
       "      <td>female</td>\n",
       "      <td>35.0</td>\n",
       "      <td>adultos</td>\n",
       "      <td>1</td>\n",
       "      <td>0</td>\n",
       "      <td>113803</td>\n",
       "      <td>53.1000</td>\n",
       "      <td>C123</td>\n",
       "      <td>S</td>\n",
       "    </tr>\n",
       "    <tr>\n",
       "      <th>8</th>\n",
       "      <td>9</td>\n",
       "      <td>1</td>\n",
       "      <td>sobrevive</td>\n",
       "      <td>3</td>\n",
       "      <td>baja</td>\n",
       "      <td>Johnson, Mrs. Oscar W (Elisabeth Vilhelmina Berg)</td>\n",
       "      <td>Mrs</td>\n",
       "      <td>female</td>\n",
       "      <td>27.0</td>\n",
       "      <td>joven-adulto</td>\n",
       "      <td>0</td>\n",
       "      <td>2</td>\n",
       "      <td>347742</td>\n",
       "      <td>11.1333</td>\n",
       "      <td>NaN</td>\n",
       "      <td>S</td>\n",
       "    </tr>\n",
       "  </tbody>\n",
       "</table>\n",
       "</div>"
      ],
      "text/plain": [
       "   passengerid  survived    destino  pclass clase  \\\n",
       "1            2         1  sobrevive       1  alta   \n",
       "3            4         1  sobrevive       1  alta   \n",
       "8            9         1  sobrevive       3  baja   \n",
       "\n",
       "                                                name titulos     sex   age  \\\n",
       "1  Cumings, Mrs. John Bradley (Florence Briggs Th...     Mrs  female  38.0   \n",
       "3       Futrelle, Mrs. Jacques Heath (Lily May Peel)     Mrs  female  35.0   \n",
       "8  Johnson, Mrs. Oscar W (Elisabeth Vilhelmina Berg)     Mrs  female  27.0   \n",
       "\n",
       "      horquilla  sibsp  parch    ticket     fare cabin embarked  \n",
       "1       adultos      1      0  PC 17599  71.2833   C85        C  \n",
       "3       adultos      1      0    113803  53.1000  C123        S  \n",
       "8  joven-adulto      0      2    347742  11.1333   NaN        S  "
      ]
     },
     "execution_count": 93,
     "metadata": {},
     "output_type": "execute_result"
    }
   ],
   "source": [
    "mrs_titanic = titanic[titanic['name'].str.contains('Mrs', case = False)]\n",
    "mrs_titanic.head(3)"
   ]
  },
  {
   "cell_type": "code",
   "execution_count": 94,
   "metadata": {},
   "outputs": [
    {
     "data": {
      "text/html": [
       "<div>\n",
       "<style scoped>\n",
       "    .dataframe tbody tr th:only-of-type {\n",
       "        vertical-align: middle;\n",
       "    }\n",
       "\n",
       "    .dataframe tbody tr th {\n",
       "        vertical-align: top;\n",
       "    }\n",
       "\n",
       "    .dataframe thead th {\n",
       "        text-align: right;\n",
       "    }\n",
       "</style>\n",
       "<table border=\"1\" class=\"dataframe\">\n",
       "  <thead>\n",
       "    <tr style=\"text-align: right;\">\n",
       "      <th></th>\n",
       "      <th>passengerid</th>\n",
       "      <th>survived</th>\n",
       "      <th>destino</th>\n",
       "      <th>pclass</th>\n",
       "      <th>clase</th>\n",
       "      <th>name</th>\n",
       "      <th>titulos</th>\n",
       "      <th>sex</th>\n",
       "      <th>age</th>\n",
       "      <th>horquilla</th>\n",
       "      <th>sibsp</th>\n",
       "      <th>parch</th>\n",
       "      <th>ticket</th>\n",
       "      <th>fare</th>\n",
       "      <th>cabin</th>\n",
       "      <th>embarked</th>\n",
       "    </tr>\n",
       "  </thead>\n",
       "  <tbody>\n",
       "    <tr>\n",
       "      <th>149</th>\n",
       "      <td>150</td>\n",
       "      <td>0</td>\n",
       "      <td>muere</td>\n",
       "      <td>2</td>\n",
       "      <td>media</td>\n",
       "      <td>Byles, Rev. Thomas Roussel Davids</td>\n",
       "      <td>Rev</td>\n",
       "      <td>male</td>\n",
       "      <td>42.0</td>\n",
       "      <td>adultos</td>\n",
       "      <td>0</td>\n",
       "      <td>0</td>\n",
       "      <td>244310</td>\n",
       "      <td>13.000</td>\n",
       "      <td>NaN</td>\n",
       "      <td>S</td>\n",
       "    </tr>\n",
       "    <tr>\n",
       "      <th>150</th>\n",
       "      <td>151</td>\n",
       "      <td>0</td>\n",
       "      <td>muere</td>\n",
       "      <td>2</td>\n",
       "      <td>media</td>\n",
       "      <td>Bateman, Rev. Robert James</td>\n",
       "      <td>Rev</td>\n",
       "      <td>male</td>\n",
       "      <td>51.0</td>\n",
       "      <td>adultos</td>\n",
       "      <td>0</td>\n",
       "      <td>0</td>\n",
       "      <td>S.O.P. 1166</td>\n",
       "      <td>12.525</td>\n",
       "      <td>NaN</td>\n",
       "      <td>S</td>\n",
       "    </tr>\n",
       "    <tr>\n",
       "      <th>249</th>\n",
       "      <td>250</td>\n",
       "      <td>0</td>\n",
       "      <td>muere</td>\n",
       "      <td>2</td>\n",
       "      <td>media</td>\n",
       "      <td>Carter, Rev. Ernest Courtenay</td>\n",
       "      <td>Rev</td>\n",
       "      <td>male</td>\n",
       "      <td>54.0</td>\n",
       "      <td>adultos</td>\n",
       "      <td>1</td>\n",
       "      <td>0</td>\n",
       "      <td>244252</td>\n",
       "      <td>26.000</td>\n",
       "      <td>NaN</td>\n",
       "      <td>S</td>\n",
       "    </tr>\n",
       "    <tr>\n",
       "      <th>626</th>\n",
       "      <td>627</td>\n",
       "      <td>0</td>\n",
       "      <td>muere</td>\n",
       "      <td>2</td>\n",
       "      <td>media</td>\n",
       "      <td>Kirkland, Rev. Charles Leonard</td>\n",
       "      <td>Rev</td>\n",
       "      <td>male</td>\n",
       "      <td>57.0</td>\n",
       "      <td>adultos</td>\n",
       "      <td>0</td>\n",
       "      <td>0</td>\n",
       "      <td>219533</td>\n",
       "      <td>12.350</td>\n",
       "      <td>NaN</td>\n",
       "      <td>Q</td>\n",
       "    </tr>\n",
       "    <tr>\n",
       "      <th>848</th>\n",
       "      <td>849</td>\n",
       "      <td>0</td>\n",
       "      <td>muere</td>\n",
       "      <td>2</td>\n",
       "      <td>media</td>\n",
       "      <td>Harper, Rev. John</td>\n",
       "      <td>Rev</td>\n",
       "      <td>male</td>\n",
       "      <td>28.0</td>\n",
       "      <td>joven-adulto</td>\n",
       "      <td>0</td>\n",
       "      <td>1</td>\n",
       "      <td>248727</td>\n",
       "      <td>33.000</td>\n",
       "      <td>NaN</td>\n",
       "      <td>S</td>\n",
       "    </tr>\n",
       "    <tr>\n",
       "      <th>886</th>\n",
       "      <td>887</td>\n",
       "      <td>0</td>\n",
       "      <td>muere</td>\n",
       "      <td>2</td>\n",
       "      <td>media</td>\n",
       "      <td>Montvila, Rev. Juozas</td>\n",
       "      <td>Rev</td>\n",
       "      <td>male</td>\n",
       "      <td>27.0</td>\n",
       "      <td>joven-adulto</td>\n",
       "      <td>0</td>\n",
       "      <td>0</td>\n",
       "      <td>211536</td>\n",
       "      <td>13.000</td>\n",
       "      <td>NaN</td>\n",
       "      <td>S</td>\n",
       "    </tr>\n",
       "  </tbody>\n",
       "</table>\n",
       "</div>"
      ],
      "text/plain": [
       "     passengerid  survived destino  pclass  clase  \\\n",
       "149          150         0   muere       2  media   \n",
       "150          151         0   muere       2  media   \n",
       "249          250         0   muere       2  media   \n",
       "626          627         0   muere       2  media   \n",
       "848          849         0   muere       2  media   \n",
       "886          887         0   muere       2  media   \n",
       "\n",
       "                                  name titulos   sex   age     horquilla  \\\n",
       "149  Byles, Rev. Thomas Roussel Davids     Rev  male  42.0       adultos   \n",
       "150         Bateman, Rev. Robert James     Rev  male  51.0       adultos   \n",
       "249      Carter, Rev. Ernest Courtenay     Rev  male  54.0       adultos   \n",
       "626     Kirkland, Rev. Charles Leonard     Rev  male  57.0       adultos   \n",
       "848                  Harper, Rev. John     Rev  male  28.0  joven-adulto   \n",
       "886              Montvila, Rev. Juozas     Rev  male  27.0  joven-adulto   \n",
       "\n",
       "     sibsp  parch       ticket    fare cabin embarked  \n",
       "149      0      0       244310  13.000   NaN        S  \n",
       "150      0      0  S.O.P. 1166  12.525   NaN        S  \n",
       "249      1      0       244252  26.000   NaN        S  \n",
       "626      0      0       219533  12.350   NaN        Q  \n",
       "848      0      1       248727  33.000   NaN        S  \n",
       "886      0      0       211536  13.000   NaN        S  "
      ]
     },
     "execution_count": 94,
     "metadata": {},
     "output_type": "execute_result"
    }
   ],
   "source": [
    "rev_titanic = titanic[titanic['name'].str.contains(' Rev', case = False)]\n",
    "rev_titanic"
   ]
  },
  {
   "cell_type": "code",
   "execution_count": 95,
   "metadata": {},
   "outputs": [
    {
     "data": {
      "text/html": [
       "<div>\n",
       "<style scoped>\n",
       "    .dataframe tbody tr th:only-of-type {\n",
       "        vertical-align: middle;\n",
       "    }\n",
       "\n",
       "    .dataframe tbody tr th {\n",
       "        vertical-align: top;\n",
       "    }\n",
       "\n",
       "    .dataframe thead th {\n",
       "        text-align: right;\n",
       "    }\n",
       "</style>\n",
       "<table border=\"1\" class=\"dataframe\">\n",
       "  <thead>\n",
       "    <tr style=\"text-align: right;\">\n",
       "      <th></th>\n",
       "      <th>passengerid</th>\n",
       "      <th>survived</th>\n",
       "      <th>destino</th>\n",
       "      <th>pclass</th>\n",
       "      <th>clase</th>\n",
       "      <th>name</th>\n",
       "      <th>titulos</th>\n",
       "      <th>sex</th>\n",
       "      <th>age</th>\n",
       "      <th>horquilla</th>\n",
       "      <th>sibsp</th>\n",
       "      <th>parch</th>\n",
       "      <th>ticket</th>\n",
       "      <th>fare</th>\n",
       "      <th>cabin</th>\n",
       "      <th>embarked</th>\n",
       "    </tr>\n",
       "  </thead>\n",
       "  <tbody>\n",
       "    <tr>\n",
       "      <th>2</th>\n",
       "      <td>3</td>\n",
       "      <td>1</td>\n",
       "      <td>sobrevive</td>\n",
       "      <td>3</td>\n",
       "      <td>baja</td>\n",
       "      <td>Heikkinen, Miss. Laina</td>\n",
       "      <td>Miss</td>\n",
       "      <td>female</td>\n",
       "      <td>26.0</td>\n",
       "      <td>joven-adulto</td>\n",
       "      <td>0</td>\n",
       "      <td>0</td>\n",
       "      <td>STON/O2. 3101282</td>\n",
       "      <td>7.925</td>\n",
       "      <td>NaN</td>\n",
       "      <td>S</td>\n",
       "    </tr>\n",
       "    <tr>\n",
       "      <th>10</th>\n",
       "      <td>11</td>\n",
       "      <td>1</td>\n",
       "      <td>sobrevive</td>\n",
       "      <td>3</td>\n",
       "      <td>baja</td>\n",
       "      <td>Sandstrom, Miss. Marguerite Rut</td>\n",
       "      <td>Miss</td>\n",
       "      <td>female</td>\n",
       "      <td>4.0</td>\n",
       "      <td>niños</td>\n",
       "      <td>1</td>\n",
       "      <td>1</td>\n",
       "      <td>PP 9549</td>\n",
       "      <td>16.700</td>\n",
       "      <td>G6</td>\n",
       "      <td>S</td>\n",
       "    </tr>\n",
       "    <tr>\n",
       "      <th>11</th>\n",
       "      <td>12</td>\n",
       "      <td>1</td>\n",
       "      <td>sobrevive</td>\n",
       "      <td>1</td>\n",
       "      <td>alta</td>\n",
       "      <td>Bonnell, Miss. Elizabeth</td>\n",
       "      <td>Miss</td>\n",
       "      <td>female</td>\n",
       "      <td>58.0</td>\n",
       "      <td>adultos</td>\n",
       "      <td>0</td>\n",
       "      <td>0</td>\n",
       "      <td>113783</td>\n",
       "      <td>26.550</td>\n",
       "      <td>C103</td>\n",
       "      <td>S</td>\n",
       "    </tr>\n",
       "  </tbody>\n",
       "</table>\n",
       "</div>"
      ],
      "text/plain": [
       "    passengerid  survived    destino  pclass clase  \\\n",
       "2             3         1  sobrevive       3  baja   \n",
       "10           11         1  sobrevive       3  baja   \n",
       "11           12         1  sobrevive       1  alta   \n",
       "\n",
       "                               name titulos     sex   age     horquilla  \\\n",
       "2            Heikkinen, Miss. Laina    Miss  female  26.0  joven-adulto   \n",
       "10  Sandstrom, Miss. Marguerite Rut    Miss  female   4.0         niños   \n",
       "11         Bonnell, Miss. Elizabeth    Miss  female  58.0       adultos   \n",
       "\n",
       "    sibsp  parch            ticket    fare cabin embarked  \n",
       "2       0      0  STON/O2. 3101282   7.925   NaN        S  \n",
       "10      1      1           PP 9549  16.700    G6        S  \n",
       "11      0      0            113783  26.550  C103        S  "
      ]
     },
     "execution_count": 95,
     "metadata": {},
     "output_type": "execute_result"
    }
   ],
   "source": [
    "miss_titanic = titanic[titanic['name'].str.contains('Miss', case=False)]\n",
    "miss_titanic.head(3)"
   ]
  },
  {
   "cell_type": "code",
   "execution_count": 96,
   "metadata": {},
   "outputs": [
    {
     "data": {
      "text/html": [
       "<div>\n",
       "<style scoped>\n",
       "    .dataframe tbody tr th:only-of-type {\n",
       "        vertical-align: middle;\n",
       "    }\n",
       "\n",
       "    .dataframe tbody tr th {\n",
       "        vertical-align: top;\n",
       "    }\n",
       "\n",
       "    .dataframe thead th {\n",
       "        text-align: right;\n",
       "    }\n",
       "</style>\n",
       "<table border=\"1\" class=\"dataframe\">\n",
       "  <thead>\n",
       "    <tr style=\"text-align: right;\">\n",
       "      <th></th>\n",
       "      <th>passengerid</th>\n",
       "      <th>survived</th>\n",
       "      <th>destino</th>\n",
       "      <th>pclass</th>\n",
       "      <th>clase</th>\n",
       "      <th>name</th>\n",
       "      <th>titulos</th>\n",
       "      <th>sex</th>\n",
       "      <th>age</th>\n",
       "      <th>horquilla</th>\n",
       "      <th>sibsp</th>\n",
       "      <th>parch</th>\n",
       "      <th>ticket</th>\n",
       "      <th>fare</th>\n",
       "      <th>cabin</th>\n",
       "      <th>embarked</th>\n",
       "    </tr>\n",
       "  </thead>\n",
       "  <tbody>\n",
       "    <tr>\n",
       "      <th>7</th>\n",
       "      <td>8</td>\n",
       "      <td>0</td>\n",
       "      <td>muere</td>\n",
       "      <td>3</td>\n",
       "      <td>baja</td>\n",
       "      <td>Palsson, Master. Gosta Leonard</td>\n",
       "      <td>Master</td>\n",
       "      <td>male</td>\n",
       "      <td>2.0</td>\n",
       "      <td>niños</td>\n",
       "      <td>3</td>\n",
       "      <td>1</td>\n",
       "      <td>349909</td>\n",
       "      <td>21.0750</td>\n",
       "      <td>NaN</td>\n",
       "      <td>S</td>\n",
       "    </tr>\n",
       "    <tr>\n",
       "      <th>16</th>\n",
       "      <td>17</td>\n",
       "      <td>0</td>\n",
       "      <td>muere</td>\n",
       "      <td>3</td>\n",
       "      <td>baja</td>\n",
       "      <td>Rice, Master. Eugene</td>\n",
       "      <td>Master</td>\n",
       "      <td>male</td>\n",
       "      <td>2.0</td>\n",
       "      <td>niños</td>\n",
       "      <td>4</td>\n",
       "      <td>1</td>\n",
       "      <td>382652</td>\n",
       "      <td>29.1250</td>\n",
       "      <td>NaN</td>\n",
       "      <td>Q</td>\n",
       "    </tr>\n",
       "    <tr>\n",
       "      <th>50</th>\n",
       "      <td>51</td>\n",
       "      <td>0</td>\n",
       "      <td>muere</td>\n",
       "      <td>3</td>\n",
       "      <td>baja</td>\n",
       "      <td>Panula, Master. Juha Niilo</td>\n",
       "      <td>Master</td>\n",
       "      <td>male</td>\n",
       "      <td>7.0</td>\n",
       "      <td>niños</td>\n",
       "      <td>4</td>\n",
       "      <td>1</td>\n",
       "      <td>3101295</td>\n",
       "      <td>39.6875</td>\n",
       "      <td>NaN</td>\n",
       "      <td>S</td>\n",
       "    </tr>\n",
       "  </tbody>\n",
       "</table>\n",
       "</div>"
      ],
      "text/plain": [
       "    passengerid  survived destino  pclass clase  \\\n",
       "7             8         0   muere       3  baja   \n",
       "16           17         0   muere       3  baja   \n",
       "50           51         0   muere       3  baja   \n",
       "\n",
       "                              name titulos   sex  age horquilla  sibsp  parch  \\\n",
       "7   Palsson, Master. Gosta Leonard  Master  male  2.0     niños      3      1   \n",
       "16            Rice, Master. Eugene  Master  male  2.0     niños      4      1   \n",
       "50      Panula, Master. Juha Niilo  Master  male  7.0     niños      4      1   \n",
       "\n",
       "     ticket     fare cabin embarked  \n",
       "7    349909  21.0750   NaN        S  \n",
       "16   382652  29.1250   NaN        Q  \n",
       "50  3101295  39.6875   NaN        S  "
      ]
     },
     "execution_count": 96,
     "metadata": {},
     "output_type": "execute_result"
    }
   ],
   "source": [
    "master_titanic = titanic[titanic['name'].str.contains('Master.', case=False)]\n",
    "master_titanic.head(3)"
   ]
  },
  {
   "cell_type": "markdown",
   "metadata": {},
   "source": [
    "*****************"
   ]
  },
  {
   "cell_type": "markdown",
   "metadata": {},
   "source": [
    "* Buscar familiares. ¿Cuántos sobrevivieron de las familias? Intentar ver lo positivo y alegrarnos por quienes estuvieron al completo, todo un milagro "
   ]
  },
  {
   "cell_type": "code",
   "execution_count": 97,
   "metadata": {},
   "outputs": [
    {
     "data": {
      "text/html": [
       "<div>\n",
       "<style scoped>\n",
       "    .dataframe tbody tr th:only-of-type {\n",
       "        vertical-align: middle;\n",
       "    }\n",
       "\n",
       "    .dataframe tbody tr th {\n",
       "        vertical-align: top;\n",
       "    }\n",
       "\n",
       "    .dataframe thead th {\n",
       "        text-align: right;\n",
       "    }\n",
       "</style>\n",
       "<table border=\"1\" class=\"dataframe\">\n",
       "  <thead>\n",
       "    <tr style=\"text-align: right;\">\n",
       "      <th></th>\n",
       "      <th>name</th>\n",
       "      <th>sibsp</th>\n",
       "      <th>parch</th>\n",
       "      <th>survived</th>\n",
       "    </tr>\n",
       "  </thead>\n",
       "  <tbody>\n",
       "    <tr>\n",
       "      <th>0</th>\n",
       "      <td>Braund, Mr. Owen Harris</td>\n",
       "      <td>1</td>\n",
       "      <td>0</td>\n",
       "      <td>0</td>\n",
       "    </tr>\n",
       "    <tr>\n",
       "      <th>1</th>\n",
       "      <td>Cumings, Mrs. John Bradley (Florence Briggs Th...</td>\n",
       "      <td>1</td>\n",
       "      <td>0</td>\n",
       "      <td>1</td>\n",
       "    </tr>\n",
       "    <tr>\n",
       "      <th>2</th>\n",
       "      <td>Heikkinen, Miss. Laina</td>\n",
       "      <td>0</td>\n",
       "      <td>0</td>\n",
       "      <td>1</td>\n",
       "    </tr>\n",
       "  </tbody>\n",
       "</table>\n",
       "</div>"
      ],
      "text/plain": [
       "                                                name  sibsp  parch  survived\n",
       "0                            Braund, Mr. Owen Harris      1      0         0\n",
       "1  Cumings, Mrs. John Bradley (Florence Briggs Th...      1      0         1\n",
       "2                             Heikkinen, Miss. Laina      0      0         1"
      ]
     },
     "execution_count": 97,
     "metadata": {},
     "output_type": "execute_result"
    }
   ],
   "source": [
    "familiares = titanic[['name', 'sibsp', 'parch', 'survived']]\n",
    "familiares.head(3)"
   ]
  },
  {
   "cell_type": "code",
   "execution_count": 98,
   "metadata": {},
   "outputs": [
    {
     "data": {
      "text/plain": [
       "6"
      ]
     },
     "execution_count": 98,
     "metadata": {},
     "output_type": "execute_result"
    }
   ],
   "source": [
    "#### Parch: Número de padres o hijos que un pasajero tiene a bordo.\n",
    "fam = titanic['parch'].max()\n",
    "fam"
   ]
  },
  {
   "cell_type": "code",
   "execution_count": 99,
   "metadata": {},
   "outputs": [
    {
     "data": {
      "text/plain": [
       "8"
      ]
     },
     "execution_count": 99,
     "metadata": {},
     "output_type": "execute_result"
    }
   ],
   "source": [
    "### SibSp: Número de hermanos y cónyuges (incluidos esposos y esposas) que un pasajero tiene a bordo.\n",
    "bro = titanic['sibsp'].max()\n",
    "bro"
   ]
  },
  {
   "cell_type": "code",
   "execution_count": 100,
   "metadata": {},
   "outputs": [
    {
     "data": {
      "text/plain": [
       "678"
      ]
     },
     "execution_count": 100,
     "metadata": {},
     "output_type": "execute_result"
    }
   ],
   "source": [
    "cero_familiares = titanic[titanic['parch'] == 0]\n",
    "len(cero_familiares)"
   ]
  },
  {
   "cell_type": "code",
   "execution_count": 101,
   "metadata": {},
   "outputs": [
    {
     "data": {
      "text/plain": [
       "118"
      ]
     },
     "execution_count": 101,
     "metadata": {},
     "output_type": "execute_result"
    }
   ],
   "source": [
    "uno_familiares = titanic[titanic['parch'] == 1]\n",
    "len(uno_familiares)"
   ]
  },
  {
   "cell_type": "code",
   "execution_count": 102,
   "metadata": {},
   "outputs": [
    {
     "data": {
      "text/plain": [
       "80"
      ]
     },
     "execution_count": 102,
     "metadata": {},
     "output_type": "execute_result"
    }
   ],
   "source": [
    "dos_familiares = titanic[titanic['parch'] == 2]\n",
    "len(dos_familiares)"
   ]
  },
  {
   "cell_type": "code",
   "execution_count": 103,
   "metadata": {},
   "outputs": [
    {
     "data": {
      "text/html": [
       "<div>\n",
       "<style scoped>\n",
       "    .dataframe tbody tr th:only-of-type {\n",
       "        vertical-align: middle;\n",
       "    }\n",
       "\n",
       "    .dataframe tbody tr th {\n",
       "        vertical-align: top;\n",
       "    }\n",
       "\n",
       "    .dataframe thead th {\n",
       "        text-align: right;\n",
       "    }\n",
       "</style>\n",
       "<table border=\"1\" class=\"dataframe\">\n",
       "  <thead>\n",
       "    <tr style=\"text-align: right;\">\n",
       "      <th></th>\n",
       "      <th>passengerid</th>\n",
       "      <th>survived</th>\n",
       "      <th>destino</th>\n",
       "      <th>pclass</th>\n",
       "      <th>clase</th>\n",
       "      <th>name</th>\n",
       "      <th>titulos</th>\n",
       "      <th>sex</th>\n",
       "      <th>age</th>\n",
       "      <th>horquilla</th>\n",
       "      <th>sibsp</th>\n",
       "      <th>parch</th>\n",
       "      <th>ticket</th>\n",
       "      <th>fare</th>\n",
       "      <th>cabin</th>\n",
       "      <th>embarked</th>\n",
       "    </tr>\n",
       "  </thead>\n",
       "  <tbody>\n",
       "    <tr>\n",
       "      <th>86</th>\n",
       "      <td>87</td>\n",
       "      <td>0</td>\n",
       "      <td>muere</td>\n",
       "      <td>3</td>\n",
       "      <td>baja</td>\n",
       "      <td>Ford, Mr. William Neal</td>\n",
       "      <td>Mr</td>\n",
       "      <td>male</td>\n",
       "      <td>16.0</td>\n",
       "      <td>niños</td>\n",
       "      <td>1</td>\n",
       "      <td>3</td>\n",
       "      <td>W./C. 6608</td>\n",
       "      <td>34.3750</td>\n",
       "      <td>NaN</td>\n",
       "      <td>S</td>\n",
       "    </tr>\n",
       "    <tr>\n",
       "      <th>437</th>\n",
       "      <td>438</td>\n",
       "      <td>1</td>\n",
       "      <td>sobrevive</td>\n",
       "      <td>2</td>\n",
       "      <td>media</td>\n",
       "      <td>Richards, Mrs. Sidney (Emily Hocking)</td>\n",
       "      <td>Mrs</td>\n",
       "      <td>female</td>\n",
       "      <td>24.0</td>\n",
       "      <td>joven-adulto</td>\n",
       "      <td>2</td>\n",
       "      <td>3</td>\n",
       "      <td>29106</td>\n",
       "      <td>18.7500</td>\n",
       "      <td>NaN</td>\n",
       "      <td>S</td>\n",
       "    </tr>\n",
       "    <tr>\n",
       "      <th>736</th>\n",
       "      <td>737</td>\n",
       "      <td>0</td>\n",
       "      <td>muere</td>\n",
       "      <td>3</td>\n",
       "      <td>baja</td>\n",
       "      <td>Ford, Mrs. Edward (Margaret Ann Watson)</td>\n",
       "      <td>Mrs</td>\n",
       "      <td>female</td>\n",
       "      <td>48.0</td>\n",
       "      <td>adultos</td>\n",
       "      <td>1</td>\n",
       "      <td>3</td>\n",
       "      <td>W./C. 6608</td>\n",
       "      <td>34.3750</td>\n",
       "      <td>NaN</td>\n",
       "      <td>S</td>\n",
       "    </tr>\n",
       "    <tr>\n",
       "      <th>774</th>\n",
       "      <td>775</td>\n",
       "      <td>1</td>\n",
       "      <td>sobrevive</td>\n",
       "      <td>2</td>\n",
       "      <td>media</td>\n",
       "      <td>Hocking, Mrs. Elizabeth (Eliza Needs)</td>\n",
       "      <td>Mrs</td>\n",
       "      <td>female</td>\n",
       "      <td>54.0</td>\n",
       "      <td>adultos</td>\n",
       "      <td>1</td>\n",
       "      <td>3</td>\n",
       "      <td>29105</td>\n",
       "      <td>23.0000</td>\n",
       "      <td>NaN</td>\n",
       "      <td>S</td>\n",
       "    </tr>\n",
       "    <tr>\n",
       "      <th>858</th>\n",
       "      <td>859</td>\n",
       "      <td>1</td>\n",
       "      <td>sobrevive</td>\n",
       "      <td>3</td>\n",
       "      <td>baja</td>\n",
       "      <td>Baclini, Mrs. Solomon (Latifa Qurban)</td>\n",
       "      <td>Mrs</td>\n",
       "      <td>female</td>\n",
       "      <td>24.0</td>\n",
       "      <td>joven-adulto</td>\n",
       "      <td>0</td>\n",
       "      <td>3</td>\n",
       "      <td>2666</td>\n",
       "      <td>19.2583</td>\n",
       "      <td>NaN</td>\n",
       "      <td>C</td>\n",
       "    </tr>\n",
       "  </tbody>\n",
       "</table>\n",
       "</div>"
      ],
      "text/plain": [
       "     passengerid  survived    destino  pclass  clase  \\\n",
       "86            87         0      muere       3   baja   \n",
       "437          438         1  sobrevive       2  media   \n",
       "736          737         0      muere       3   baja   \n",
       "774          775         1  sobrevive       2  media   \n",
       "858          859         1  sobrevive       3   baja   \n",
       "\n",
       "                                        name titulos     sex   age  \\\n",
       "86                    Ford, Mr. William Neal      Mr    male  16.0   \n",
       "437    Richards, Mrs. Sidney (Emily Hocking)     Mrs  female  24.0   \n",
       "736  Ford, Mrs. Edward (Margaret Ann Watson)     Mrs  female  48.0   \n",
       "774    Hocking, Mrs. Elizabeth (Eliza Needs)     Mrs  female  54.0   \n",
       "858    Baclini, Mrs. Solomon (Latifa Qurban)     Mrs  female  24.0   \n",
       "\n",
       "        horquilla  sibsp  parch      ticket     fare cabin embarked  \n",
       "86          niños      1      3  W./C. 6608  34.3750   NaN        S  \n",
       "437  joven-adulto      2      3       29106  18.7500   NaN        S  \n",
       "736       adultos      1      3  W./C. 6608  34.3750   NaN        S  \n",
       "774       adultos      1      3       29105  23.0000   NaN        S  \n",
       "858  joven-adulto      0      3        2666  19.2583   NaN        C  "
      ]
     },
     "execution_count": 103,
     "metadata": {},
     "output_type": "execute_result"
    }
   ],
   "source": [
    "tres_familiares = titanic[titanic['parch'] == 3]\n",
    "len(tres_familiares)\n",
    "tres_familiares"
   ]
  },
  {
   "cell_type": "code",
   "execution_count": 104,
   "metadata": {},
   "outputs": [
    {
     "data": {
      "text/html": [
       "<div>\n",
       "<style scoped>\n",
       "    .dataframe tbody tr th:only-of-type {\n",
       "        vertical-align: middle;\n",
       "    }\n",
       "\n",
       "    .dataframe tbody tr th {\n",
       "        vertical-align: top;\n",
       "    }\n",
       "\n",
       "    .dataframe thead th {\n",
       "        text-align: right;\n",
       "    }\n",
       "</style>\n",
       "<table border=\"1\" class=\"dataframe\">\n",
       "  <thead>\n",
       "    <tr style=\"text-align: right;\">\n",
       "      <th></th>\n",
       "      <th>passengerid</th>\n",
       "      <th>survived</th>\n",
       "      <th>destino</th>\n",
       "      <th>pclass</th>\n",
       "      <th>clase</th>\n",
       "      <th>name</th>\n",
       "      <th>titulos</th>\n",
       "      <th>sex</th>\n",
       "      <th>age</th>\n",
       "      <th>horquilla</th>\n",
       "      <th>sibsp</th>\n",
       "      <th>parch</th>\n",
       "      <th>ticket</th>\n",
       "      <th>fare</th>\n",
       "      <th>cabin</th>\n",
       "      <th>embarked</th>\n",
       "    </tr>\n",
       "  </thead>\n",
       "  <tbody>\n",
       "    <tr>\n",
       "      <th>407</th>\n",
       "      <td>408</td>\n",
       "      <td>1</td>\n",
       "      <td>sobrevive</td>\n",
       "      <td>2</td>\n",
       "      <td>media</td>\n",
       "      <td>Richards, Master. William Rowe</td>\n",
       "      <td>Master</td>\n",
       "      <td>male</td>\n",
       "      <td>3.00</td>\n",
       "      <td>niños</td>\n",
       "      <td>1</td>\n",
       "      <td>1</td>\n",
       "      <td>29106</td>\n",
       "      <td>18.75</td>\n",
       "      <td>NaN</td>\n",
       "      <td>S</td>\n",
       "    </tr>\n",
       "    <tr>\n",
       "      <th>437</th>\n",
       "      <td>438</td>\n",
       "      <td>1</td>\n",
       "      <td>sobrevive</td>\n",
       "      <td>2</td>\n",
       "      <td>media</td>\n",
       "      <td>Richards, Mrs. Sidney (Emily Hocking)</td>\n",
       "      <td>Mrs</td>\n",
       "      <td>female</td>\n",
       "      <td>24.00</td>\n",
       "      <td>joven-adulto</td>\n",
       "      <td>2</td>\n",
       "      <td>3</td>\n",
       "      <td>29106</td>\n",
       "      <td>18.75</td>\n",
       "      <td>NaN</td>\n",
       "      <td>S</td>\n",
       "    </tr>\n",
       "    <tr>\n",
       "      <th>831</th>\n",
       "      <td>832</td>\n",
       "      <td>1</td>\n",
       "      <td>sobrevive</td>\n",
       "      <td>2</td>\n",
       "      <td>media</td>\n",
       "      <td>Richards, Master. George Sibley</td>\n",
       "      <td>Master</td>\n",
       "      <td>male</td>\n",
       "      <td>0.83</td>\n",
       "      <td>niños</td>\n",
       "      <td>1</td>\n",
       "      <td>1</td>\n",
       "      <td>29106</td>\n",
       "      <td>18.75</td>\n",
       "      <td>NaN</td>\n",
       "      <td>S</td>\n",
       "    </tr>\n",
       "  </tbody>\n",
       "</table>\n",
       "</div>"
      ],
      "text/plain": [
       "     passengerid  survived    destino  pclass  clase  \\\n",
       "407          408         1  sobrevive       2  media   \n",
       "437          438         1  sobrevive       2  media   \n",
       "831          832         1  sobrevive       2  media   \n",
       "\n",
       "                                      name titulos     sex    age  \\\n",
       "407         Richards, Master. William Rowe  Master    male   3.00   \n",
       "437  Richards, Mrs. Sidney (Emily Hocking)     Mrs  female  24.00   \n",
       "831        Richards, Master. George Sibley  Master    male   0.83   \n",
       "\n",
       "        horquilla  sibsp  parch ticket   fare cabin embarked  \n",
       "407         niños      1      1  29106  18.75   NaN        S  \n",
       "437  joven-adulto      2      3  29106  18.75   NaN        S  \n",
       "831         niños      1      1  29106  18.75   NaN        S  "
      ]
     },
     "execution_count": 104,
     "metadata": {},
     "output_type": "execute_result"
    }
   ],
   "source": [
    "#### Parch:hijos/padres\n",
    "#### Sibsp:hermanos / conyuges \n",
    "familia_richards = titanic[titanic['name'].str.contains('Richards,')]\n",
    "familia_richards"
   ]
  },
  {
   "cell_type": "code",
   "execution_count": 105,
   "metadata": {},
   "outputs": [
    {
     "data": {
      "text/html": [
       "<div>\n",
       "<style scoped>\n",
       "    .dataframe tbody tr th:only-of-type {\n",
       "        vertical-align: middle;\n",
       "    }\n",
       "\n",
       "    .dataframe tbody tr th {\n",
       "        vertical-align: top;\n",
       "    }\n",
       "\n",
       "    .dataframe thead th {\n",
       "        text-align: right;\n",
       "    }\n",
       "</style>\n",
       "<table border=\"1\" class=\"dataframe\">\n",
       "  <thead>\n",
       "    <tr style=\"text-align: right;\">\n",
       "      <th></th>\n",
       "      <th>passengerid</th>\n",
       "      <th>survived</th>\n",
       "      <th>destino</th>\n",
       "      <th>pclass</th>\n",
       "      <th>clase</th>\n",
       "      <th>name</th>\n",
       "      <th>titulos</th>\n",
       "      <th>sex</th>\n",
       "      <th>age</th>\n",
       "      <th>horquilla</th>\n",
       "      <th>sibsp</th>\n",
       "      <th>parch</th>\n",
       "      <th>ticket</th>\n",
       "      <th>fare</th>\n",
       "      <th>cabin</th>\n",
       "      <th>embarked</th>\n",
       "    </tr>\n",
       "  </thead>\n",
       "  <tbody>\n",
       "    <tr>\n",
       "      <th>407</th>\n",
       "      <td>408</td>\n",
       "      <td>1</td>\n",
       "      <td>sobrevive</td>\n",
       "      <td>2</td>\n",
       "      <td>media</td>\n",
       "      <td>Richards, Master. William Rowe</td>\n",
       "      <td>Master</td>\n",
       "      <td>male</td>\n",
       "      <td>3.00</td>\n",
       "      <td>niños</td>\n",
       "      <td>1</td>\n",
       "      <td>1</td>\n",
       "      <td>29106</td>\n",
       "      <td>18.75</td>\n",
       "      <td>NaN</td>\n",
       "      <td>S</td>\n",
       "    </tr>\n",
       "    <tr>\n",
       "      <th>437</th>\n",
       "      <td>438</td>\n",
       "      <td>1</td>\n",
       "      <td>sobrevive</td>\n",
       "      <td>2</td>\n",
       "      <td>media</td>\n",
       "      <td>Richards, Mrs. Sidney (Emily Hocking)</td>\n",
       "      <td>Mrs</td>\n",
       "      <td>female</td>\n",
       "      <td>24.00</td>\n",
       "      <td>joven-adulto</td>\n",
       "      <td>2</td>\n",
       "      <td>3</td>\n",
       "      <td>29106</td>\n",
       "      <td>18.75</td>\n",
       "      <td>NaN</td>\n",
       "      <td>S</td>\n",
       "    </tr>\n",
       "    <tr>\n",
       "      <th>831</th>\n",
       "      <td>832</td>\n",
       "      <td>1</td>\n",
       "      <td>sobrevive</td>\n",
       "      <td>2</td>\n",
       "      <td>media</td>\n",
       "      <td>Richards, Master. George Sibley</td>\n",
       "      <td>Master</td>\n",
       "      <td>male</td>\n",
       "      <td>0.83</td>\n",
       "      <td>niños</td>\n",
       "      <td>1</td>\n",
       "      <td>1</td>\n",
       "      <td>29106</td>\n",
       "      <td>18.75</td>\n",
       "      <td>NaN</td>\n",
       "      <td>S</td>\n",
       "    </tr>\n",
       "  </tbody>\n",
       "</table>\n",
       "</div>"
      ],
      "text/plain": [
       "     passengerid  survived    destino  pclass  clase  \\\n",
       "407          408         1  sobrevive       2  media   \n",
       "437          438         1  sobrevive       2  media   \n",
       "831          832         1  sobrevive       2  media   \n",
       "\n",
       "                                      name titulos     sex    age  \\\n",
       "407         Richards, Master. William Rowe  Master    male   3.00   \n",
       "437  Richards, Mrs. Sidney (Emily Hocking)     Mrs  female  24.00   \n",
       "831        Richards, Master. George Sibley  Master    male   0.83   \n",
       "\n",
       "        horquilla  sibsp  parch ticket   fare cabin embarked  \n",
       "407         niños      1      1  29106  18.75   NaN        S  \n",
       "437  joven-adulto      2      3  29106  18.75   NaN        S  \n",
       "831         niños      1      1  29106  18.75   NaN        S  "
      ]
     },
     "execution_count": 105,
     "metadata": {},
     "output_type": "execute_result"
    }
   ],
   "source": [
    "richards = titanic[titanic['ticket'] == '29106']\n",
    "richards"
   ]
  },
  {
   "cell_type": "code",
   "execution_count": 106,
   "metadata": {},
   "outputs": [
    {
     "data": {
      "text/html": [
       "<div>\n",
       "<style scoped>\n",
       "    .dataframe tbody tr th:only-of-type {\n",
       "        vertical-align: middle;\n",
       "    }\n",
       "\n",
       "    .dataframe tbody tr th {\n",
       "        vertical-align: top;\n",
       "    }\n",
       "\n",
       "    .dataframe thead th {\n",
       "        text-align: right;\n",
       "    }\n",
       "</style>\n",
       "<table border=\"1\" class=\"dataframe\">\n",
       "  <thead>\n",
       "    <tr style=\"text-align: right;\">\n",
       "      <th></th>\n",
       "      <th>passengerid</th>\n",
       "      <th>survived</th>\n",
       "      <th>destino</th>\n",
       "      <th>pclass</th>\n",
       "      <th>clase</th>\n",
       "      <th>name</th>\n",
       "      <th>titulos</th>\n",
       "      <th>sex</th>\n",
       "      <th>age</th>\n",
       "      <th>horquilla</th>\n",
       "      <th>sibsp</th>\n",
       "      <th>parch</th>\n",
       "      <th>ticket</th>\n",
       "      <th>fare</th>\n",
       "      <th>cabin</th>\n",
       "      <th>embarked</th>\n",
       "    </tr>\n",
       "  </thead>\n",
       "  <tbody>\n",
       "    <tr>\n",
       "      <th>437</th>\n",
       "      <td>438</td>\n",
       "      <td>1</td>\n",
       "      <td>sobrevive</td>\n",
       "      <td>2</td>\n",
       "      <td>media</td>\n",
       "      <td>Richards, Mrs. Sidney (Emily Hocking)</td>\n",
       "      <td>Mrs</td>\n",
       "      <td>female</td>\n",
       "      <td>24.0</td>\n",
       "      <td>joven-adulto</td>\n",
       "      <td>2</td>\n",
       "      <td>3</td>\n",
       "      <td>29106</td>\n",
       "      <td>18.75</td>\n",
       "      <td>NaN</td>\n",
       "      <td>S</td>\n",
       "    </tr>\n",
       "    <tr>\n",
       "      <th>529</th>\n",
       "      <td>530</td>\n",
       "      <td>0</td>\n",
       "      <td>muere</td>\n",
       "      <td>2</td>\n",
       "      <td>media</td>\n",
       "      <td>Hocking, Mr. Richard George</td>\n",
       "      <td>Mr</td>\n",
       "      <td>male</td>\n",
       "      <td>23.0</td>\n",
       "      <td>joven-adulto</td>\n",
       "      <td>2</td>\n",
       "      <td>1</td>\n",
       "      <td>29104</td>\n",
       "      <td>11.50</td>\n",
       "      <td>NaN</td>\n",
       "      <td>S</td>\n",
       "    </tr>\n",
       "    <tr>\n",
       "      <th>774</th>\n",
       "      <td>775</td>\n",
       "      <td>1</td>\n",
       "      <td>sobrevive</td>\n",
       "      <td>2</td>\n",
       "      <td>media</td>\n",
       "      <td>Hocking, Mrs. Elizabeth (Eliza Needs)</td>\n",
       "      <td>Mrs</td>\n",
       "      <td>female</td>\n",
       "      <td>54.0</td>\n",
       "      <td>adultos</td>\n",
       "      <td>1</td>\n",
       "      <td>3</td>\n",
       "      <td>29105</td>\n",
       "      <td>23.00</td>\n",
       "      <td>NaN</td>\n",
       "      <td>S</td>\n",
       "    </tr>\n",
       "  </tbody>\n",
       "</table>\n",
       "</div>"
      ],
      "text/plain": [
       "     passengerid  survived    destino  pclass  clase  \\\n",
       "437          438         1  sobrevive       2  media   \n",
       "529          530         0      muere       2  media   \n",
       "774          775         1  sobrevive       2  media   \n",
       "\n",
       "                                      name titulos     sex   age  \\\n",
       "437  Richards, Mrs. Sidney (Emily Hocking)     Mrs  female  24.0   \n",
       "529            Hocking, Mr. Richard George      Mr    male  23.0   \n",
       "774  Hocking, Mrs. Elizabeth (Eliza Needs)     Mrs  female  54.0   \n",
       "\n",
       "        horquilla  sibsp  parch ticket   fare cabin embarked  \n",
       "437  joven-adulto      2      3  29106  18.75   NaN        S  \n",
       "529  joven-adulto      2      1  29104  11.50   NaN        S  \n",
       "774       adultos      1      3  29105  23.00   NaN        S  "
      ]
     },
     "execution_count": 106,
     "metadata": {},
     "output_type": "execute_result"
    }
   ],
   "source": [
    "patron_mrs = titanic[titanic['name'].str.contains('Hocking')]\n",
    "patron_mrs"
   ]
  },
  {
   "cell_type": "code",
   "execution_count": 107,
   "metadata": {},
   "outputs": [
    {
     "data": {
      "text/html": [
       "<div>\n",
       "<style scoped>\n",
       "    .dataframe tbody tr th:only-of-type {\n",
       "        vertical-align: middle;\n",
       "    }\n",
       "\n",
       "    .dataframe tbody tr th {\n",
       "        vertical-align: top;\n",
       "    }\n",
       "\n",
       "    .dataframe thead th {\n",
       "        text-align: right;\n",
       "    }\n",
       "</style>\n",
       "<table border=\"1\" class=\"dataframe\">\n",
       "  <thead>\n",
       "    <tr style=\"text-align: right;\">\n",
       "      <th></th>\n",
       "      <th>passengerid</th>\n",
       "      <th>survived</th>\n",
       "      <th>destino</th>\n",
       "      <th>pclass</th>\n",
       "      <th>clase</th>\n",
       "      <th>name</th>\n",
       "      <th>titulos</th>\n",
       "      <th>sex</th>\n",
       "      <th>age</th>\n",
       "      <th>horquilla</th>\n",
       "      <th>sibsp</th>\n",
       "      <th>parch</th>\n",
       "      <th>ticket</th>\n",
       "      <th>fare</th>\n",
       "      <th>cabin</th>\n",
       "      <th>embarked</th>\n",
       "    </tr>\n",
       "  </thead>\n",
       "  <tbody>\n",
       "    <tr>\n",
       "      <th>774</th>\n",
       "      <td>775</td>\n",
       "      <td>1</td>\n",
       "      <td>sobrevive</td>\n",
       "      <td>2</td>\n",
       "      <td>media</td>\n",
       "      <td>Hocking, Mrs. Elizabeth (Eliza Needs)</td>\n",
       "      <td>Mrs</td>\n",
       "      <td>female</td>\n",
       "      <td>54.0</td>\n",
       "      <td>adultos</td>\n",
       "      <td>1</td>\n",
       "      <td>3</td>\n",
       "      <td>29105</td>\n",
       "      <td>23.0</td>\n",
       "      <td>NaN</td>\n",
       "      <td>S</td>\n",
       "    </tr>\n",
       "  </tbody>\n",
       "</table>\n",
       "</div>"
      ],
      "text/plain": [
       "     passengerid  survived    destino  pclass  clase  \\\n",
       "774          775         1  sobrevive       2  media   \n",
       "\n",
       "                                      name titulos     sex   age horquilla  \\\n",
       "774  Hocking, Mrs. Elizabeth (Eliza Needs)     Mrs  female  54.0   adultos   \n",
       "\n",
       "     sibsp  parch ticket  fare cabin embarked  \n",
       "774      1      3  29105  23.0   NaN        S  "
      ]
     },
     "execution_count": 107,
     "metadata": {},
     "output_type": "execute_result"
    }
   ],
   "source": [
    "familia_needs = titanic[titanic['name'].str.contains('Needs')]\n",
    "familia_needs  \n",
    "### pueden estar sus padres pero faltan el conjunto de datos completo, es solo un estracto. "
   ]
  },
  {
   "cell_type": "code",
   "execution_count": 108,
   "metadata": {},
   "outputs": [
    {
     "data": {
      "text/html": [
       "<div>\n",
       "<style scoped>\n",
       "    .dataframe tbody tr th:only-of-type {\n",
       "        vertical-align: middle;\n",
       "    }\n",
       "\n",
       "    .dataframe tbody tr th {\n",
       "        vertical-align: top;\n",
       "    }\n",
       "\n",
       "    .dataframe thead th {\n",
       "        text-align: right;\n",
       "    }\n",
       "</style>\n",
       "<table border=\"1\" class=\"dataframe\">\n",
       "  <thead>\n",
       "    <tr style=\"text-align: right;\">\n",
       "      <th></th>\n",
       "      <th>passengerid</th>\n",
       "      <th>survived</th>\n",
       "      <th>destino</th>\n",
       "      <th>pclass</th>\n",
       "      <th>clase</th>\n",
       "      <th>name</th>\n",
       "      <th>titulos</th>\n",
       "      <th>sex</th>\n",
       "      <th>age</th>\n",
       "      <th>horquilla</th>\n",
       "      <th>sibsp</th>\n",
       "      <th>parch</th>\n",
       "      <th>ticket</th>\n",
       "      <th>fare</th>\n",
       "      <th>cabin</th>\n",
       "      <th>embarked</th>\n",
       "    </tr>\n",
       "  </thead>\n",
       "  <tbody>\n",
       "    <tr>\n",
       "      <th>774</th>\n",
       "      <td>775</td>\n",
       "      <td>1</td>\n",
       "      <td>sobrevive</td>\n",
       "      <td>2</td>\n",
       "      <td>media</td>\n",
       "      <td>Hocking, Mrs. Elizabeth (Eliza Needs)</td>\n",
       "      <td>Mrs</td>\n",
       "      <td>female</td>\n",
       "      <td>54.0</td>\n",
       "      <td>adultos</td>\n",
       "      <td>1</td>\n",
       "      <td>3</td>\n",
       "      <td>29105</td>\n",
       "      <td>23.0</td>\n",
       "      <td>NaN</td>\n",
       "      <td>S</td>\n",
       "    </tr>\n",
       "  </tbody>\n",
       "</table>\n",
       "</div>"
      ],
      "text/plain": [
       "     passengerid  survived    destino  pclass  clase  \\\n",
       "774          775         1  sobrevive       2  media   \n",
       "\n",
       "                                      name titulos     sex   age horquilla  \\\n",
       "774  Hocking, Mrs. Elizabeth (Eliza Needs)     Mrs  female  54.0   adultos   \n",
       "\n",
       "     sibsp  parch ticket  fare cabin embarked  \n",
       "774      1      3  29105  23.0   NaN        S  "
      ]
     },
     "execution_count": 108,
     "metadata": {},
     "output_type": "execute_result"
    }
   ],
   "source": [
    "ticket_needs = titanic[titanic['ticket'] == '29105']\n",
    "ticket_needs\n",
    "\n",
    "## dado que faltan datos solo podemos concluir que no estan los padres"
   ]
  },
  {
   "cell_type": "markdown",
   "metadata": {},
   "source": [
    "*********************"
   ]
  },
  {
   "cell_type": "markdown",
   "metadata": {},
   "source": [
    "* TITULOS"
   ]
  },
  {
   "cell_type": "code",
   "execution_count": null,
   "metadata": {},
   "outputs": [],
   "source": []
  }
 ],
 "metadata": {
  "kernelspec": {
   "display_name": "entorno",
   "language": "python",
   "name": "python3"
  },
  "language_info": {
   "codemirror_mode": {
    "name": "ipython",
    "version": 3
   },
   "file_extension": ".py",
   "mimetype": "text/x-python",
   "name": "python",
   "nbconvert_exporter": "python",
   "pygments_lexer": "ipython3",
   "version": "3.10.10"
  }
 },
 "nbformat": 4,
 "nbformat_minor": 2
}
